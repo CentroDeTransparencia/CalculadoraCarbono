{
 "cells": [
  {
   "cell_type": "markdown",
   "metadata": {},
   "source": [
    "Calculadora de CO2 Centro de Transparencia"
   ]
  },
  {
   "cell_type": "code",
   "execution_count": 2,
   "metadata": {},
   "outputs": [],
   "source": [
    "#Operaciones Estadisticas Matematicas y Algebraicas\n",
    "import numpy.random as rnd\n",
    "import numpy as np\n",
    "import math as m\n",
    "from cmath import sqrt\n",
    "import pandas as pd\n",
    "from cmath import sqrt\n",
    "\n",
    "#Graficar Objetos y Poligonos\n",
    "from matplotlib.patches import Ellipse\n",
    "import plotly.express as px\n",
    "import plotly.graph_objects as go\n",
    "import matplotlib.pyplot as plt\n",
    "#Style\n",
    "plt.style.use(['default'])\n",
    "#plt.style.use(['science','ieee'])"
   ]
  },
  {
   "cell_type": "markdown",
   "metadata": {},
   "source": [
    "Funcion de Hectarea sin Vegetacion"
   ]
  },
  {
   "cell_type": "code",
   "execution_count": 3,
   "metadata": {},
   "outputs": [],
   "source": [
    "#Funcion Hectarea\n",
    "def hectarea(compos1, compos2):\n",
    "    totalpopul = 300\n",
    "    popul1 = int(compos1 * totalpopul)\n",
    "    popul2 = int(compos2 * totalpopul)\n",
    "\n",
    "    alpha1 = 0.1; alpha2 = 0.5\n",
    "    width = 0.2\n",
    "    height1 = width/alpha1; height2 = width/alpha2\n",
    "\n",
    "    ells1 = [Ellipse(xy=rnd.rand(2)*10, width=width, height=height1, angle=rnd.rand()*360)\n",
    "        for i in range(popul1)]\n",
    "\n",
    "    ells2 = [Ellipse(xy=rnd.rand(2)*10, width=width, height=height2, angle=rnd.rand()*360)\n",
    "        for i in range(popul2)]\n",
    "    print(ells1)\n",
    "    print(ells2)\n"
   ]
  },
  {
   "cell_type": "code",
   "execution_count": 4,
   "metadata": {},
   "outputs": [
    {
     "name": "stdout",
     "output_type": "stream",
     "text": [
      "[]\n",
      "[]\n"
     ]
    }
   ],
   "source": [
    "hectarea(0,0)\n"
   ]
  },
  {
   "cell_type": "markdown",
   "metadata": {},
   "source": [
    "Datos de Estructura\n",
    "\n",
    "Definir los labels de Especies y atributos de la tabla"
   ]
  },
  {
   "cell_type": "code",
   "execution_count": 5,
   "metadata": {},
   "outputs": [],
   "source": [
    "#Vegtacion\n",
    "dv = pd.read_csv(\"Datasets/Ecosistemas/Especies_Vegetales_Kale.csv\")\n",
    "dv2 = pd.read_csv(\"Datasets/Ecosistemas/Especies_Vegetales_Platero.csv\")"
   ]
  },
  {
   "cell_type": "code",
   "execution_count": 6,
   "metadata": {},
   "outputs": [
    {
     "data": {
      "text/html": [
       "<div>\n",
       "<style scoped>\n",
       "    .dataframe tbody tr th:only-of-type {\n",
       "        vertical-align: middle;\n",
       "    }\n",
       "\n",
       "    .dataframe tbody tr th {\n",
       "        vertical-align: top;\n",
       "    }\n",
       "\n",
       "    .dataframe thead th {\n",
       "        text-align: right;\n",
       "    }\n",
       "</style>\n",
       "<table border=\"1\" class=\"dataframe\">\n",
       "  <thead>\n",
       "    <tr style=\"text-align: right;\">\n",
       "      <th></th>\n",
       "      <th>Key1</th>\n",
       "      <th>Proyecto</th>\n",
       "      <th>Species</th>\n",
       "      <th>DAP_INDIV</th>\n",
       "      <th>AB_INDIV</th>\n",
       "      <th>VOL_COM</th>\n",
       "      <th>VOL_TOTAL</th>\n",
       "      <th>H_TOTAL</th>\n",
       "      <th>H_FUSTE</th>\n",
       "      <th>BIOM_INDIV</th>\n",
       "      <th>CARB_INDIV</th>\n",
       "      <th>Sum_CARB_INDIV</th>\n",
       "      <th>Sum_ID_INDV_MU</th>\n",
       "      <th>Count_ESPECIE</th>\n",
       "    </tr>\n",
       "  </thead>\n",
       "  <tbody>\n",
       "    <tr>\n",
       "      <th>0</th>\n",
       "      <td>1</td>\n",
       "      <td>EIA PPII - PLATERO sobre YNC</td>\n",
       "      <td>Abarema jupunba (Willd.) Britton &amp; Killip</td>\n",
       "      <td>0.251634</td>\n",
       "      <td>0.062843</td>\n",
       "      <td>6.007111</td>\n",
       "      <td>0.776262</td>\n",
       "      <td>15.272727</td>\n",
       "      <td>9.727273</td>\n",
       "      <td>0.143664</td>\n",
       "      <td>0.071832</td>\n",
       "      <td>0.790151</td>\n",
       "      <td>289</td>\n",
       "      <td>11</td>\n",
       "    </tr>\n",
       "    <tr>\n",
       "      <th>1</th>\n",
       "      <td>2</td>\n",
       "      <td>EIA PPII - PLATERO sobre YNC</td>\n",
       "      <td>Albizia niopoides (Benth.) Burkart</td>\n",
       "      <td>0.227910</td>\n",
       "      <td>0.044153</td>\n",
       "      <td>2.798206</td>\n",
       "      <td>0.704701</td>\n",
       "      <td>22.142857</td>\n",
       "      <td>12.142857</td>\n",
       "      <td>0.087195</td>\n",
       "      <td>0.043598</td>\n",
       "      <td>0.305184</td>\n",
       "      <td>178</td>\n",
       "      <td>7</td>\n",
       "    </tr>\n",
       "  </tbody>\n",
       "</table>\n",
       "</div>"
      ],
      "text/plain": [
       "   Key1                      Proyecto  \\\n",
       "0     1  EIA PPII - PLATERO sobre YNC   \n",
       "1     2  EIA PPII - PLATERO sobre YNC   \n",
       "\n",
       "                                     Species  DAP_INDIV  AB_INDIV   VOL_COM  \\\n",
       "0  Abarema jupunba (Willd.) Britton & Killip   0.251634  0.062843  6.007111   \n",
       "1         Albizia niopoides (Benth.) Burkart   0.227910  0.044153  2.798206   \n",
       "\n",
       "   VOL_TOTAL    H_TOTAL    H_FUSTE  BIOM_INDIV  CARB_INDIV  Sum_CARB_INDIV  \\\n",
       "0   0.776262  15.272727   9.727273    0.143664    0.071832        0.790151   \n",
       "1   0.704701  22.142857  12.142857    0.087195    0.043598        0.305184   \n",
       "\n",
       "   Sum_ID_INDV_MU  Count_ESPECIE  \n",
       "0             289             11  \n",
       "1             178              7  "
      ]
     },
     "execution_count": 6,
     "metadata": {},
     "output_type": "execute_result"
    }
   ],
   "source": [
    "dv.head(2)\n",
    "dv2.head(2)"
   ]
  },
  {
   "cell_type": "code",
   "execution_count": 7,
   "metadata": {},
   "outputs": [
    {
     "data": {
      "text/html": [
       "<div>\n",
       "<style scoped>\n",
       "    .dataframe tbody tr th:only-of-type {\n",
       "        vertical-align: middle;\n",
       "    }\n",
       "\n",
       "    .dataframe tbody tr th {\n",
       "        vertical-align: top;\n",
       "    }\n",
       "\n",
       "    .dataframe thead th {\n",
       "        text-align: right;\n",
       "    }\n",
       "</style>\n",
       "<table border=\"1\" class=\"dataframe\">\n",
       "  <thead>\n",
       "    <tr style=\"text-align: right;\">\n",
       "      <th></th>\n",
       "      <th>Key1</th>\n",
       "      <th>DAP_INDIV</th>\n",
       "      <th>AB_INDIV</th>\n",
       "      <th>VOL_COM</th>\n",
       "      <th>VOL_TOTAL</th>\n",
       "      <th>H_TOTAL</th>\n",
       "      <th>H_FUSTE</th>\n",
       "      <th>BIOM_INDIV</th>\n",
       "      <th>CARB_INDIV</th>\n",
       "      <th>Sum_CARB_INDIV</th>\n",
       "      <th>Sum_ID_INDV_MU</th>\n",
       "      <th>Count_ESPECIE</th>\n",
       "    </tr>\n",
       "  </thead>\n",
       "  <tbody>\n",
       "    <tr>\n",
       "      <th>count</th>\n",
       "      <td>199.000000</td>\n",
       "      <td>199.000000</td>\n",
       "      <td>199.000000</td>\n",
       "      <td>199.000000</td>\n",
       "      <td>199.000000</td>\n",
       "      <td>199.000000</td>\n",
       "      <td>199.000000</td>\n",
       "      <td>199.000000</td>\n",
       "      <td>199.000000</td>\n",
       "      <td>199.000000</td>\n",
       "      <td>199.000000</td>\n",
       "      <td>199.000000</td>\n",
       "    </tr>\n",
       "    <tr>\n",
       "      <th>mean</th>\n",
       "      <td>100.366834</td>\n",
       "      <td>0.205096</td>\n",
       "      <td>0.043264</td>\n",
       "      <td>2.236042</td>\n",
       "      <td>0.501493</td>\n",
       "      <td>14.004418</td>\n",
       "      <td>5.763656</td>\n",
       "      <td>13.337841</td>\n",
       "      <td>6.668921</td>\n",
       "      <td>76.819296</td>\n",
       "      <td>292.472362</td>\n",
       "      <td>12.075377</td>\n",
       "    </tr>\n",
       "    <tr>\n",
       "      <th>std</th>\n",
       "      <td>57.994436</td>\n",
       "      <td>0.086416</td>\n",
       "      <td>0.046516</td>\n",
       "      <td>6.008343</td>\n",
       "      <td>0.613803</td>\n",
       "      <td>3.863904</td>\n",
       "      <td>2.534780</td>\n",
       "      <td>6.168710</td>\n",
       "      <td>3.084355</td>\n",
       "      <td>183.747599</td>\n",
       "      <td>767.731683</td>\n",
       "      <td>29.416537</td>\n",
       "    </tr>\n",
       "    <tr>\n",
       "      <th>min</th>\n",
       "      <td>1.000000</td>\n",
       "      <td>0.101859</td>\n",
       "      <td>0.008149</td>\n",
       "      <td>0.000010</td>\n",
       "      <td>0.034654</td>\n",
       "      <td>6.000000</td>\n",
       "      <td>0.000010</td>\n",
       "      <td>0.000010</td>\n",
       "      <td>0.000005</td>\n",
       "      <td>0.000010</td>\n",
       "      <td>2.000000</td>\n",
       "      <td>1.000000</td>\n",
       "    </tr>\n",
       "    <tr>\n",
       "      <th>25%</th>\n",
       "      <td>50.500000</td>\n",
       "      <td>0.150720</td>\n",
       "      <td>0.018865</td>\n",
       "      <td>0.153985</td>\n",
       "      <td>0.163749</td>\n",
       "      <td>11.267857</td>\n",
       "      <td>4.000000</td>\n",
       "      <td>9.481993</td>\n",
       "      <td>4.740996</td>\n",
       "      <td>10.688657</td>\n",
       "      <td>35.500000</td>\n",
       "      <td>2.000000</td>\n",
       "    </tr>\n",
       "    <tr>\n",
       "      <th>50%</th>\n",
       "      <td>100.000000</td>\n",
       "      <td>0.177239</td>\n",
       "      <td>0.028436</td>\n",
       "      <td>0.635403</td>\n",
       "      <td>0.308205</td>\n",
       "      <td>13.885714</td>\n",
       "      <td>5.825000</td>\n",
       "      <td>11.957194</td>\n",
       "      <td>5.978597</td>\n",
       "      <td>27.767262</td>\n",
       "      <td>106.000000</td>\n",
       "      <td>4.000000</td>\n",
       "    </tr>\n",
       "    <tr>\n",
       "      <th>75%</th>\n",
       "      <td>150.500000</td>\n",
       "      <td>0.237982</td>\n",
       "      <td>0.049165</td>\n",
       "      <td>1.687257</td>\n",
       "      <td>0.565367</td>\n",
       "      <td>16.200000</td>\n",
       "      <td>7.333333</td>\n",
       "      <td>16.114786</td>\n",
       "      <td>8.057393</td>\n",
       "      <td>61.870087</td>\n",
       "      <td>230.000000</td>\n",
       "      <td>10.000000</td>\n",
       "    </tr>\n",
       "    <tr>\n",
       "      <th>max</th>\n",
       "      <td>200.000000</td>\n",
       "      <td>0.623887</td>\n",
       "      <td>0.305705</td>\n",
       "      <td>59.516692</td>\n",
       "      <td>3.637887</td>\n",
       "      <td>30.000000</td>\n",
       "      <td>12.000000</td>\n",
       "      <td>35.590439</td>\n",
       "      <td>17.795219</td>\n",
       "      <td>1664.556583</td>\n",
       "      <td>8205.000000</td>\n",
       "      <td>298.000000</td>\n",
       "    </tr>\n",
       "  </tbody>\n",
       "</table>\n",
       "</div>"
      ],
      "text/plain": [
       "             Key1   DAP_INDIV    AB_INDIV     VOL_COM   VOL_TOTAL     H_TOTAL  \\\n",
       "count  199.000000  199.000000  199.000000  199.000000  199.000000  199.000000   \n",
       "mean   100.366834    0.205096    0.043264    2.236042    0.501493   14.004418   \n",
       "std     57.994436    0.086416    0.046516    6.008343    0.613803    3.863904   \n",
       "min      1.000000    0.101859    0.008149    0.000010    0.034654    6.000000   \n",
       "25%     50.500000    0.150720    0.018865    0.153985    0.163749   11.267857   \n",
       "50%    100.000000    0.177239    0.028436    0.635403    0.308205   13.885714   \n",
       "75%    150.500000    0.237982    0.049165    1.687257    0.565367   16.200000   \n",
       "max    200.000000    0.623887    0.305705   59.516692    3.637887   30.000000   \n",
       "\n",
       "          H_FUSTE  BIOM_INDIV  CARB_INDIV  Sum_CARB_INDIV  Sum_ID_INDV_MU  \\\n",
       "count  199.000000  199.000000  199.000000      199.000000      199.000000   \n",
       "mean     5.763656   13.337841    6.668921       76.819296      292.472362   \n",
       "std      2.534780    6.168710    3.084355      183.747599      767.731683   \n",
       "min      0.000010    0.000010    0.000005        0.000010        2.000000   \n",
       "25%      4.000000    9.481993    4.740996       10.688657       35.500000   \n",
       "50%      5.825000   11.957194    5.978597       27.767262      106.000000   \n",
       "75%      7.333333   16.114786    8.057393       61.870087      230.000000   \n",
       "max     12.000000   35.590439   17.795219     1664.556583     8205.000000   \n",
       "\n",
       "       Count_ESPECIE  \n",
       "count     199.000000  \n",
       "mean       12.075377  \n",
       "std        29.416537  \n",
       "min         1.000000  \n",
       "25%         2.000000  \n",
       "50%         4.000000  \n",
       "75%        10.000000  \n",
       "max       298.000000  "
      ]
     },
     "execution_count": 7,
     "metadata": {},
     "output_type": "execute_result"
    }
   ],
   "source": [
    "dv.describe()"
   ]
  },
  {
   "cell_type": "code",
   "execution_count": 10,
   "metadata": {},
   "outputs": [
    {
     "data": {
      "image/png": "[encoded data removed]",
      "text/plain": [
       "<Figure size 1000x1200 with 3 Axes>"
      ]
     },
     "metadata": {},
     "output_type": "display_data"
    }
   ],
   "source": [
    "# Figure 1: DAP_INDIV_INDIV_INDIV vs Calculos de Biomasa\n",
    "\n",
    "fig1,ax = plt.subplots(3,1,figsize=(10,12))\n",
    "im = ax[0].scatter(dv.DAP_INDIV,dv.BIOM_INDIV,c=dv.DAP_INDIV,cmap='jet')\n",
    "ax[0].set_xlabel('DAP_INDIV_INDIV')\n",
    "ax[0].set_ylabel('BIOM_INDIV (kg)')\n",
    "ax[0].grid(True)\n",
    "#cbar0 = plt.colorbar(im)\n",
    "#cbar0.set_label('Especie')\n",
    "\n",
    "im1 = ax[1].scatter(dv.DAP_INDIV,dv.H_TOTAL\t,c=dv.DAP_INDIV,cmap='jet')\n",
    "ax[1].set_xlabel('DAP_INDIV')\n",
    "ax[1].set_ylabel('H_TOTAL')\n",
    "ax[1].grid(True)\n",
    "#cbar2 = plt.colorbar(im1)\n",
    "#cbar2.set_label('Especie')\n",
    "\n",
    "im2 = ax[2].scatter(dv.DAP_INDIV,dv.H_FUSTE ,c=dv.DAP_INDIV,cmap='jet')\n",
    "ax[2].set_xlabel('DAP_INDIV')\n",
    "ax[2].set_ylabel('H_FUSTE')\n",
    "ax[2].grid(True)\n",
    "#cbar1 = plt.colorbar(im2)\n",
    "#cbar1.set_label('Especie')"
   ]
  },
  {
   "cell_type": "code",
   "execution_count": 35,
   "metadata": {},
   "outputs": [
    {
     "data": {
      "image/png": "[encoded data removed]",
      "text/plain": [
       "<Figure size 1000x1200 with 3 Axes>"
      ]
     },
     "metadata": {},
     "output_type": "display_data"
    }
   ],
   "source": [
    "# Figure 2: DAP_INDIV_INDIV vs Calculos de Biomasa\n",
    "\n",
    "fig1,ax = plt.subplots(3,1,figsize=(10,12))\n",
    "im = ax[0].scatter(dv2.DAP_INDIV,dv2.BIOM_INDIV,c=dv2.DAP_INDIV,cmap='jet')\n",
    "ax[0].set_xlabel('DAP_INDIV')\n",
    "ax[0].set_ylabel('BIOM_INDIV (kg)')\n",
    "ax[0].grid(True)\n",
    "#cbar0 = plt.colorbar(im)\n",
    "#cbar0.set_label('Especie')\n",
    "\n",
    "im1 = ax[1].scatter(dv2.DAP_INDIV,dv2.H_TOTAL\t,c=dv2.DAP_INDIV,cmap='jet')\n",
    "ax[1].set_xlabel('DAP_INDIV')\n",
    "ax[1].set_ylabel('H_TOTAL')\n",
    "ax[1].grid(True)\n",
    "#cbar2 = plt.colorbar(im1)\n",
    "#cbar2.set_label('Especie')\n",
    "\n",
    "im2 = ax[2].scatter(dv2.DAP_INDIV,dv2.H_FUSTE ,c=dv2.DAP_INDIV,cmap='jet')\n",
    "ax[2].set_xlabel('DAP_INDIV')\n",
    "ax[2].set_ylabel('H_FUSTE')\n",
    "ax[2].grid(True)\n",
    "#cbar1 = plt.colorbar(im2)\n",
    "#cbar1.set_label('Especie')"
   ]
  },
  {
   "cell_type": "code",
   "execution_count": 45,
   "metadata": {},
   "outputs": [
    {
     "data": {
      "application/vnd.plotly.v1+json": {
       "config": {
        "plotlyServerURL": "https://plot.ly"
       },
       "data": [
        {
         "hovertemplate": "Species=Abarema jupunba (Willd.) Britton & Killip<br>DAP_INDIV=%{x}<br>BIOM_INDIV=%{y}<br>H_TOTAL=%{z}<extra></extra>",
         "legendgroup": "Abarema jupunba (Willd.) Britton & Killip",
         "marker": {
          "color": "#636efa",
          "symbol": "circle"
         },
         "mode": "markers",
         "name": "Abarema jupunba (Willd.) Britton & Killip",
         "scene": "scene",
         "showlegend": true,
         "type": "scatter3d",
         "x": [
          0.200624978
         ],
         "y": [
          19.71682421
         ],
         "z": [
          18.33333333
         ]
        },
        {
         "hovertemplate": "Species=Albizia niopoides (Benth.) Burkart<br>DAP_INDIV=%{x}<br>BIOM_INDIV=%{y}<br>H_TOTAL=%{z}<extra></extra>",
         "legendgroup": "Albizia niopoides (Benth.) Burkart",
         "marker": {
          "color": "#EF553B",
          "symbol": "circle"
         },
         "mode": "markers",
         "name": "Albizia niopoides (Benth.) Burkart",
         "scene": "scene",
         "showlegend": true,
         "type": "scatter3d",
         "x": [
          0.2342182
         ],
         "y": [
          25.10418701
         ],
         "z": [
          22.72727273
         ]
        },
        {
         "hovertemplate": "Species=Alchornea cf. triplinervia (Spreng.) Müll. Arg.<br>DAP_INDIV=%{x}<br>BIOM_INDIV=%{y}<br>H_TOTAL=%{z}<extra></extra>",
         "legendgroup": "Alchornea cf. triplinervia (Spreng.) Müll. Arg.",
         "marker": {
          "color": "#00cc96",
          "symbol": "circle"
         },
         "mode": "markers",
         "name": "Alchornea cf. triplinervia (Spreng.) Müll. Arg.",
         "scene": "scene",
         "showlegend": true,
         "type": "scatter3d",
         "x": [
          0.175964122
         ],
         "y": [
          12.1665648
         ],
         "z": [
          15.8
         ]
        },
        {
         "hovertemplate": "Species=Alchornea triplinervia (Spreng.) Mull. Arg.<br>DAP_INDIV=%{x}<br>BIOM_INDIV=%{y}<br>H_TOTAL=%{z}<extra></extra>",
         "legendgroup": "Alchornea triplinervia (Spreng.) Mull. Arg.",
         "marker": {
          "color": "#ab63fa",
          "symbol": "circle"
         },
         "mode": "markers",
         "name": "Alchornea triplinervia (Spreng.) Mull. Arg.",
         "scene": "scene",
         "showlegend": true,
         "type": "scatter3d",
         "x": [
          0.19430166
         ],
         "y": [
          9.8422604
         ],
         "z": [
          12.75
         ]
        },
        {
         "hovertemplate": "Species=Amaioua corymbosa Kunt.<br>DAP_INDIV=%{x}<br>BIOM_INDIV=%{y}<br>H_TOTAL=%{z}<extra></extra>",
         "legendgroup": "Amaioua corymbosa Kunt.",
         "marker": {
          "color": "#FFA15A",
          "symbol": "circle"
         },
         "mode": "markers",
         "name": "Amaioua corymbosa Kunt.",
         "scene": "scene",
         "showlegend": true,
         "type": "scatter3d",
         "x": [
          0.183128515
         ],
         "y": [
          10.25862963
         ],
         "z": [
          8.647058824
         ]
        },
        {
         "hovertemplate": "Species=Anacardium excelsum (Bertero ex Kunt.h) Skeels<br>DAP_INDIV=%{x}<br>BIOM_INDIV=%{y}<br>H_TOTAL=%{z}<extra></extra>",
         "legendgroup": "Anacardium excelsum (Bertero ex Kunt.h) Skeels",
         "marker": {
          "color": "#19d3f3",
          "symbol": "circle"
         },
         "mode": "markers",
         "name": "Anacardium excelsum (Bertero ex Kunt.h) Skeels",
         "scene": "scene",
         "showlegend": true,
         "type": "scatter3d",
         "x": [
          0.289900728
         ],
         "y": [
          18.62551665
         ],
         "z": [
          20.75
         ]
        },
        {
         "hovertemplate": "Species=Andira chigorodensis R.T. Penn.<br>DAP_INDIV=%{x}<br>BIOM_INDIV=%{y}<br>H_TOTAL=%{z}<extra></extra>",
         "legendgroup": "Andira chigorodensis R.T. Penn.",
         "marker": {
          "color": "#FF6692",
          "symbol": "circle"
         },
         "mode": "markers",
         "name": "Andira chigorodensis R.T. Penn.",
         "scene": "scene",
         "showlegend": true,
         "type": "scatter3d",
         "x": [
          0.149048606
         ],
         "y": [
          13.82222199
         ],
         "z": [
          12.5
         ]
        },
        {
         "hovertemplate": "Species=Andira inermis (Wright) DC.<br>DAP_INDIV=%{x}<br>BIOM_INDIV=%{y}<br>H_TOTAL=%{z}<extra></extra>",
         "legendgroup": "Andira inermis (Wright) DC.",
         "marker": {
          "color": "#B6E880",
          "symbol": "circle"
         },
         "mode": "markers",
         "name": "Andira inermis (Wright) DC.",
         "scene": "scene",
         "showlegend": true,
         "type": "scatter3d",
         "x": [
          0.122557808
         ],
         "y": [
          10.32455319
         ],
         "z": [
          10.09090909
         ]
        },
        {
         "hovertemplate": "Species=Aniba paraensis (Meissner) Mel.<br>DAP_INDIV=%{x}<br>BIOM_INDIV=%{y}<br>H_TOTAL=%{z}<extra></extra>",
         "legendgroup": "Aniba paraensis (Meissner) Mel.",
         "marker": {
          "color": "#FF97FF",
          "symbol": "circle"
         },
         "mode": "markers",
         "name": "Aniba paraensis (Meissner) Mel.",
         "scene": "scene",
         "showlegend": true,
         "type": "scatter3d",
         "x": [
          0.206981003
         ],
         "y": [
          16.05924988
         ],
         "z": [
          18
         ]
        },
        {
         "hovertemplate": "Species=Annona cf. reticulata Willd.<br>DAP_INDIV=%{x}<br>BIOM_INDIV=%{y}<br>H_TOTAL=%{z}<extra></extra>",
         "legendgroup": "Annona cf. reticulata Willd.",
         "marker": {
          "color": "#FECB52",
          "symbol": "circle"
         },
         "mode": "markers",
         "name": "Annona cf. reticulata Willd.",
         "scene": "scene",
         "showlegend": true,
         "type": "scatter3d",
         "x": [
          0.110195134
         ],
         "y": [
          7.596940279
         ],
         "z": [
          10.5
         ]
        },
        {
         "hovertemplate": "Species=Apeiba membranacea Benth.<br>DAP_INDIV=%{x}<br>BIOM_INDIV=%{y}<br>H_TOTAL=%{z}<extra></extra>",
         "legendgroup": "Apeiba membranacea Benth.",
         "marker": {
          "color": "#636efa",
          "symbol": "circle"
         },
         "mode": "markers",
         "name": "Apeiba membranacea Benth.",
         "scene": "scene",
         "showlegend": true,
         "type": "scatter3d",
         "x": [
          0.130666208
         ],
         "y": [
          6.231890917
         ],
         "z": [
          10.5
         ]
        },
        {
         "hovertemplate": "Species=Apuleia leiocarpa (Vogel) J.F. Macbr.<br>DAP_INDIV=%{x}<br>BIOM_INDIV=%{y}<br>H_TOTAL=%{z}<extra></extra>",
         "legendgroup": "Apuleia leiocarpa (Vogel) J.F. Macbr.",
         "marker": {
          "color": "#EF553B",
          "symbol": "circle"
         },
         "mode": "markers",
         "name": "Apuleia leiocarpa (Vogel) J.F. Macbr.",
         "scene": "scene",
         "showlegend": true,
         "type": "scatter3d",
         "x": [
          0.303349316
         ],
         "y": [
          35.36516953
         ],
         "z": [
          25
         ]
        },
        {
         "hovertemplate": "Species=Aspidosperma cf., darienense Woodson ex Dwyer<br>DAP_INDIV=%{x}<br>BIOM_INDIV=%{y}<br>H_TOTAL=%{z}<extra></extra>",
         "legendgroup": "Aspidosperma cf., darienense Woodson ex Dwyer",
         "marker": {
          "color": "#00cc96",
          "symbol": "circle"
         },
         "mode": "markers",
         "name": "Aspidosperma cf., darienense Woodson ex Dwyer",
         "scene": "scene",
         "showlegend": true,
         "type": "scatter3d",
         "x": [
          0.300802857
         ],
         "y": [
          24.92964745
         ],
         "z": [
          25
         ]
        },
        {
         "hovertemplate": "Species=Aspidosperma polyneuron Müll.Arg.<br>DAP_INDIV=%{x}<br>BIOM_INDIV=%{y}<br>H_TOTAL=%{z}<extra></extra>",
         "legendgroup": "Aspidosperma polyneuron Müll.Arg.",
         "marker": {
          "color": "#ab63fa",
          "symbol": "circle"
         },
         "mode": "markers",
         "name": "Aspidosperma polyneuron Müll.Arg.",
         "scene": "scene",
         "showlegend": true,
         "type": "scatter3d",
         "x": [
          0.16769132
         ],
         "y": [
          8.400290489
         ],
         "z": [
          7
         ]
        },
        {
         "hovertemplate": "Species=Astronium graveolens Jacq.<br>DAP_INDIV=%{x}<br>BIOM_INDIV=%{y}<br>H_TOTAL=%{z}<extra></extra>",
         "legendgroup": "Astronium graveolens Jacq.",
         "marker": {
          "color": "#FFA15A",
          "symbol": "circle"
         },
         "mode": "markers",
         "name": "Astronium graveolens Jacq.",
         "scene": "scene",
         "showlegend": true,
         "type": "scatter3d",
         "x": [
          0.254647918
         ],
         "y": [
          22.86561521
         ],
         "z": [
          16.33333333
         ]
        },
        {
         "hovertemplate": "Species=Attalea butyracea (Mutis ex L. f.) Wess. Boer<br>DAP_INDIV=%{x}<br>BIOM_INDIV=%{y}<br>H_TOTAL=%{z}<extra></extra>",
         "legendgroup": "Attalea butyracea (Mutis ex L. f.) Wess. Boer",
         "marker": {
          "color": "#19d3f3",
          "symbol": "circle"
         },
         "mode": "markers",
         "name": "Attalea butyracea (Mutis ex L. f.) Wess. Boer",
         "scene": "scene",
         "showlegend": true,
         "type": "scatter3d",
         "x": [
          0.244621158
         ],
         "y": [
          5.581006527
         ],
         "z": [
          10
         ]
        },
        {
         "hovertemplate": "Species=Bactris sp.<br>DAP_INDIV=%{x}<br>BIOM_INDIV=%{y}<br>H_TOTAL=%{z}<extra></extra>",
         "legendgroup": "Bactris sp.",
         "marker": {
          "color": "#FF6692",
          "symbol": "circle"
         },
         "mode": "markers",
         "name": "Bactris sp.",
         "scene": "scene",
         "showlegend": true,
         "type": "scatter3d",
         "x": [
          0.1527244
         ],
         "y": [
          9.703914642
         ],
         "z": [
          14
         ]
        },
        {
         "hovertemplate": "Species=Bellucia pentamera Naudin.<br>DAP_INDIV=%{x}<br>BIOM_INDIV=%{y}<br>H_TOTAL=%{z}<extra></extra>",
         "legendgroup": "Bellucia pentamera Naudin.",
         "marker": {
          "color": "#B6E880",
          "symbol": "circle"
         },
         "mode": "markers",
         "name": "Bellucia pentamera Naudin.",
         "scene": "scene",
         "showlegend": true,
         "type": "scatter3d",
         "x": [
          0.148428102
         ],
         "y": [
          7.405256205
         ],
         "z": [
          9.308510638
         ]
        },
        {
         "hovertemplate": "Species=Brosimum guianense (Aubl.) Ducke<br>DAP_INDIV=%{x}<br>BIOM_INDIV=%{y}<br>H_TOTAL=%{z}<extra></extra>",
         "legendgroup": "Brosimum guianense (Aubl.) Ducke",
         "marker": {
          "color": "#FF97FF",
          "symbol": "circle"
         },
         "mode": "markers",
         "name": "Brosimum guianense (Aubl.) Ducke",
         "scene": "scene",
         "showlegend": true,
         "type": "scatter3d",
         "x": [
          0.202922555
         ],
         "y": [
          26.66192007
         ],
         "z": [
          20
         ]
        },
        {
         "hovertemplate": "Species=Buchenavia cf., tetraphylla (Aubl.) R.A.Howard<br>DAP_INDIV=%{x}<br>BIOM_INDIV=%{y}<br>H_TOTAL=%{z}<extra></extra>",
         "legendgroup": "Buchenavia cf., tetraphylla (Aubl.) R.A.Howard",
         "marker": {
          "color": "#FECB52",
          "symbol": "circle"
         },
         "mode": "markers",
         "name": "Buchenavia cf., tetraphylla (Aubl.) R.A.Howard",
         "scene": "scene",
         "showlegend": true,
         "type": "scatter3d",
         "x": [
          0.369876087
         ],
         "y": [
          21.03513145
         ],
         "z": [
          17
         ]
        },
        {
         "hovertemplate": "Species=Bursera simaruba (L.) Sarg.<br>DAP_INDIV=%{x}<br>BIOM_INDIV=%{y}<br>H_TOTAL=%{z}<extra></extra>",
         "legendgroup": "Bursera simaruba (L.) Sarg.",
         "marker": {
          "color": "#636efa",
          "symbol": "circle"
         },
         "mode": "markers",
         "name": "Bursera simaruba (L.) Sarg.",
         "scene": "scene",
         "showlegend": true,
         "type": "scatter3d",
         "x": [
          0.207856357
         ],
         "y": [
          8.522572041
         ],
         "z": [
          16
         ]
        },
        {
         "hovertemplate": "Species=Byrsonima spicata (Cav.) DC.<br>DAP_INDIV=%{x}<br>BIOM_INDIV=%{y}<br>H_TOTAL=%{z}<extra></extra>",
         "legendgroup": "Byrsonima spicata (Cav.) DC.",
         "marker": {
          "color": "#EF553B",
          "symbol": "circle"
         },
         "mode": "markers",
         "name": "Byrsonima spicata (Cav.) DC.",
         "scene": "scene",
         "showlegend": true,
         "type": "scatter3d",
         "x": [
          0.191001091
         ],
         "y": [
          12.47645446
         ],
         "z": [
          12.80952381
         ]
        },
        {
         "hovertemplate": "Species=Byrsonima crassifolia (L.) Kunth.<br>DAP_INDIV=%{x}<br>BIOM_INDIV=%{y}<br>H_TOTAL=%{z}<extra></extra>",
         "legendgroup": "Byrsonima crassifolia (L.) Kunth.",
         "marker": {
          "color": "#00cc96",
          "symbol": "circle"
         },
         "mode": "markers",
         "name": "Byrsonima crassifolia (L.) Kunth.",
         "scene": "scene",
         "showlegend": true,
         "type": "scatter3d",
         "x": [
          0.138783112
         ],
         "y": [
          4.88513279
         ],
         "z": [
          6
         ]
        },
        {
         "hovertemplate": "Species=Calophyllum brasiliense Cambess.<br>DAP_INDIV=%{x}<br>BIOM_INDIV=%{y}<br>H_TOTAL=%{z}<extra></extra>",
         "legendgroup": "Calophyllum brasiliense Cambess.",
         "marker": {
          "color": "#ab63fa",
          "symbol": "circle"
         },
         "mode": "markers",
         "name": "Calophyllum brasiliense Cambess.",
         "scene": "scene",
         "showlegend": true,
         "type": "scatter3d",
         "x": [
          0.226057893
         ],
         "y": [
          15.53423298
         ],
         "z": [
          16.22727273
         ]
        },
        {
         "hovertemplate": "Species=Casearia aculeata Jacq.<br>DAP_INDIV=%{x}<br>BIOM_INDIV=%{y}<br>H_TOTAL=%{z}<extra></extra>",
         "legendgroup": "Casearia aculeata Jacq.",
         "marker": {
          "color": "#FFA15A",
          "symbol": "circle"
         },
         "mode": "markers",
         "name": "Casearia aculeata Jacq.",
         "scene": "scene",
         "showlegend": true,
         "type": "scatter3d",
         "x": [
          0.164270349
         ],
         "y": [
          11.81376648
         ],
         "z": [
          11.5
         ]
        },
        {
         "hovertemplate": "Species=Casearia corymbosa Kunth<br>DAP_INDIV=%{x}<br>BIOM_INDIV=%{y}<br>H_TOTAL=%{z}<extra></extra>",
         "legendgroup": "Casearia corymbosa Kunth",
         "marker": {
          "color": "#19d3f3",
          "symbol": "circle"
         },
         "mode": "markers",
         "name": "Casearia corymbosa Kunth",
         "scene": "scene",
         "showlegend": true,
         "type": "scatter3d",
         "x": [
          0.155080575
         ],
         "y": [
          8.350021839
         ],
         "z": [
          10
         ]
        },
        {
         "hovertemplate": "Species=Casearia javitensis Kunth.<br>DAP_INDIV=%{x}<br>BIOM_INDIV=%{y}<br>H_TOTAL=%{z}<extra></extra>",
         "legendgroup": "Casearia javitensis Kunth.",
         "marker": {
          "color": "#FF6692",
          "symbol": "circle"
         },
         "mode": "markers",
         "name": "Casearia javitensis Kunth.",
         "scene": "scene",
         "showlegend": true,
         "type": "scatter3d",
         "x": [
          0.145281363
         ],
         "y": [
          14.4944278
         ],
         "z": [
          12.75
         ]
        },
        {
         "hovertemplate": "Species=Cecropia engleriana Snethl.<br>DAP_INDIV=%{x}<br>BIOM_INDIV=%{y}<br>H_TOTAL=%{z}<extra></extra>",
         "legendgroup": "Cecropia engleriana Snethl.",
         "marker": {
          "color": "#B6E880",
          "symbol": "circle"
         },
         "mode": "markers",
         "name": "Cecropia engleriana Snethl.",
         "scene": "scene",
         "showlegend": true,
         "type": "scatter3d",
         "x": [
          0.198432678
         ],
         "y": [
          12.47720679
         ],
         "z": [
          15.82786885
         ]
        },
        {
         "hovertemplate": "Species=Cecropia ficifolia Warb. ex Snethl.<br>DAP_INDIV=%{x}<br>BIOM_INDIV=%{y}<br>H_TOTAL=%{z}<extra></extra>",
         "legendgroup": "Cecropia ficifolia Warb. ex Snethl.",
         "marker": {
          "color": "#FF97FF",
          "symbol": "circle"
         },
         "mode": "markers",
         "name": "Cecropia ficifolia Warb. ex Snethl.",
         "scene": "scene",
         "showlegend": true,
         "type": "scatter3d",
         "x": [
          0.306195167
         ],
         "y": [
          8.85261929
         ],
         "z": [
          18
         ]
        },
        {
         "hovertemplate": "Species=Cecropia membranacea Trécul<br>DAP_INDIV=%{x}<br>BIOM_INDIV=%{y}<br>H_TOTAL=%{z}<extra></extra>",
         "legendgroup": "Cecropia membranacea Trécul",
         "marker": {
          "color": "#FECB52",
          "symbol": "circle"
         },
         "mode": "markers",
         "name": "Cecropia membranacea Trécul",
         "scene": "scene",
         "showlegend": true,
         "type": "scatter3d",
         "x": [
          0.111408457
         ],
         "y": [
          4.796873093
         ],
         "z": [
          10
         ]
        },
        {
         "hovertemplate": "Species=Cecropia peltata L.<br>DAP_INDIV=%{x}<br>BIOM_INDIV=%{y}<br>H_TOTAL=%{z}<extra></extra>",
         "legendgroup": "Cecropia peltata L.",
         "marker": {
          "color": "#636efa",
          "symbol": "circle"
         },
         "mode": "markers",
         "name": "Cecropia peltata L.",
         "scene": "scene",
         "showlegend": true,
         "type": "scatter3d",
         "x": [
          0.157881702
         ],
         "y": [
          4.898589179
         ],
         "z": [
          11.3125
         ]
        },
        {
         "hovertemplate": "Species=Cedrela odorata L.<br>DAP_INDIV=%{x}<br>BIOM_INDIV=%{y}<br>H_TOTAL=%{z}<extra></extra>",
         "legendgroup": "Cedrela odorata L.",
         "marker": {
          "color": "#EF553B",
          "symbol": "circle"
         },
         "mode": "markers",
         "name": "Cedrela odorata L.",
         "scene": "scene",
         "showlegend": true,
         "type": "scatter3d",
         "x": [
          0.257576361
         ],
         "y": [
          16.55842009
         ],
         "z": [
          21.8
         ]
        },
        {
         "hovertemplate": "Species=Ceiba pentandra (L.) Gaertn.<br>DAP_INDIV=%{x}<br>BIOM_INDIV=%{y}<br>H_TOTAL=%{z}<extra></extra>",
         "legendgroup": "Ceiba pentandra (L.) Gaertn.",
         "marker": {
          "color": "#00cc96",
          "symbol": "circle"
         },
         "mode": "markers",
         "name": "Ceiba pentandra (L.) Gaertn.",
         "scene": "scene",
         "showlegend": true,
         "type": "scatter3d",
         "x": [
          0.238095798
         ],
         "y": [
          9.764783382
         ],
         "z": [
          15
         ]
        },
        {
         "hovertemplate": "Species=Centrolobium paraense Tul.<br>DAP_INDIV=%{x}<br>BIOM_INDIV=%{y}<br>H_TOTAL=%{z}<extra></extra>",
         "legendgroup": "Centrolobium paraense Tul.",
         "marker": {
          "color": "#ab63fa",
          "symbol": "circle"
         },
         "mode": "markers",
         "name": "Centrolobium paraense Tul.",
         "scene": "scene",
         "showlegend": true,
         "type": "scatter3d",
         "x": [
          0.151197195
         ],
         "y": [
          16.44209925
         ],
         "z": [
          15.66666667
         ]
        },
        {
         "hovertemplate": "Species=Chrysophyllum cainito L.<br>DAP_INDIV=%{x}<br>BIOM_INDIV=%{y}<br>H_TOTAL=%{z}<extra></extra>",
         "legendgroup": "Chrysophyllum cainito L.",
         "marker": {
          "color": "#FFA15A",
          "symbol": "circle"
         },
         "mode": "markers",
         "name": "Chrysophyllum cainito L.",
         "scene": "scene",
         "showlegend": true,
         "type": "scatter3d",
         "x": [
          0.164593446
         ],
         "y": [
          9.942815099
         ],
         "z": [
          11.16071429
         ]
        },
        {
         "hovertemplate": "Species=Clathrotropis brunnea Amshoff<br>DAP_INDIV=%{x}<br>BIOM_INDIV=%{y}<br>H_TOTAL=%{z}<extra></extra>",
         "legendgroup": "Clathrotropis brunnea Amshoff",
         "marker": {
          "color": "#19d3f3",
          "symbol": "circle"
         },
         "mode": "markers",
         "name": "Clathrotropis brunnea Amshoff",
         "scene": "scene",
         "showlegend": true,
         "type": "scatter3d",
         "x": [
          0.259468028
         ],
         "y": [
          26.73094831
         ],
         "z": [
          18.0952381
         ]
        },
        {
         "hovertemplate": "Species=Coccoloba acuminata Kunth.<br>DAP_INDIV=%{x}<br>BIOM_INDIV=%{y}<br>H_TOTAL=%{z}<extra></extra>",
         "legendgroup": "Coccoloba acuminata Kunth.",
         "marker": {
          "color": "#FF6692",
          "symbol": "circle"
         },
         "mode": "markers",
         "name": "Coccoloba acuminata Kunth.",
         "scene": "scene",
         "showlegend": true,
         "type": "scatter3d",
         "x": [
          0.166262695
         ],
         "y": [
          10.38520266
         ],
         "z": [
          11.73333333
         ]
        },
        {
         "hovertemplate": "Species=Coccoloba caracasana Meisn<br>DAP_INDIV=%{x}<br>BIOM_INDIV=%{y}<br>H_TOTAL=%{z}<extra></extra>",
         "legendgroup": "Coccoloba caracasana Meisn",
         "marker": {
          "color": "#B6E880",
          "symbol": "circle"
         },
         "mode": "markers",
         "name": "Coccoloba caracasana Meisn",
         "scene": "scene",
         "showlegend": true,
         "type": "scatter3d",
         "x": [
          0.144381504
         ],
         "y": [
          6.66188676
         ],
         "z": [
          10.57142857
         ]
        },
        {
         "hovertemplate": "Species=Cordia collococca L.<br>DAP_INDIV=%{x}<br>BIOM_INDIV=%{y}<br>H_TOTAL=%{z}<extra></extra>",
         "legendgroup": "Cordia collococca L.",
         "marker": {
          "color": "#FF97FF",
          "symbol": "circle"
         },
         "mode": "markers",
         "name": "Cordia collococca L.",
         "scene": "scene",
         "showlegend": true,
         "type": "scatter3d",
         "x": [
          0.137830237
         ],
         "y": [
          6.142268777
         ],
         "z": [
          9
         ]
        },
        {
         "hovertemplate": "Species=Cordia panamensis L.Riley<br>DAP_INDIV=%{x}<br>BIOM_INDIV=%{y}<br>H_TOTAL=%{z}<extra></extra>",
         "legendgroup": "Cordia panamensis L.Riley",
         "marker": {
          "color": "#FECB52",
          "symbol": "circle"
         },
         "mode": "markers",
         "name": "Cordia panamensis L.Riley",
         "scene": "scene",
         "showlegend": true,
         "type": "scatter3d",
         "x": [
          0.34743535
         ],
         "y": [
          20.84974162
         ],
         "z": [
          17.33333333
         ]
        },
        {
         "hovertemplate": "Species=Cordia gerascanthus L.<br>DAP_INDIV=%{x}<br>BIOM_INDIV=%{y}<br>H_TOTAL=%{z}<extra></extra>",
         "legendgroup": "Cordia gerascanthus L.",
         "marker": {
          "color": "#636efa",
          "symbol": "circle"
         },
         "mode": "markers",
         "name": "Cordia gerascanthus L.",
         "scene": "scene",
         "showlegend": true,
         "type": "scatter3d",
         "x": [
          0.362373066
         ],
         "y": [
          24.69094808
         ],
         "z": [
          16.28571429
         ]
        },
        {
         "hovertemplate": "Species=Couma macrocarpa Barb. Rodr.<br>DAP_INDIV=%{x}<br>BIOM_INDIV=%{y}<br>H_TOTAL=%{z}<extra></extra>",
         "legendgroup": "Couma macrocarpa Barb. Rodr.",
         "marker": {
          "color": "#EF553B",
          "symbol": "circle"
         },
         "mode": "markers",
         "name": "Couma macrocarpa Barb. Rodr.",
         "scene": "scene",
         "showlegend": true,
         "type": "scatter3d",
         "x": [
          0.202303617
         ],
         "y": [
          14.04004526
         ],
         "z": [
          16.66666667
         ]
        },
        {
         "hovertemplate": "Species=Couratari guianensis Aubl.<br>DAP_INDIV=%{x}<br>BIOM_INDIV=%{y}<br>H_TOTAL=%{z}<extra></extra>",
         "legendgroup": "Couratari guianensis Aubl.",
         "marker": {
          "color": "#00cc96",
          "symbol": "circle"
         },
         "mode": "markers",
         "name": "Couratari guianensis Aubl.",
         "scene": "scene",
         "showlegend": true,
         "type": "scatter3d",
         "x": [
          0.161988349
         ],
         "y": [
          8.78996618
         ],
         "z": [
          11.07692308
         ]
        },
        {
         "hovertemplate": "Species=Croton schiedeanus Schltdl.<br>DAP_INDIV=%{x}<br>BIOM_INDIV=%{y}<br>H_TOTAL=%{z}<extra></extra>",
         "legendgroup": "Croton schiedeanus Schltdl.",
         "marker": {
          "color": "#ab63fa",
          "symbol": "circle"
         },
         "mode": "markers",
         "name": "Croton schiedeanus Schltdl.",
         "scene": "scene",
         "showlegend": true,
         "type": "scatter3d",
         "x": [
          0.290829132
         ],
         "y": [
          11.49318727
         ],
         "z": [
          16
         ]
        },
        {
         "hovertemplate": "Species=Crudia glaberrima (Steud) J.F.Macbr.<br>DAP_INDIV=%{x}<br>BIOM_INDIV=%{y}<br>H_TOTAL=%{z}<extra></extra>",
         "legendgroup": "Crudia glaberrima (Steud) J.F.Macbr.",
         "marker": {
          "color": "#FFA15A",
          "symbol": "circle"
         },
         "mode": "markers",
         "name": "Crudia glaberrima (Steud) J.F.Macbr.",
         "scene": "scene",
         "showlegend": true,
         "type": "scatter3d",
         "x": [
          0.181224431
         ],
         "y": [
          18.34879684
         ],
         "z": [
          15.33333333
         ]
        },
        {
         "hovertemplate": "Species=Cupania americana L.<br>DAP_INDIV=%{x}<br>BIOM_INDIV=%{y}<br>H_TOTAL=%{z}<extra></extra>",
         "legendgroup": "Cupania americana L.",
         "marker": {
          "color": "#19d3f3",
          "symbol": "circle"
         },
         "mode": "markers",
         "name": "Cupania americana L.",
         "scene": "scene",
         "showlegend": true,
         "type": "scatter3d",
         "x": [
          0.136420272
         ],
         "y": [
          11.14623426
         ],
         "z": [
          10.5
         ]
        },
        {
         "hovertemplate": "Species=Dendrobangia boliviana Rusby<br>DAP_INDIV=%{x}<br>BIOM_INDIV=%{y}<br>H_TOTAL=%{z}<extra></extra>",
         "legendgroup": "Dendrobangia boliviana Rusby",
         "marker": {
          "color": "#FF6692",
          "symbol": "circle"
         },
         "mode": "markers",
         "name": "Dendrobangia boliviana Rusby",
         "scene": "scene",
         "showlegend": true,
         "type": "scatter3d",
         "x": [
          0.136236632
         ],
         "y": [
          11.83418441
         ],
         "z": [
          12.75
         ]
        },
        {
         "hovertemplate": "Species=Dendrobangia cf., boliviana Rusby<br>DAP_INDIV=%{x}<br>BIOM_INDIV=%{y}<br>H_TOTAL=%{z}<extra></extra>",
         "legendgroup": "Dendrobangia cf., boliviana Rusby",
         "marker": {
          "color": "#B6E880",
          "symbol": "circle"
         },
         "mode": "markers",
         "name": "Dendrobangia cf., boliviana Rusby",
         "scene": "scene",
         "showlegend": true,
         "type": "scatter3d",
         "x": [
          0.420169055
         ],
         "y": [
          20.14557076
         ],
         "z": [
          15
         ]
        },
        {
         "hovertemplate": "Species=Dendropanax caucanus (Harms) Harms<br>DAP_INDIV=%{x}<br>BIOM_INDIV=%{y}<br>H_TOTAL=%{z}<extra></extra>",
         "legendgroup": "Dendropanax caucanus (Harms) Harms",
         "marker": {
          "color": "#FF97FF",
          "symbol": "circle"
         },
         "mode": "markers",
         "name": "Dendropanax caucanus (Harms) Harms",
         "scene": "scene",
         "showlegend": true,
         "type": "scatter3d",
         "x": [
          0.133690149
         ],
         "y": [
          6.449591637
         ],
         "z": [
          9
         ]
        },
        {
         "hovertemplate": "Species=Discophora guianensis Miers<br>DAP_INDIV=%{x}<br>BIOM_INDIV=%{y}<br>H_TOTAL=%{z}<extra></extra>",
         "legendgroup": "Discophora guianensis Miers",
         "marker": {
          "color": "#FECB52",
          "symbol": "circle"
         },
         "mode": "markers",
         "name": "Discophora guianensis Miers",
         "scene": "scene",
         "showlegend": true,
         "type": "scatter3d",
         "x": [
          0.222976074
         ],
         "y": [
          19.37680674
         ],
         "z": [
          20
         ]
        },
        {
         "hovertemplate": "Species=Elaeis guineensis Jacq.<br>DAP_INDIV=%{x}<br>BIOM_INDIV=%{y}<br>H_TOTAL=%{z}<extra></extra>",
         "legendgroup": "Elaeis guineensis Jacq.",
         "marker": {
          "color": "#636efa",
          "symbol": "circle"
         },
         "mode": "markers",
         "name": "Elaeis guineensis Jacq.",
         "scene": "scene",
         "showlegend": true,
         "type": "scatter3d",
         "x": [
          0.460912704
         ],
         "y": [
          13.17006969
         ],
         "z": [
          13.5
         ]
        },
        {
         "hovertemplate": "Species=Enterolobium cyclocarpum (Jacq.) Griseb.<br>DAP_INDIV=%{x}<br>BIOM_INDIV=%{y}<br>H_TOTAL=%{z}<extra></extra>",
         "legendgroup": "Enterolobium cyclocarpum (Jacq.) Griseb.",
         "marker": {
          "color": "#EF553B",
          "symbol": "circle"
         },
         "mode": "markers",
         "name": "Enterolobium cyclocarpum (Jacq.) Griseb.",
         "scene": "scene",
         "showlegend": true,
         "type": "scatter3d",
         "x": [
          0.160428181
         ],
         "y": [
          6.749690533
         ],
         "z": [
          10
         ]
        },
        {
         "hovertemplate": "Species=Enterolobium schomburgkii (Benth.) Benth.<br>DAP_INDIV=%{x}<br>BIOM_INDIV=%{y}<br>H_TOTAL=%{z}<extra></extra>",
         "legendgroup": "Enterolobium schomburgkii (Benth.) Benth.",
         "marker": {
          "color": "#00cc96",
          "symbol": "circle"
         },
         "mode": "markers",
         "name": "Enterolobium schomburgkii (Benth.) Benth.",
         "scene": "scene",
         "showlegend": true,
         "type": "scatter3d",
         "x": [
          0.189736802
         ],
         "y": [
          20.42986006
         ],
         "z": [
          17.58823529
         ]
        },
        {
         "hovertemplate": "Species=Erythrina fusca Lour.<br>DAP_INDIV=%{x}<br>BIOM_INDIV=%{y}<br>H_TOTAL=%{z}<extra></extra>",
         "legendgroup": "Erythrina fusca Lour.",
         "marker": {
          "color": "#ab63fa",
          "symbol": "circle"
         },
         "mode": "markers",
         "name": "Erythrina fusca Lour.",
         "scene": "scene",
         "showlegend": true,
         "type": "scatter3d",
         "x": [
          0.291508195
         ],
         "y": [
          8.85131073
         ],
         "z": [
          14.4
         ]
        },
        {
         "hovertemplate": "Species=Eschweilera coriacea (DC.) S.A.Mori<br>DAP_INDIV=%{x}<br>BIOM_INDIV=%{y}<br>H_TOTAL=%{z}<extra></extra>",
         "legendgroup": "Eschweilera coriacea (DC.) S.A.Mori",
         "marker": {
          "color": "#FFA15A",
          "symbol": "circle"
         },
         "mode": "markers",
         "name": "Eschweilera coriacea (DC.) S.A.Mori",
         "scene": "scene",
         "showlegend": true,
         "type": "scatter3d",
         "x": [
          0.239209878
         ],
         "y": [
          25.29251254
         ],
         "z": [
          16.75
         ]
        },
        {
         "hovertemplate": "Species=Eugenia victoriana Cuatrec.<br>DAP_INDIV=%{x}<br>BIOM_INDIV=%{y}<br>H_TOTAL=%{z}<extra></extra>",
         "legendgroup": "Eugenia victoriana Cuatrec.",
         "marker": {
          "color": "#19d3f3",
          "symbol": "circle"
         },
         "mode": "markers",
         "name": "Eugenia victoriana Cuatrec.",
         "scene": "scene",
         "showlegend": true,
         "type": "scatter3d",
         "x": [
          0.174433812
         ],
         "y": [
          20.90717125
         ],
         "z": [
          18
         ]
        },
        {
         "hovertemplate": "Species=Faramea cf., occidentalis (L.) A. Rich.<br>DAP_INDIV=%{x}<br>BIOM_INDIV=%{y}<br>H_TOTAL=%{z}<extra></extra>",
         "legendgroup": "Faramea cf., occidentalis (L.) A. Rich.",
         "marker": {
          "color": "#FF6692",
          "symbol": "circle"
         },
         "mode": "markers",
         "name": "Faramea cf., occidentalis (L.) A. Rich.",
         "scene": "scene",
         "showlegend": true,
         "type": "scatter3d",
         "x": [
          0.117774658
         ],
         "y": [
          5.054674625
         ],
         "z": [
          6
         ]
        },
        {
         "hovertemplate": "Species=Ficus americana Aubl.<br>DAP_INDIV=%{x}<br>BIOM_INDIV=%{y}<br>H_TOTAL=%{z}<extra></extra>",
         "legendgroup": "Ficus americana Aubl.",
         "marker": {
          "color": "#B6E880",
          "symbol": "circle"
         },
         "mode": "markers",
         "name": "Ficus americana Aubl.",
         "scene": "scene",
         "showlegend": true,
         "type": "scatter3d",
         "x": [
          0.265614256
         ],
         "y": [
          9.106043402
         ],
         "z": [
          12.66666667
         ]
        },
        {
         "hovertemplate": "Species=Ficus insipida Willd.<br>DAP_INDIV=%{x}<br>BIOM_INDIV=%{y}<br>H_TOTAL=%{z}<extra></extra>",
         "legendgroup": "Ficus insipida Willd.",
         "marker": {
          "color": "#FF97FF",
          "symbol": "circle"
         },
         "mode": "markers",
         "name": "Ficus insipida Willd.",
         "scene": "scene",
         "showlegend": true,
         "type": "scatter3d",
         "x": [
          0.345826539
         ],
         "y": [
          10.00628042
         ],
         "z": [
          14.3125
         ]
        },
        {
         "hovertemplate": "Species=Ficus matiziana Dugand.<br>DAP_INDIV=%{x}<br>BIOM_INDIV=%{y}<br>H_TOTAL=%{z}<extra></extra>",
         "legendgroup": "Ficus matiziana Dugand.",
         "marker": {
          "color": "#FECB52",
          "symbol": "circle"
         },
         "mode": "markers",
         "name": "Ficus matiziana Dugand.",
         "scene": "scene",
         "showlegend": true,
         "type": "scatter3d",
         "x": [
          0.175707057
         ],
         "y": [
          10.80812836
         ],
         "z": [
          18
         ]
        },
        {
         "hovertemplate": "Species=Ficus nymphaeifolia Mill.<br>DAP_INDIV=%{x}<br>BIOM_INDIV=%{y}<br>H_TOTAL=%{z}<extra></extra>",
         "legendgroup": "Ficus nymphaeifolia Mill.",
         "marker": {
          "color": "#636efa",
          "symbol": "circle"
         },
         "mode": "markers",
         "name": "Ficus nymphaeifolia Mill.",
         "scene": "scene",
         "showlegend": true,
         "type": "scatter3d",
         "x": [
          0.193882553
         ],
         "y": [
          11.15981088
         ],
         "z": [
          16.7
         ]
        },
        {
         "hovertemplate": "Species=Ficus sp.<br>DAP_INDIV=%{x}<br>BIOM_INDIV=%{y}<br>H_TOTAL=%{z}<extra></extra>",
         "legendgroup": "Ficus sp.",
         "marker": {
          "color": "#EF553B",
          "symbol": "circle"
         },
         "mode": "markers",
         "name": "Ficus sp.",
         "scene": "scene",
         "showlegend": true,
         "type": "scatter3d",
         "x": [
          0.198147912
         ],
         "y": [
          11.53352571
         ],
         "z": [
          17.5
         ]
        },
        {
         "hovertemplate": "Species=Ficus turrialbana W.C.Burger<br>DAP_INDIV=%{x}<br>BIOM_INDIV=%{y}<br>H_TOTAL=%{z}<extra></extra>",
         "legendgroup": "Ficus turrialbana W.C.Burger",
         "marker": {
          "color": "#00cc96",
          "symbol": "circle"
         },
         "mode": "markers",
         "name": "Ficus turrialbana W.C.Burger",
         "scene": "scene",
         "showlegend": true,
         "type": "scatter3d",
         "x": [
          0.134645075
         ],
         "y": [
          5.518758774
         ],
         "z": [
          8
         ]
        },
        {
         "hovertemplate": "Species=Genipa americana L.<br>DAP_INDIV=%{x}<br>BIOM_INDIV=%{y}<br>H_TOTAL=%{z}<extra></extra>",
         "legendgroup": "Genipa americana L.",
         "marker": {
          "color": "#ab63fa",
          "symbol": "circle"
         },
         "mode": "markers",
         "name": "Genipa americana L.",
         "scene": "scene",
         "showlegend": true,
         "type": "scatter3d",
         "x": [
          0.126369022
         ],
         "y": [
          10.62430859
         ],
         "z": [
          11.5
         ]
        },
        {
         "hovertemplate": "Species=Guatteria amplifolia Triana & Planch.<br>DAP_INDIV=%{x}<br>BIOM_INDIV=%{y}<br>H_TOTAL=%{z}<extra></extra>",
         "legendgroup": "Guatteria amplifolia Triana & Planch.",
         "marker": {
          "color": "#FFA15A",
          "symbol": "circle"
         },
         "mode": "markers",
         "name": "Guatteria amplifolia Triana & Planch.",
         "scene": "scene",
         "showlegend": true,
         "type": "scatter3d",
         "x": [
          0.14769578
         ],
         "y": [
          11.40791798
         ],
         "z": [
          15
         ]
        },
        {
         "hovertemplate": "Species=Guatteria cargadero Triana & Planch.<br>DAP_INDIV=%{x}<br>BIOM_INDIV=%{y}<br>H_TOTAL=%{z}<extra></extra>",
         "legendgroup": "Guatteria cargadero Triana & Planch.",
         "marker": {
          "color": "#19d3f3",
          "symbol": "circle"
         },
         "mode": "markers",
         "name": "Guatteria cargadero Triana & Planch.",
         "scene": "scene",
         "showlegend": true,
         "type": "scatter3d",
         "x": [
          0.158542811
         ],
         "y": [
          9.716036136
         ],
         "z": [
          12.38461538
         ]
        },
        {
         "hovertemplate": "Species=Guatteria cf. punctata (Aubl.) R.A. Howard<br>DAP_INDIV=%{x}<br>BIOM_INDIV=%{y}<br>H_TOTAL=%{z}<extra></extra>",
         "legendgroup": "Guatteria cf. punctata (Aubl.) R.A. Howard",
         "marker": {
          "color": "#FF6692",
          "symbol": "circle"
         },
         "mode": "markers",
         "name": "Guatteria cf. punctata (Aubl.) R.A. Howard",
         "scene": "scene",
         "showlegend": true,
         "type": "scatter3d",
         "x": [
          0.215574935
         ],
         "y": [
          16.37195333
         ],
         "z": [
          18
         ]
        },
        {
         "hovertemplate": "Species=Guatteria scytophylla Diels<br>DAP_INDIV=%{x}<br>BIOM_INDIV=%{y}<br>H_TOTAL=%{z}<extra></extra>",
         "legendgroup": "Guatteria scytophylla Diels",
         "marker": {
          "color": "#B6E880",
          "symbol": "circle"
         },
         "mode": "markers",
         "name": "Guatteria scytophylla Diels",
         "scene": "scene",
         "showlegend": true,
         "type": "scatter3d",
         "x": [
          0.380062014
         ],
         "y": [
          35.59043884
         ],
         "z": [
          30
         ]
        },
        {
         "hovertemplate": "Species=Guatteria sp.<br>DAP_INDIV=%{x}<br>BIOM_INDIV=%{y}<br>H_TOTAL=%{z}<extra></extra>",
         "legendgroup": "Guatteria sp.",
         "marker": {
          "color": "#FF97FF",
          "symbol": "circle"
         },
         "mode": "markers",
         "name": "Guatteria sp.",
         "scene": "scene",
         "showlegend": true,
         "type": "scatter3d",
         "x": [
          0.109816909
         ],
         "y": [
          8.264950752
         ],
         "z": [
          12
         ]
        },
        {
         "hovertemplate": "Species=Guatteria stipitata R.E.Fr.<br>DAP_INDIV=%{x}<br>BIOM_INDIV=%{y}<br>H_TOTAL=%{z}<extra></extra>",
         "legendgroup": "Guatteria stipitata R.E.Fr.",
         "marker": {
          "color": "#FECB52",
          "symbol": "circle"
         },
         "mode": "markers",
         "name": "Guatteria stipitata R.E.Fr.",
         "scene": "scene",
         "showlegend": true,
         "type": "scatter3d",
         "x": [
          0.177086404
         ],
         "y": [
          15.008653
         ],
         "z": [
          16.16666667
         ]
        },
        {
         "hovertemplate": "Species=Guazuma ulmifolia Lam.<br>DAP_INDIV=%{x}<br>BIOM_INDIV=%{y}<br>H_TOTAL=%{z}<extra></extra>",
         "legendgroup": "Guazuma ulmifolia Lam.",
         "marker": {
          "color": "#636efa",
          "symbol": "circle"
         },
         "mode": "markers",
         "name": "Guazuma ulmifolia Lam.",
         "scene": "scene",
         "showlegend": true,
         "type": "scatter3d",
         "x": [
          0.172752485
         ],
         "y": [
          7.090269202
         ],
         "z": [
          8.80952381
         ]
        },
        {
         "hovertemplate": "Species=Handroanthus chrysanthus (Jacq.) S.O.Grose<br>DAP_INDIV=%{x}<br>BIOM_INDIV=%{y}<br>H_TOTAL=%{z}<extra></extra>",
         "legendgroup": "Handroanthus chrysanthus (Jacq.) S.O.Grose",
         "marker": {
          "color": "#EF553B",
          "symbol": "circle"
         },
         "mode": "markers",
         "name": "Handroanthus chrysanthus (Jacq.) S.O.Grose",
         "scene": "scene",
         "showlegend": true,
         "type": "scatter3d",
         "x": [
          0.296531335
         ],
         "y": [
          21.47776826
         ],
         "z": [
          12.66666667
         ]
        },
        {
         "hovertemplate": "Species=Handroanthus guayacan (Seem.) S.O.Grose<br>DAP_INDIV=%{x}<br>BIOM_INDIV=%{y}<br>H_TOTAL=%{z}<extra></extra>",
         "legendgroup": "Handroanthus guayacan (Seem.) S.O.Grose",
         "marker": {
          "color": "#00cc96",
          "symbol": "circle"
         },
         "mode": "markers",
         "name": "Handroanthus guayacan (Seem.) S.O.Grose",
         "scene": "scene",
         "showlegend": true,
         "type": "scatter3d",
         "x": [
          0.192895785
         ],
         "y": [
          10.73146534
         ],
         "z": [
          8
         ]
        },
        {
         "hovertemplate": "Species=Hieronyma alchorneoides Allemão<br>DAP_INDIV=%{x}<br>BIOM_INDIV=%{y}<br>H_TOTAL=%{z}<extra></extra>",
         "legendgroup": "Hieronyma alchorneoides Allemão",
         "marker": {
          "color": "#ab63fa",
          "symbol": "circle"
         },
         "mode": "markers",
         "name": "Hieronyma alchorneoides Allemão",
         "scene": "scene",
         "showlegend": true,
         "type": "scatter3d",
         "x": [
          0.211145557
         ],
         "y": [
          17.95968151
         ],
         "z": [
          18.66666667
         ]
        },
        {
         "hovertemplate": "Species=Himatanthus sucuuba (Müll.Arg.) Woodson<br>DAP_INDIV=%{x}<br>BIOM_INDIV=%{y}<br>H_TOTAL=%{z}<extra></extra>",
         "legendgroup": "Himatanthus sucuuba (Müll.Arg.) Woodson",
         "marker": {
          "color": "#FFA15A",
          "symbol": "circle"
         },
         "mode": "markers",
         "name": "Himatanthus sucuuba (Müll.Arg.) Woodson",
         "scene": "scene",
         "showlegend": true,
         "type": "scatter3d",
         "x": [
          0.195500299
         ],
         "y": [
          8.148996353
         ],
         "z": [
          9.5
         ]
        },
        {
         "hovertemplate": "Species=Hirtella racemosa Lam.<br>DAP_INDIV=%{x}<br>BIOM_INDIV=%{y}<br>H_TOTAL=%{z}<extra></extra>",
         "legendgroup": "Hirtella racemosa Lam.",
         "marker": {
          "color": "#19d3f3",
          "symbol": "circle"
         },
         "mode": "markers",
         "name": "Hirtella racemosa Lam.",
         "scene": "scene",
         "showlegend": true,
         "type": "scatter3d",
         "x": [
          0.117774658
         ],
         "y": [
          10.79639244
         ],
         "z": [
          10
         ]
        },
        {
         "hovertemplate": "Species=Homalolepis cedron (Planch.) Devecchi & Pirani<br>DAP_INDIV=%{x}<br>BIOM_INDIV=%{y}<br>H_TOTAL=%{z}<extra></extra>",
         "legendgroup": "Homalolepis cedron (Planch.) Devecchi & Pirani",
         "marker": {
          "color": "#FF6692",
          "symbol": "circle"
         },
         "mode": "markers",
         "name": "Homalolepis cedron (Planch.) Devecchi & Pirani",
         "scene": "scene",
         "showlegend": true,
         "type": "scatter3d",
         "x": [
          0.1610648
         ],
         "y": [
          11.33546686
         ],
         "z": [
          15
         ]
        },
        {
         "hovertemplate": "Species=Humiriastrum colombianum (Cuatrec.) Cuatrec.<br>DAP_INDIV=%{x}<br>BIOM_INDIV=%{y}<br>H_TOTAL=%{z}<extra></extra>",
         "legendgroup": "Humiriastrum colombianum (Cuatrec.) Cuatrec.",
         "marker": {
          "color": "#B6E880",
          "symbol": "circle"
         },
         "mode": "markers",
         "name": "Humiriastrum colombianum (Cuatrec.) Cuatrec.",
         "scene": "scene",
         "showlegend": true,
         "type": "scatter3d",
         "x": [
          0.170932412
         ],
         "y": [
          12.99195576
         ],
         "z": [
          12
         ]
        },
        {
         "hovertemplate": "Species=Hura crepitans L.<br>DAP_INDIV=%{x}<br>BIOM_INDIV=%{y}<br>H_TOTAL=%{z}<extra></extra>",
         "legendgroup": "Hura crepitans L.",
         "marker": {
          "color": "#FF97FF",
          "symbol": "circle"
         },
         "mode": "markers",
         "name": "Hura crepitans L.",
         "scene": "scene",
         "showlegend": true,
         "type": "scatter3d",
         "x": [
          0.526802868
         ],
         "y": [
          13.03230476
         ],
         "z": [
          16
         ]
        },
        {
         "hovertemplate": "Species=Hymenaea courbaril L.<br>DAP_INDIV=%{x}<br>BIOM_INDIV=%{y}<br>H_TOTAL=%{z}<extra></extra>",
         "legendgroup": "Hymenaea courbaril L.",
         "marker": {
          "color": "#FECB52",
          "symbol": "circle"
         },
         "mode": "markers",
         "name": "Hymenaea courbaril L.",
         "scene": "scene",
         "showlegend": true,
         "type": "scatter3d",
         "x": [
          0.23275052
         ],
         "y": [
          25.7222681
         ],
         "z": [
          19.25
         ]
        },
        {
         "hovertemplate": "Species=Hymenaea oblongifolia Huber.<br>DAP_INDIV=%{x}<br>BIOM_INDIV=%{y}<br>H_TOTAL=%{z}<extra></extra>",
         "legendgroup": "Hymenaea oblongifolia Huber.",
         "marker": {
          "color": "#636efa",
          "symbol": "circle"
         },
         "mode": "markers",
         "name": "Hymenaea oblongifolia Huber.",
         "scene": "scene",
         "showlegend": true,
         "type": "scatter3d",
         "x": [
          0.325710595
         ],
         "y": [
          31.6938591
         ],
         "z": [
          22.75
         ]
        },
        {
         "hovertemplate": "Species=Ilex guayusa Loes.<br>DAP_INDIV=%{x}<br>BIOM_INDIV=%{y}<br>H_TOTAL=%{z}<extra></extra>",
         "legendgroup": "Ilex guayusa Loes.",
         "marker": {
          "color": "#EF553B",
          "symbol": "circle"
         },
         "mode": "markers",
         "name": "Ilex guayusa Loes.",
         "scene": "scene",
         "showlegend": true,
         "type": "scatter3d",
         "x": [
          0.26496312
         ],
         "y": [
          8.875658035
         ],
         "z": [
          10
         ]
        },
        {
         "hovertemplate": "Species=Inga acreana Harms<br>DAP_INDIV=%{x}<br>BIOM_INDIV=%{y}<br>H_TOTAL=%{z}<extra></extra>",
         "legendgroup": "Inga acreana Harms",
         "marker": {
          "color": "#00cc96",
          "symbol": "circle"
         },
         "mode": "markers",
         "name": "Inga acreana Harms",
         "scene": "scene",
         "showlegend": true,
         "type": "scatter3d",
         "x": [
          0.173478886
         ],
         "y": [
          9.424649477
         ],
         "z": [
          11
         ]
        },
        {
         "hovertemplate": "Species=Inga alba (Sw.) Willd.<br>DAP_INDIV=%{x}<br>BIOM_INDIV=%{y}<br>H_TOTAL=%{z}<extra></extra>",
         "legendgroup": "Inga alba (Sw.) Willd.",
         "marker": {
          "color": "#ab63fa",
          "symbol": "circle"
         },
         "mode": "markers",
         "name": "Inga alba (Sw.) Willd.",
         "scene": "scene",
         "showlegend": true,
         "type": "scatter3d",
         "x": [
          0.144300483
         ],
         "y": [
          8.056145986
         ],
         "z": [
          9.333333333
         ]
        },
        {
         "hovertemplate": "Species=Inga cf., alba (Sw.) Willd.<br>DAP_INDIV=%{x}<br>BIOM_INDIV=%{y}<br>H_TOTAL=%{z}<extra></extra>",
         "legendgroup": "Inga cf., alba (Sw.) Willd.",
         "marker": {
          "color": "#FFA15A",
          "symbol": "circle"
         },
         "mode": "markers",
         "name": "Inga cf., alba (Sw.) Willd.",
         "scene": "scene",
         "showlegend": true,
         "type": "scatter3d",
         "x": [
          0.195918851
         ],
         "y": [
          12.34937929
         ],
         "z": [
          12.83
         ]
        },
        {
         "hovertemplate": "Species=Inga heterophylla Willd.<br>DAP_INDIV=%{x}<br>BIOM_INDIV=%{y}<br>H_TOTAL=%{z}<extra></extra>",
         "legendgroup": "Inga heterophylla Willd.",
         "marker": {
          "color": "#19d3f3",
          "symbol": "circle"
         },
         "mode": "markers",
         "name": "Inga heterophylla Willd.",
         "scene": "scene",
         "showlegend": true,
         "type": "scatter3d",
         "x": [
          0.252182972
         ],
         "y": [
          12.83529862
         ],
         "z": [
          12.66666667
         ]
        },
        {
         "hovertemplate": "Species=Inga japurensis TD Penn.<br>DAP_INDIV=%{x}<br>BIOM_INDIV=%{y}<br>H_TOTAL=%{z}<extra></extra>",
         "legendgroup": "Inga japurensis TD Penn.",
         "marker": {
          "color": "#FF6692",
          "symbol": "circle"
         },
         "mode": "markers",
         "name": "Inga japurensis TD Penn.",
         "scene": "scene",
         "showlegend": true,
         "type": "scatter3d",
         "x": [
          0.155392226
         ],
         "y": [
          11.28766547
         ],
         "z": [
          12.64285714
         ]
        },
        {
         "hovertemplate": "Species=Inga laurina (Sw.) Willd.<br>DAP_INDIV=%{x}<br>BIOM_INDIV=%{y}<br>H_TOTAL=%{z}<extra></extra>",
         "legendgroup": "Inga laurina (Sw.) Willd.",
         "marker": {
          "color": "#B6E880",
          "symbol": "circle"
         },
         "mode": "markers",
         "name": "Inga laurina (Sw.) Willd.",
         "scene": "scene",
         "showlegend": true,
         "type": "scatter3d",
         "x": [
          0.143239453
         ],
         "y": [
          16.7148571
         ],
         "z": [
          16
         ]
        },
        {
         "hovertemplate": "Species=Inga sp.<br>DAP_INDIV=%{x}<br>BIOM_INDIV=%{y}<br>H_TOTAL=%{z}<extra></extra>",
         "legendgroup": "Inga sp.",
         "marker": {
          "color": "#FF97FF",
          "symbol": "circle"
         },
         "mode": "markers",
         "name": "Inga sp.",
         "scene": "scene",
         "showlegend": true,
         "type": "scatter3d",
         "x": [
          0.176184524
         ],
         "y": [
          11.50594521
         ],
         "z": [
          12
         ]
        },
        {
         "hovertemplate": "Species=Inga spectabilis (Vahl) Willd.<br>DAP_INDIV=%{x}<br>BIOM_INDIV=%{y}<br>H_TOTAL=%{z}<extra></extra>",
         "legendgroup": "Inga spectabilis (Vahl) Willd.",
         "marker": {
          "color": "#FECB52",
          "symbol": "circle"
         },
         "mode": "markers",
         "name": "Inga spectabilis (Vahl) Willd.",
         "scene": "scene",
         "showlegend": true,
         "type": "scatter3d",
         "x": [
          0.175514186
         ],
         "y": [
          11.95719417
         ],
         "z": [
          13.83333333
         ]
        },
        {
         "hovertemplate": "Species=Inga vera Willd<br>DAP_INDIV=%{x}<br>BIOM_INDIV=%{y}<br>H_TOTAL=%{z}<extra></extra>",
         "legendgroup": "Inga vera Willd",
         "marker": {
          "color": "#636efa",
          "symbol": "circle"
         },
         "mode": "markers",
         "name": "Inga vera Willd",
         "scene": "scene",
         "showlegend": true,
         "type": "scatter3d",
         "x": [
          0.147536632
         ],
         "y": [
          8.27062726
         ],
         "z": [
          9.5
         ]
        },
        {
         "hovertemplate": "Species=Inga cylindrica (Vell.) Mart.<br>DAP_INDIV=%{x}<br>BIOM_INDIV=%{y}<br>H_TOTAL=%{z}<extra></extra>",
         "legendgroup": "Inga cylindrica (Vell.) Mart.",
         "marker": {
          "color": "#EF553B",
          "symbol": "circle"
         },
         "mode": "markers",
         "name": "Inga cylindrica (Vell.) Mart.",
         "scene": "scene",
         "showlegend": true,
         "type": "scatter3d",
         "x": [
          0.10408733
         ],
         "y": [
          4.972388268
         ],
         "z": [
          8
         ]
        },
        {
         "hovertemplate": "Species=Inga semialata (Vell.) C.Mart.<br>DAP_INDIV=%{x}<br>BIOM_INDIV=%{y}<br>H_TOTAL=%{z}<extra></extra>",
         "legendgroup": "Inga semialata (Vell.) C.Mart.",
         "marker": {
          "color": "#00cc96",
          "symbol": "circle"
         },
         "mode": "markers",
         "name": "Inga semialata (Vell.) C.Mart.",
         "scene": "scene",
         "showlegend": true,
         "type": "scatter3d",
         "x": [
          0.213850968
         ],
         "y": [
          14.92820664
         ],
         "z": [
          14.95454545
         ]
        },
        {
         "hovertemplate": "Species=Iryanthera ulei Warb.<br>DAP_INDIV=%{x}<br>BIOM_INDIV=%{y}<br>H_TOTAL=%{z}<extra></extra>",
         "legendgroup": "Iryanthera ulei Warb.",
         "marker": {
          "color": "#ab63fa",
          "symbol": "circle"
         },
         "mode": "markers",
         "name": "Iryanthera ulei Warb.",
         "scene": "scene",
         "showlegend": true,
         "type": "scatter3d",
         "x": [
          0.128324355
         ],
         "y": [
          7.620779582
         ],
         "z": [
          8.142857143
         ]
        },
        {
         "hovertemplate": "Species=Jacaranda caucana Pittier<br>DAP_INDIV=%{x}<br>BIOM_INDIV=%{y}<br>H_TOTAL=%{z}<extra></extra>",
         "legendgroup": "Jacaranda caucana Pittier",
         "marker": {
          "color": "#FFA15A",
          "symbol": "circle"
         },
         "mode": "markers",
         "name": "Jacaranda caucana Pittier",
         "scene": "scene",
         "showlegend": true,
         "type": "scatter3d",
         "x": [
          0.172664911
         ],
         "y": [
          6.815511227
         ],
         "z": [
          12.39285714
         ]
        },
        {
         "hovertemplate": "Species=Jacaranda copaia (Aubl.) D.Don<br>DAP_INDIV=%{x}<br>BIOM_INDIV=%{y}<br>H_TOTAL=%{z}<extra></extra>",
         "legendgroup": "Jacaranda copaia (Aubl.) D.Don",
         "marker": {
          "color": "#19d3f3",
          "symbol": "circle"
         },
         "mode": "markers",
         "name": "Jacaranda copaia (Aubl.) D.Don",
         "scene": "scene",
         "showlegend": true,
         "type": "scatter3d",
         "x": [
          0.267711822
         ],
         "y": [
          9.256184638
         ],
         "z": [
          13.875
         ]
        },
        {
         "hovertemplate": "Species=Jatropha urens L.<br>DAP_INDIV=%{x}<br>BIOM_INDIV=%{y}<br>H_TOTAL=%{z}<extra></extra>",
         "legendgroup": "Jatropha urens L.",
         "marker": {
          "color": "#FF6692",
          "symbol": "circle"
         },
         "mode": "markers",
         "name": "Jatropha urens L.",
         "scene": "scene",
         "showlegend": true,
         "type": "scatter3d",
         "x": [
          0.102495782
         ],
         "y": [
          1.312103152
         ],
         "z": [
          6
         ]
        },
        {
         "hovertemplate": "Species=Lacmellea edulis H. Karst.<br>DAP_INDIV=%{x}<br>BIOM_INDIV=%{y}<br>H_TOTAL=%{z}<extra></extra>",
         "legendgroup": "Lacmellea edulis H. Karst.",
         "marker": {
          "color": "#B6E880",
          "symbol": "circle"
         },
         "mode": "markers",
         "name": "Lacmellea edulis H. Karst.",
         "scene": "scene",
         "showlegend": true,
         "type": "scatter3d",
         "x": [
          0.16574583
         ],
         "y": [
          9.506842277
         ],
         "z": [
          13
         ]
        },
        {
         "hovertemplate": "Species=Ladenbergia oblongifolia (Humb. ex Mutis) L.Ander*<br>DAP_INDIV=%{x}<br>BIOM_INDIV=%{y}<br>H_TOTAL=%{z}<extra></extra>",
         "legendgroup": "Ladenbergia oblongifolia (Humb. ex Mutis) L.Ander*",
         "marker": {
          "color": "#FF97FF",
          "symbol": "circle"
         },
         "mode": "markers",
         "name": "Ladenbergia oblongifolia (Humb. ex Mutis) L.Ander*",
         "scene": "scene",
         "showlegend": true,
         "type": "scatter3d",
         "x": [
          0.242233828
         ],
         "y": [
          17.97019958
         ],
         "z": [
          20
         ]
        },
        {
         "hovertemplate": "Species=Lecythis mesophylla S.A. Mori<br>DAP_INDIV=%{x}<br>BIOM_INDIV=%{y}<br>H_TOTAL=%{z}<extra></extra>",
         "legendgroup": "Lecythis mesophylla S.A. Mori",
         "marker": {
          "color": "#FECB52",
          "symbol": "circle"
         },
         "mode": "markers",
         "name": "Lecythis mesophylla S.A. Mori",
         "scene": "scene",
         "showlegend": true,
         "type": "scatter3d",
         "x": [
          0.206901427
         ],
         "y": [
          20.99387789
         ],
         "z": [
          20.75
         ]
        },
        {
         "hovertemplate": "Species=Lecythis tuyrana Pittier<br>DAP_INDIV=%{x}<br>BIOM_INDIV=%{y}<br>H_TOTAL=%{z}<extra></extra>",
         "legendgroup": "Lecythis tuyrana Pittier",
         "marker": {
          "color": "#636efa",
          "symbol": "circle"
         },
         "mode": "markers",
         "name": "Lecythis tuyrana Pittier",
         "scene": "scene",
         "showlegend": true,
         "type": "scatter3d",
         "x": [
          0.273320526
         ],
         "y": [
          15.61559582
         ],
         "z": [
          14
         ]
        },
        {
         "hovertemplate": "Species=Lecythis minor Jacq.<br>DAP_INDIV=%{x}<br>BIOM_INDIV=%{y}<br>H_TOTAL=%{z}<extra></extra>",
         "legendgroup": "Lecythis minor Jacq.",
         "marker": {
          "color": "#EF553B",
          "symbol": "circle"
         },
         "mode": "markers",
         "name": "Lecythis minor Jacq.",
         "scene": "scene",
         "showlegend": true,
         "type": "scatter3d",
         "x": [
          0.187372258
         ],
         "y": [
          17.14682657
         ],
         "z": [
          13.5625
         ]
        },
        {
         "hovertemplate": "Species=Leonia triandra Cuatrec. ex L.B. Sm. & A. Fernánde<br>DAP_INDIV=%{x}<br>BIOM_INDIV=%{y}<br>H_TOTAL=%{z}<extra></extra>",
         "legendgroup": "Leonia triandra Cuatrec. ex L.B. Sm. & A. Fernánde",
         "marker": {
          "color": "#00cc96",
          "symbol": "circle"
         },
         "mode": "markers",
         "name": "Leonia triandra Cuatrec. ex L.B. Sm. & A. Fernánde",
         "scene": "scene",
         "showlegend": true,
         "type": "scatter3d",
         "x": [
          0.109453128
         ],
         "y": [
          9.735281604
         ],
         "z": [
          11.28571429
         ]
        },
        {
         "hovertemplate": "Species=Licania cf., hypoleuca Benth.<br>DAP_INDIV=%{x}<br>BIOM_INDIV=%{y}<br>H_TOTAL=%{z}<extra></extra>",
         "legendgroup": "Licania cf., hypoleuca Benth.",
         "marker": {
          "color": "#ab63fa",
          "symbol": "circle"
         },
         "mode": "markers",
         "name": "Licania cf., hypoleuca Benth.",
         "scene": "scene",
         "showlegend": true,
         "type": "scatter3d",
         "x": [
          0.126414073
         ],
         "y": [
          15.37845389
         ],
         "z": [
          12.16666667
         ]
        },
        {
         "hovertemplate": "Species=Licania hypoleuca Benth.<br>DAP_INDIV=%{x}<br>BIOM_INDIV=%{y}<br>H_TOTAL=%{z}<extra></extra>",
         "legendgroup": "Licania hypoleuca Benth.",
         "marker": {
          "color": "#FFA15A",
          "symbol": "circle"
         },
         "mode": "markers",
         "name": "Licania hypoleuca Benth.",
         "scene": "scene",
         "showlegend": true,
         "type": "scatter3d",
         "x": [
          0.404661685
         ],
         "y": [
          25.85471535
         ],
         "z": [
          14.25
         ]
        },
        {
         "hovertemplate": "Species=Luehea seemannii Triana & Planch<br>DAP_INDIV=%{x}<br>BIOM_INDIV=%{y}<br>H_TOTAL=%{z}<extra></extra>",
         "legendgroup": "Luehea seemannii Triana & Planch",
         "marker": {
          "color": "#19d3f3",
          "symbol": "circle"
         },
         "mode": "markers",
         "name": "Luehea seemannii Triana & Planch",
         "scene": "scene",
         "showlegend": true,
         "type": "scatter3d",
         "x": [
          0.504064015
         ],
         "y": [
          12.95728397
         ],
         "z": [
          14.9
         ]
        },
        {
         "hovertemplate": "Species=Mabea montana Müll.Arg.<br>DAP_INDIV=%{x}<br>BIOM_INDIV=%{y}<br>H_TOTAL=%{z}<extra></extra>",
         "legendgroup": "Mabea montana Müll.Arg.",
         "marker": {
          "color": "#FF6692",
          "symbol": "circle"
         },
         "mode": "markers",
         "name": "Mabea montana Müll.Arg.",
         "scene": "scene",
         "showlegend": true,
         "type": "scatter3d",
         "x": [
          0.160292202
         ],
         "y": [
          11.34495282
         ],
         "z": [
          12.2
         ]
        },
        {
         "hovertemplate": "Species=Mabea trianae Pax.<br>DAP_INDIV=%{x}<br>BIOM_INDIV=%{y}<br>H_TOTAL=%{z}<extra></extra>",
         "legendgroup": "Mabea trianae Pax.",
         "marker": {
          "color": "#B6E880",
          "symbol": "circle"
         },
         "mode": "markers",
         "name": "Mabea trianae Pax.",
         "scene": "scene",
         "showlegend": true,
         "type": "scatter3d",
         "x": [
          0.172046492
         ],
         "y": [
          14.28430963
         ],
         "z": [
          15
         ]
        },
        {
         "hovertemplate": "Species=Machaerium capote Triana ex Dugand<br>DAP_INDIV=%{x}<br>BIOM_INDIV=%{y}<br>H_TOTAL=%{z}<extra></extra>",
         "legendgroup": "Machaerium capote Triana ex Dugand",
         "marker": {
          "color": "#FF97FF",
          "symbol": "circle"
         },
         "mode": "markers",
         "name": "Machaerium capote Triana ex Dugand",
         "scene": "scene",
         "showlegend": true,
         "type": "scatter3d",
         "x": [
          0.193744617
         ],
         "y": [
          15.19696156
         ],
         "z": [
          13.33333333
         ]
        },
        {
         "hovertemplate": "Species=Maclura tinctoria (L.) D.Don ex Steud<br>DAP_INDIV=%{x}<br>BIOM_INDIV=%{y}<br>H_TOTAL=%{z}<extra></extra>",
         "legendgroup": "Maclura tinctoria (L.) D.Don ex Steud",
         "marker": {
          "color": "#FECB52",
          "symbol": "circle"
         },
         "mode": "markers",
         "name": "Maclura tinctoria (L.) D.Don ex Steud",
         "scene": "scene",
         "showlegend": true,
         "type": "scatter3d",
         "x": [
          0.284655739
         ],
         "y": [
          15.88997661
         ],
         "z": [
          11.88888889
         ]
        },
        {
         "hovertemplate": "Species=Manilkara bidentata (A.DC.) A.Chev.<br>DAP_INDIV=%{x}<br>BIOM_INDIV=%{y}<br>H_TOTAL=%{z}<extra></extra>",
         "legendgroup": "Manilkara bidentata (A.DC.) A.Chev.",
         "marker": {
          "color": "#636efa",
          "symbol": "circle"
         },
         "mode": "markers",
         "name": "Manilkara bidentata (A.DC.) A.Chev.",
         "scene": "scene",
         "showlegend": true,
         "type": "scatter3d",
         "x": [
          0.200429127
         ],
         "y": [
          20.68035158
         ],
         "z": [
          14.33333333
         ]
        },
        {
         "hovertemplate": "Species=Matayba adenanthera Radlk<br>DAP_INDIV=%{x}<br>BIOM_INDIV=%{y}<br>H_TOTAL=%{z}<extra></extra>",
         "legendgroup": "Matayba adenanthera Radlk",
         "marker": {
          "color": "#EF553B",
          "symbol": "circle"
         },
         "mode": "markers",
         "name": "Matayba adenanthera Radlk",
         "scene": "scene",
         "showlegend": true,
         "type": "scatter3d",
         "x": [
          0.14641668
         ],
         "y": [
          14.76840713
         ],
         "z": [
          12.83333333
         ]
        },
        {
         "hovertemplate": "Species=Matayba guianensis Aubl.<br>DAP_INDIV=%{x}<br>BIOM_INDIV=%{y}<br>H_TOTAL=%{z}<extra></extra>",
         "legendgroup": "Matayba guianensis Aubl.",
         "marker": {
          "color": "#00cc96",
          "symbol": "circle"
         },
         "mode": "markers",
         "name": "Matayba guianensis Aubl.",
         "scene": "scene",
         "showlegend": true,
         "type": "scatter3d",
         "x": [
          0.185633387
         ],
         "y": [
          14.81258901
         ],
         "z": [
          11.33333333
         ]
        },
        {
         "hovertemplate": "Species=Matayba scrobiculata Radlk.<br>DAP_INDIV=%{x}<br>BIOM_INDIV=%{y}<br>H_TOTAL=%{z}<extra></extra>",
         "legendgroup": "Matayba scrobiculata Radlk.",
         "marker": {
          "color": "#ab63fa",
          "symbol": "circle"
         },
         "mode": "markers",
         "name": "Matayba scrobiculata Radlk.",
         "scene": "scene",
         "showlegend": true,
         "type": "scatter3d",
         "x": [
          0.177238901
         ],
         "y": [
          20.6511894
         ],
         "z": [
          15.77777778
         ]
        },
        {
         "hovertemplate": "Species=Melicoccus bijugatus Jacq.<br>DAP_INDIV=%{x}<br>BIOM_INDIV=%{y}<br>H_TOTAL=%{z}<extra></extra>",
         "legendgroup": "Melicoccus bijugatus Jacq.",
         "marker": {
          "color": "#FFA15A",
          "symbol": "circle"
         },
         "mode": "markers",
         "name": "Melicoccus bijugatus Jacq.",
         "scene": "scene",
         "showlegend": true,
         "type": "scatter3d",
         "x": [
          0.150242269
         ],
         "y": [
          23.45494843
         ],
         "z": [
          18
         ]
        },
        {
         "hovertemplate": "Species=Miconia impetiolaris (Sw.) DC.<br>DAP_INDIV=%{x}<br>BIOM_INDIV=%{y}<br>H_TOTAL=%{z}<extra></extra>",
         "legendgroup": "Miconia impetiolaris (Sw.) DC.",
         "marker": {
          "color": "#19d3f3",
          "symbol": "circle"
         },
         "mode": "markers",
         "name": "Miconia impetiolaris (Sw.) DC.",
         "scene": "scene",
         "showlegend": true,
         "type": "scatter3d",
         "x": [
          0.230774671
         ],
         "y": [
          15.69304943
         ],
         "z": [
          15
         ]
        },
        {
         "hovertemplate": "Species=Miconia micropetala Cogn.<br>DAP_INDIV=%{x}<br>BIOM_INDIV=%{y}<br>H_TOTAL=%{z}<extra></extra>",
         "legendgroup": "Miconia micropetala Cogn.",
         "marker": {
          "color": "#FF6692",
          "symbol": "circle"
         },
         "mode": "markers",
         "name": "Miconia micropetala Cogn.",
         "scene": "scene",
         "showlegend": true,
         "type": "scatter3d",
         "x": [
          0.201218061
         ],
         "y": [
          13.09861374
         ],
         "z": [
          13
         ]
        },
        {
         "hovertemplate": "Species=Micropholis cf., egensis (A.DC.) Pierre<br>DAP_INDIV=%{x}<br>BIOM_INDIV=%{y}<br>H_TOTAL=%{z}<extra></extra>",
         "legendgroup": "Micropholis cf., egensis (A.DC.) Pierre",
         "marker": {
          "color": "#B6E880",
          "symbol": "circle"
         },
         "mode": "markers",
         "name": "Micropholis cf., egensis (A.DC.) Pierre",
         "scene": "scene",
         "showlegend": true,
         "type": "scatter3d",
         "x": [
          0.117138036
         ],
         "y": [
          14.68999672
         ],
         "z": [
          18
         ]
        },
        {
         "hovertemplate": "Species=Micropholis egensis (A.DC.) Pierre<br>DAP_INDIV=%{x}<br>BIOM_INDIV=%{y}<br>H_TOTAL=%{z}<extra></extra>",
         "legendgroup": "Micropholis egensis (A.DC.) Pierre",
         "marker": {
          "color": "#FF97FF",
          "symbol": "circle"
         },
         "mode": "markers",
         "name": "Micropholis egensis (A.DC.) Pierre",
         "scene": "scene",
         "showlegend": true,
         "type": "scatter3d",
         "x": [
          0.268979758
         ],
         "y": [
          16.3770752
         ],
         "z": [
          15
         ]
        },
        {
         "hovertemplate": "Species=Myrcia cf., paivae O. Berg.<br>DAP_INDIV=%{x}<br>BIOM_INDIV=%{y}<br>H_TOTAL=%{z}<extra></extra>",
         "legendgroup": "Myrcia cf., paivae O. Berg.",
         "marker": {
          "color": "#FECB52",
          "symbol": "circle"
         },
         "mode": "markers",
         "name": "Myrcia cf., paivae O. Berg.",
         "scene": "scene",
         "showlegend": true,
         "type": "scatter3d",
         "x": [
          0.128119726
         ],
         "y": [
          14.23338485
         ],
         "z": [
          12
         ]
        },
        {
         "hovertemplate": "Species=Myrcia fallax (Rich.) DC.<br>DAP_INDIV=%{x}<br>BIOM_INDIV=%{y}<br>H_TOTAL=%{z}<extra></extra>",
         "legendgroup": "Myrcia fallax (Rich.) DC.",
         "marker": {
          "color": "#636efa",
          "symbol": "circle"
         },
         "mode": "markers",
         "name": "Myrcia fallax (Rich.) DC.",
         "scene": "scene",
         "showlegend": true,
         "type": "scatter3d",
         "x": [
          0.128258864
         ],
         "y": [
          12.28423723
         ],
         "z": [
          10.66666667
         ]
        },
        {
         "hovertemplate": "Species=Myrcia paivae O.Berg<br>DAP_INDIV=%{x}<br>BIOM_INDIV=%{y}<br>H_TOTAL=%{z}<extra></extra>",
         "legendgroup": "Myrcia paivae O.Berg",
         "marker": {
          "color": "#EF553B",
          "symbol": "circle"
         },
         "mode": "markers",
         "name": "Myrcia paivae O.Berg",
         "scene": "scene",
         "showlegend": true,
         "type": "scatter3d",
         "x": [
          0.140494025
         ],
         "y": [
          12.14968276
         ],
         "z": [
          10.25
         ]
        },
        {
         "hovertemplate": "Species=Myrcia splendens (Sw.) DC.<br>DAP_INDIV=%{x}<br>BIOM_INDIV=%{y}<br>H_TOTAL=%{z}<extra></extra>",
         "legendgroup": "Myrcia splendens (Sw.) DC.",
         "marker": {
          "color": "#00cc96",
          "symbol": "circle"
         },
         "mode": "markers",
         "name": "Myrcia splendens (Sw.) DC.",
         "scene": "scene",
         "showlegend": true,
         "type": "scatter3d",
         "x": [
          0.164793579
         ],
         "y": [
          19.06493637
         ],
         "z": [
          15.57142857
         ]
        },
        {
         "hovertemplate": "Species=Naucleopsis glabra Spruce ex Pittier<br>DAP_INDIV=%{x}<br>BIOM_INDIV=%{y}<br>H_TOTAL=%{z}<extra></extra>",
         "legendgroup": "Naucleopsis glabra Spruce ex Pittier",
         "marker": {
          "color": "#ab63fa",
          "symbol": "circle"
         },
         "mode": "markers",
         "name": "Naucleopsis glabra Spruce ex Pittier",
         "scene": "scene",
         "showlegend": true,
         "type": "scatter3d",
         "x": [
          0.154061988
         ],
         "y": [
          11.79078388
         ],
         "z": [
          12
         ]
        },
        {
         "hovertemplate": "Species=Nectandra cuspidata Nees & Mart.<br>DAP_INDIV=%{x}<br>BIOM_INDIV=%{y}<br>H_TOTAL=%{z}<extra></extra>",
         "legendgroup": "Nectandra cuspidata Nees & Mart.",
         "marker": {
          "color": "#FFA15A",
          "symbol": "circle"
         },
         "mode": "markers",
         "name": "Nectandra cuspidata Nees & Mart.",
         "scene": "scene",
         "showlegend": true,
         "type": "scatter3d",
         "x": [
          0.178409547
         ],
         "y": [
          15.31404081
         ],
         "z": [
          15.58677686
         ]
        },
        {
         "hovertemplate": "Species=Nectandra membranacea (Sw.) Griseb.<br>DAP_INDIV=%{x}<br>BIOM_INDIV=%{y}<br>H_TOTAL=%{z}<extra></extra>",
         "legendgroup": "Nectandra membranacea (Sw.) Griseb.",
         "marker": {
          "color": "#19d3f3",
          "symbol": "circle"
         },
         "mode": "markers",
         "name": "Nectandra membranacea (Sw.) Griseb.",
         "scene": "scene",
         "showlegend": true,
         "type": "scatter3d",
         "x": [
          0.185844279
         ],
         "y": [
          16.17032223
         ],
         "z": [
          16.87096774
         ]
        },
        {
         "hovertemplate": "Species=NN<br>DAP_INDIV=%{x}<br>BIOM_INDIV=%{y}<br>H_TOTAL=%{z}<extra></extra>",
         "legendgroup": "NN",
         "marker": {
          "color": "#FF6692",
          "symbol": "circle"
         },
         "mode": "markers",
         "name": "NN",
         "scene": "scene",
         "showlegend": true,
         "type": "scatter3d",
         "x": [
          0.300961994
         ],
         "y": [
          0.00001
         ],
         "z": [
          10
         ]
        },
        {
         "hovertemplate": "Species=Ochroma pyramidale (Cav. ex Lam.) Urb.<br>DAP_INDIV=%{x}<br>BIOM_INDIV=%{y}<br>H_TOTAL=%{z}<extra></extra>",
         "legendgroup": "Ochroma pyramidale (Cav. ex Lam.) Urb.",
         "marker": {
          "color": "#B6E880",
          "symbol": "circle"
         },
         "mode": "markers",
         "name": "Ochroma pyramidale (Cav. ex Lam.) Urb.",
         "scene": "scene",
         "showlegend": true,
         "type": "scatter3d",
         "x": [
          0.191085403
         ],
         "y": [
          2.689235657
         ],
         "z": [
          11.8125
         ]
        },
        {
         "hovertemplate": "Species=Ocotea bofo Kunth<br>DAP_INDIV=%{x}<br>BIOM_INDIV=%{y}<br>H_TOTAL=%{z}<extra></extra>",
         "legendgroup": "Ocotea bofo Kunth",
         "marker": {
          "color": "#FF97FF",
          "symbol": "circle"
         },
         "mode": "markers",
         "name": "Ocotea bofo Kunth",
         "scene": "scene",
         "showlegend": true,
         "type": "scatter3d",
         "x": [
          0.303349316
         ],
         "y": [
          14.14606857
         ],
         "z": [
          15
         ]
        },
        {
         "hovertemplate": "Species=Ocotea cf., aciphylla (Nees) Mez<br>DAP_INDIV=%{x}<br>BIOM_INDIV=%{y}<br>H_TOTAL=%{z}<extra></extra>",
         "legendgroup": "Ocotea cf., aciphylla (Nees) Mez",
         "marker": {
          "color": "#FECB52",
          "symbol": "circle"
         },
         "mode": "markers",
         "name": "Ocotea cf., aciphylla (Nees) Mez",
         "scene": "scene",
         "showlegend": true,
         "type": "scatter3d",
         "x": [
          0.243706007
         ],
         "y": [
          13.26985312
         ],
         "z": [
          13.75
         ]
        },
        {
         "hovertemplate": "Species=Ocotea cf., oblonga (Meisn.) Mez<br>DAP_INDIV=%{x}<br>BIOM_INDIV=%{y}<br>H_TOTAL=%{z}<extra></extra>",
         "legendgroup": "Ocotea cf., oblonga (Meisn.) Mez",
         "marker": {
          "color": "#636efa",
          "symbol": "circle"
         },
         "mode": "markers",
         "name": "Ocotea cf., oblonga (Meisn.) Mez",
         "scene": "scene",
         "showlegend": true,
         "type": "scatter3d",
         "x": [
          0.241491104
         ],
         "y": [
          12.76290766
         ],
         "z": [
          17
         ]
        },
        {
         "hovertemplate": "Species=Ocotea guianensis Aubl.<br>DAP_INDIV=%{x}<br>BIOM_INDIV=%{y}<br>H_TOTAL=%{z}<extra></extra>",
         "legendgroup": "Ocotea guianensis Aubl.",
         "marker": {
          "color": "#EF553B",
          "symbol": "circle"
         },
         "mode": "markers",
         "name": "Ocotea guianensis Aubl.",
         "scene": "scene",
         "showlegend": true,
         "type": "scatter3d",
         "x": [
          0.173147107
         ],
         "y": [
          12.86639747
         ],
         "z": [
          15.18181818
         ]
        },
        {
         "hovertemplate": "Species=Ocotea longifolia Kunth<br>DAP_INDIV=%{x}<br>BIOM_INDIV=%{y}<br>H_TOTAL=%{z}<extra></extra>",
         "legendgroup": "Ocotea longifolia Kunth",
         "marker": {
          "color": "#00cc96",
          "symbol": "circle"
         },
         "mode": "markers",
         "name": "Ocotea longifolia Kunth",
         "scene": "scene",
         "showlegend": true,
         "type": "scatter3d",
         "x": [
          0.315504316
         ],
         "y": [
          17.21254849
         ],
         "z": [
          15.5
         ]
        },
        {
         "hovertemplate": "Species=Ocotea sp.<br>DAP_INDIV=%{x}<br>BIOM_INDIV=%{y}<br>H_TOTAL=%{z}<extra></extra>",
         "legendgroup": "Ocotea sp.",
         "marker": {
          "color": "#ab63fa",
          "symbol": "circle"
         },
         "mode": "markers",
         "name": "Ocotea sp.",
         "scene": "scene",
         "showlegend": true,
         "type": "scatter3d",
         "x": [
          0.140772549
         ],
         "y": [
          6.712452769
         ],
         "z": [
          9.25
         ]
        },
        {
         "hovertemplate": "Species=Oenocarpus bataua Mart.<br>DAP_INDIV=%{x}<br>BIOM_INDIV=%{y}<br>H_TOTAL=%{z}<extra></extra>",
         "legendgroup": "Oenocarpus bataua Mart.",
         "marker": {
          "color": "#FFA15A",
          "symbol": "circle"
         },
         "mode": "markers",
         "name": "Oenocarpus bataua Mart.",
         "scene": "scene",
         "showlegend": true,
         "type": "scatter3d",
         "x": [
          0.168099678
         ],
         "y": [
          10.25647221
         ],
         "z": [
          10.2
         ]
        },
        {
         "hovertemplate": "Species=Oenocarpus minor Mart.<br>DAP_INDIV=%{x}<br>BIOM_INDIV=%{y}<br>H_TOTAL=%{z}<extra></extra>",
         "legendgroup": "Oenocarpus minor Mart.",
         "marker": {
          "color": "#19d3f3",
          "symbol": "circle"
         },
         "mode": "markers",
         "name": "Oenocarpus minor Mart.",
         "scene": "scene",
         "showlegend": true,
         "type": "scatter3d",
         "x": [
          0.16854509
         ],
         "y": [
          15.69989204
         ],
         "z": [
          15.5
         ]
        },
        {
         "hovertemplate": "Species=Ormosia cf., colombiana Rudd<br>DAP_INDIV=%{x}<br>BIOM_INDIV=%{y}<br>H_TOTAL=%{z}<extra></extra>",
         "legendgroup": "Ormosia cf., colombiana Rudd",
         "marker": {
          "color": "#FF6692",
          "symbol": "circle"
         },
         "mode": "markers",
         "name": "Ormosia cf., colombiana Rudd",
         "scene": "scene",
         "showlegend": true,
         "type": "scatter3d",
         "x": [
          0.459808476
         ],
         "y": [
          28.8055892
         ],
         "z": [
          23.25
         ]
        },
        {
         "hovertemplate": "Species=Ouratea ferruginea Engl.<br>DAP_INDIV=%{x}<br>BIOM_INDIV=%{y}<br>H_TOTAL=%{z}<extra></extra>",
         "legendgroup": "Ouratea ferruginea Engl.",
         "marker": {
          "color": "#B6E880",
          "symbol": "circle"
         },
         "mode": "markers",
         "name": "Ouratea ferruginea Engl.",
         "scene": "scene",
         "showlegend": true,
         "type": "scatter3d",
         "x": [
          0.101859167
         ],
         "y": [
          11.85428905
         ],
         "z": [
          12
         ]
        },
        {
         "hovertemplate": "Species=Pachira quinata (Jacq.) W.S. Alverson<br>DAP_INDIV=%{x}<br>BIOM_INDIV=%{y}<br>H_TOTAL=%{z}<extra></extra>",
         "legendgroup": "Pachira quinata (Jacq.) W.S. Alverson",
         "marker": {
          "color": "#FF97FF",
          "symbol": "circle"
         },
         "mode": "markers",
         "name": "Pachira quinata (Jacq.) W.S. Alverson",
         "scene": "scene",
         "showlegend": true,
         "type": "scatter3d",
         "x": [
          0.317673266
         ],
         "y": [
          21.50601006
         ],
         "z": [
          25
         ]
        },
        {
         "hovertemplate": "Species=Palicourea angustifolia Kunth.<br>DAP_INDIV=%{x}<br>BIOM_INDIV=%{y}<br>H_TOTAL=%{z}<extra></extra>",
         "legendgroup": "Palicourea angustifolia Kunth.",
         "marker": {
          "color": "#FECB52",
          "symbol": "circle"
         },
         "mode": "markers",
         "name": "Palicourea angustifolia Kunth.",
         "scene": "scene",
         "showlegend": true,
         "type": "scatter3d",
         "x": [
          0.177171285
         ],
         "y": [
          18.01839523
         ],
         "z": [
          17.8
         ]
        },
        {
         "hovertemplate": "Species=Peltogyne paniculata Benth.<br>DAP_INDIV=%{x}<br>BIOM_INDIV=%{y}<br>H_TOTAL=%{z}<extra></extra>",
         "legendgroup": "Peltogyne paniculata Benth.",
         "marker": {
          "color": "#636efa",
          "symbol": "circle"
         },
         "mode": "markers",
         "name": "Peltogyne paniculata Benth.",
         "scene": "scene",
         "showlegend": true,
         "type": "scatter3d",
         "x": [
          0.260135238
         ],
         "y": [
          30.91925939
         ],
         "z": [
          17.66666667
         ]
        },
        {
         "hovertemplate": "Species=Persea americana Mill.<br>DAP_INDIV=%{x}<br>BIOM_INDIV=%{y}<br>H_TOTAL=%{z}<extra></extra>",
         "legendgroup": "Persea americana Mill.",
         "marker": {
          "color": "#EF553B",
          "symbol": "circle"
         },
         "mode": "markers",
         "name": "Persea americana Mill.",
         "scene": "scene",
         "showlegend": true,
         "type": "scatter3d",
         "x": [
          0.149605647
         ],
         "y": [
          13.45873165
         ],
         "z": [
          15
         ]
        },
        {
         "hovertemplate": "Species=Phyllanthus acuminatus Vahl<br>DAP_INDIV=%{x}<br>BIOM_INDIV=%{y}<br>H_TOTAL=%{z}<extra></extra>",
         "legendgroup": "Phyllanthus acuminatus Vahl",
         "marker": {
          "color": "#00cc96",
          "symbol": "circle"
         },
         "mode": "markers",
         "name": "Phyllanthus acuminatus Vahl",
         "scene": "scene",
         "showlegend": true,
         "type": "scatter3d",
         "x": [
          0.160102406
         ],
         "y": [
          8.455372906
         ],
         "z": [
          9.4
         ]
        },
        {
         "hovertemplate": "Species=Phyllanthus elsiae Urb.<br>DAP_INDIV=%{x}<br>BIOM_INDIV=%{y}<br>H_TOTAL=%{z}<extra></extra>",
         "legendgroup": "Phyllanthus elsiae Urb.",
         "marker": {
          "color": "#ab63fa",
          "symbol": "circle"
         },
         "mode": "markers",
         "name": "Phyllanthus elsiae Urb.",
         "scene": "scene",
         "showlegend": true,
         "type": "scatter3d",
         "x": [
          0.109498598
         ],
         "y": [
          11.50928974
         ],
         "z": [
          15
         ]
        },
        {
         "hovertemplate": "Species=Phyllanthus attenuatus Miq.<br>DAP_INDIV=%{x}<br>BIOM_INDIV=%{y}<br>H_TOTAL=%{z}<extra></extra>",
         "legendgroup": "Phyllanthus attenuatus Miq.",
         "marker": {
          "color": "#FFA15A",
          "symbol": "circle"
         },
         "mode": "markers",
         "name": "Phyllanthus attenuatus Miq.",
         "scene": "scene",
         "showlegend": true,
         "type": "scatter3d",
         "x": [
          0.154459871
         ],
         "y": [
          10.63450599
         ],
         "z": [
          12.125
         ]
        },
        {
         "hovertemplate": "Species=Piptocoma discolor (Kunth.) Pruski.<br>DAP_INDIV=%{x}<br>BIOM_INDIV=%{y}<br>H_TOTAL=%{z}<extra></extra>",
         "legendgroup": "Piptocoma discolor (Kunth.) Pruski.",
         "marker": {
          "color": "#19d3f3",
          "symbol": "circle"
         },
         "mode": "markers",
         "name": "Piptocoma discolor (Kunth.) Pruski.",
         "scene": "scene",
         "showlegend": true,
         "type": "scatter3d",
         "x": [
          0.207538038
         ],
         "y": [
          14.18179989
         ],
         "z": [
          18
         ]
        },
        {
         "hovertemplate": "Species=Pithecellobium dulce (Roxb.) Benth.<br>DAP_INDIV=%{x}<br>BIOM_INDIV=%{y}<br>H_TOTAL=%{z}<extra></extra>",
         "legendgroup": "Pithecellobium dulce (Roxb.) Benth.",
         "marker": {
          "color": "#FF6692",
          "symbol": "circle"
         },
         "mode": "markers",
         "name": "Pithecellobium dulce (Roxb.) Benth.",
         "scene": "scene",
         "showlegend": true,
         "type": "scatter3d",
         "x": [
          0.137037178
         ],
         "y": [
          9.97837766
         ],
         "z": [
          8
         ]
        },
        {
         "hovertemplate": "Species=Pithecellobium longifolium (Humb. & Bonpl. ex W.)<br>DAP_INDIV=%{x}<br>BIOM_INDIV=%{y}<br>H_TOTAL=%{z}<extra></extra>",
         "legendgroup": "Pithecellobium longifolium (Humb. & Bonpl. ex W.)",
         "marker": {
          "color": "#B6E880",
          "symbol": "circle"
         },
         "mode": "markers",
         "name": "Pithecellobium longifolium (Humb. & Bonpl. ex W.)",
         "scene": "scene",
         "showlegend": true,
         "type": "scatter3d",
         "x": [
          0.1642479
         ],
         "y": [
          5.012367249
         ],
         "z": [
          9
         ]
        },
        {
         "hovertemplate": "Species=Poeppigia procera C. Presl<br>DAP_INDIV=%{x}<br>BIOM_INDIV=%{y}<br>H_TOTAL=%{z}<extra></extra>",
         "legendgroup": "Poeppigia procera C. Presl",
         "marker": {
          "color": "#FF97FF",
          "symbol": "circle"
         },
         "mode": "markers",
         "name": "Poeppigia procera C. Presl",
         "scene": "scene",
         "showlegend": true,
         "type": "scatter3d",
         "x": [
          0.119366206
         ],
         "y": [
          9.45714283
         ],
         "z": [
          10
         ]
        },
        {
         "hovertemplate": "Species=Pourouma bicolor Mart.<br>DAP_INDIV=%{x}<br>BIOM_INDIV=%{y}<br>H_TOTAL=%{z}<extra></extra>",
         "legendgroup": "Pourouma bicolor Mart.",
         "marker": {
          "color": "#FECB52",
          "symbol": "circle"
         },
         "mode": "markers",
         "name": "Pourouma bicolor Mart.",
         "scene": "scene",
         "showlegend": true,
         "type": "scatter3d",
         "x": [
          0.173545202
         ],
         "y": [
          6.705840414
         ],
         "z": [
          12.41666667
         ]
        },
        {
         "hovertemplate": "Species=Pouteria cuspidata (A.DC.) Baehni<br>DAP_INDIV=%{x}<br>BIOM_INDIV=%{y}<br>H_TOTAL=%{z}<extra></extra>",
         "legendgroup": "Pouteria cuspidata (A.DC.) Baehni",
         "marker": {
          "color": "#636efa",
          "symbol": "circle"
         },
         "mode": "markers",
         "name": "Pouteria cuspidata (A.DC.) Baehni",
         "scene": "scene",
         "showlegend": true,
         "type": "scatter3d",
         "x": [
          0.62388736
         ],
         "y": [
          34.95622635
         ],
         "z": [
          17
         ]
        },
        {
         "hovertemplate": "Species=Pouteria multiflora (A.DC.) Eyma<br>DAP_INDIV=%{x}<br>BIOM_INDIV=%{y}<br>H_TOTAL=%{z}<extra></extra>",
         "legendgroup": "Pouteria multiflora (A.DC.) Eyma",
         "marker": {
          "color": "#EF553B",
          "symbol": "circle"
         },
         "mode": "markers",
         "name": "Pouteria multiflora (A.DC.) Eyma",
         "scene": "scene",
         "showlegend": true,
         "type": "scatter3d",
         "x": [
          0.1675926
         ],
         "y": [
          16.82080973
         ],
         "z": [
          14.47058824
         ]
        },
        {
         "hovertemplate": "Species=Pouteria sp.<br>DAP_INDIV=%{x}<br>BIOM_INDIV=%{y}<br>H_TOTAL=%{z}<extra></extra>",
         "legendgroup": "Pouteria sp.",
         "marker": {
          "color": "#00cc96",
          "symbol": "circle"
         },
         "mode": "markers",
         "name": "Pouteria sp.",
         "scene": "scene",
         "showlegend": true,
         "type": "scatter3d",
         "x": [
          0.204673255
         ],
         "y": [
          11.6488301
         ],
         "z": [
          9.333333333
         ]
        },
        {
         "hovertemplate": "Species=Protium heptaphyllum (Aubl.) Marchand.<br>DAP_INDIV=%{x}<br>BIOM_INDIV=%{y}<br>H_TOTAL=%{z}<extra></extra>",
         "legendgroup": "Protium heptaphyllum (Aubl.) Marchand.",
         "marker": {
          "color": "#ab63fa",
          "symbol": "circle"
         },
         "mode": "markers",
         "name": "Protium heptaphyllum (Aubl.) Marchand.",
         "scene": "scene",
         "showlegend": true,
         "type": "scatter3d",
         "x": [
          0.152592321
         ],
         "y": [
          11.70745349
         ],
         "z": [
          13
         ]
        },
        {
         "hovertemplate": "Species=Protium tovarense Pittier<br>DAP_INDIV=%{x}<br>BIOM_INDIV=%{y}<br>H_TOTAL=%{z}<extra></extra>",
         "legendgroup": "Protium tovarense Pittier",
         "marker": {
          "color": "#FFA15A",
          "symbol": "circle"
         },
         "mode": "markers",
         "name": "Protium tovarense Pittier",
         "scene": "scene",
         "showlegend": true,
         "type": "scatter3d",
         "x": [
          0.216052834
         ],
         "y": [
          12.64828014
         ],
         "z": [
          16.75
         ]
        },
        {
         "hovertemplate": "Species=Pseudobombax septenatum (Jacq.) Dugand.<br>DAP_INDIV=%{x}<br>BIOM_INDIV=%{y}<br>H_TOTAL=%{z}<extra></extra>",
         "legendgroup": "Pseudobombax septenatum (Jacq.) Dugand.",
         "marker": {
          "color": "#19d3f3",
          "symbol": "circle"
         },
         "mode": "markers",
         "name": "Pseudobombax septenatum (Jacq.) Dugand.",
         "scene": "scene",
         "showlegend": true,
         "type": "scatter3d",
         "x": [
          0.142761983
         ],
         "y": [
          5.678655505
         ],
         "z": [
          14.5
         ]
        },
        {
         "hovertemplate": "Species=Pseudolmedia cf., rigida (Klotzsch & H.Karst.) C.<br>DAP_INDIV=%{x}<br>BIOM_INDIV=%{y}<br>H_TOTAL=%{z}<extra></extra>",
         "legendgroup": "Pseudolmedia cf., rigida (Klotzsch & H.Karst.) C.",
         "marker": {
          "color": "#FF6692",
          "symbol": "circle"
         },
         "mode": "markers",
         "name": "Pseudolmedia cf., rigida (Klotzsch & H.Karst.) C.",
         "scene": "scene",
         "showlegend": true,
         "type": "scatter3d",
         "x": [
          0.138850984
         ],
         "y": [
          9.674485246
         ],
         "z": [
          10.08333333
         ]
        },
        {
         "hovertemplate": "Species=Pseudolmedia laevigata Trécul<br>DAP_INDIV=%{x}<br>BIOM_INDIV=%{y}<br>H_TOTAL=%{z}<extra></extra>",
         "legendgroup": "Pseudolmedia laevigata Trécul",
         "marker": {
          "color": "#B6E880",
          "symbol": "circle"
         },
         "mode": "markers",
         "name": "Pseudolmedia laevigata Trécul",
         "scene": "scene",
         "showlegend": true,
         "type": "scatter3d",
         "x": [
          0.153425366
         ],
         "y": [
          17.38700533
         ],
         "z": [
          18
         ]
        },
        {
         "hovertemplate": "Species=Pseudolmedia rigida (Klotzsch & H.Karst.) Cuatrec.<br>DAP_INDIV=%{x}<br>BIOM_INDIV=%{y}<br>H_TOTAL=%{z}<extra></extra>",
         "legendgroup": "Pseudolmedia rigida (Klotzsch & H.Karst.) Cuatrec.",
         "marker": {
          "color": "#FF97FF",
          "symbol": "circle"
         },
         "mode": "markers",
         "name": "Pseudolmedia rigida (Klotzsch & H.Karst.) Cuatrec.",
         "scene": "scene",
         "showlegend": true,
         "type": "scatter3d",
         "x": [
          0.197113397
         ],
         "y": [
          16.42463452
         ],
         "z": [
          15.25
         ]
        },
        {
         "hovertemplate": "Species=Psychotria brachiata Sw.<br>DAP_INDIV=%{x}<br>BIOM_INDIV=%{y}<br>H_TOTAL=%{z}<extra></extra>",
         "legendgroup": "Psychotria brachiata Sw.",
         "marker": {
          "color": "#FECB52",
          "symbol": "circle"
         },
         "mode": "markers",
         "name": "Psychotria brachiata Sw.",
         "scene": "scene",
         "showlegend": true,
         "type": "scatter3d",
         "x": [
          0.189553529
         ],
         "y": [
          12.90358043
         ],
         "z": [
          15
         ]
        },
        {
         "hovertemplate": "Species=Psychotria cf., deflexa DC.<br>DAP_INDIV=%{x}<br>BIOM_INDIV=%{y}<br>H_TOTAL=%{z}<extra></extra>",
         "legendgroup": "Psychotria cf., deflexa DC.",
         "marker": {
          "color": "#636efa",
          "symbol": "circle"
         },
         "mode": "markers",
         "name": "Psychotria cf., deflexa DC.",
         "scene": "scene",
         "showlegend": true,
         "type": "scatter3d",
         "x": [
          0.212432062
         ],
         "y": [
          11.23077059
         ],
         "z": [
          12.75
         ]
        },
        {
         "hovertemplate": "Species=Psychotria deflexa DC.<br>DAP_INDIV=%{x}<br>BIOM_INDIV=%{y}<br>H_TOTAL=%{z}<extra></extra>",
         "legendgroup": "Psychotria deflexa DC.",
         "marker": {
          "color": "#EF553B",
          "symbol": "circle"
         },
         "mode": "markers",
         "name": "Psychotria deflexa DC.",
         "scene": "scene",
         "showlegend": true,
         "type": "scatter3d",
         "x": [
          0.197776798
         ],
         "y": [
          11.79284692
         ],
         "z": [
          13.5
         ]
        },
        {
         "hovertemplate": "Species=Pterocarpus rohrii Vahl<br>DAP_INDIV=%{x}<br>BIOM_INDIV=%{y}<br>H_TOTAL=%{z}<extra></extra>",
         "legendgroup": "Pterocarpus rohrii Vahl",
         "marker": {
          "color": "#00cc96",
          "symbol": "circle"
         },
         "mode": "markers",
         "name": "Pterocarpus rohrii Vahl",
         "scene": "scene",
         "showlegend": true,
         "type": "scatter3d",
         "x": [
          0.541182995
         ],
         "y": [
          19.06081772
         ],
         "z": [
          18
         ]
        },
        {
         "hovertemplate": "Species=Roupala pachypoda Cuatrec.<br>DAP_INDIV=%{x}<br>BIOM_INDIV=%{y}<br>H_TOTAL=%{z}<extra></extra>",
         "legendgroup": "Roupala pachypoda Cuatrec.",
         "marker": {
          "color": "#ab63fa",
          "symbol": "circle"
         },
         "mode": "markers",
         "name": "Roupala pachypoda Cuatrec.",
         "scene": "scene",
         "showlegend": true,
         "type": "scatter3d",
         "x": [
          0.17618452
         ],
         "y": [
          19.81432915
         ],
         "z": [
          16
         ]
        },
        {
         "hovertemplate": "Species=Sabal mauritiiformis (H. Karst.) Griseb & H. Wendl<br>DAP_INDIV=%{x}<br>BIOM_INDIV=%{y}<br>H_TOTAL=%{z}<extra></extra>",
         "legendgroup": "Sabal mauritiiformis (H. Karst.) Griseb & H. Wendl",
         "marker": {
          "color": "#FFA15A",
          "symbol": "circle"
         },
         "mode": "markers",
         "name": "Sabal mauritiiformis (H. Karst.) Griseb & H. Wendl",
         "scene": "scene",
         "showlegend": true,
         "type": "scatter3d",
         "x": [
          0.150013261
         ],
         "y": [
          10.80527782
         ],
         "z": [
          16
         ]
        },
        {
         "hovertemplate": "Species=Samanea saman (Jacq.) Merr.<br>DAP_INDIV=%{x}<br>BIOM_INDIV=%{y}<br>H_TOTAL=%{z}<extra></extra>",
         "legendgroup": "Samanea saman (Jacq.) Merr.",
         "marker": {
          "color": "#19d3f3",
          "symbol": "circle"
         },
         "mode": "markers",
         "name": "Samanea saman (Jacq.) Merr.",
         "scene": "scene",
         "showlegend": true,
         "type": "scatter3d",
         "x": [
          0.524583886
         ],
         "y": [
          17.51884099
         ],
         "z": [
          16.22222222
         ]
        },
        {
         "hovertemplate": "Species=Sapium glandulosum (L.) Morong<br>DAP_INDIV=%{x}<br>BIOM_INDIV=%{y}<br>H_TOTAL=%{z}<extra></extra>",
         "legendgroup": "Sapium glandulosum (L.) Morong",
         "marker": {
          "color": "#FF6692",
          "symbol": "circle"
         },
         "mode": "markers",
         "name": "Sapium glandulosum (L.) Morong",
         "scene": "scene",
         "showlegend": true,
         "type": "scatter3d",
         "x": [
          0.177525971
         ],
         "y": [
          11.88878877
         ],
         "z": [
          16.71428571
         ]
        },
        {
         "hovertemplate": "Species=Sapium laurifolium (A. Rich.) Griseb.<br>DAP_INDIV=%{x}<br>BIOM_INDIV=%{y}<br>H_TOTAL=%{z}<extra></extra>",
         "legendgroup": "Sapium laurifolium (A. Rich.) Griseb.",
         "marker": {
          "color": "#B6E880",
          "symbol": "circle"
         },
         "mode": "markers",
         "name": "Sapium laurifolium (A. Rich.) Griseb.",
         "scene": "scene",
         "showlegend": true,
         "type": "scatter3d",
         "x": [
          0.23786795
         ],
         "y": [
          6.932962847
         ],
         "z": [
          9.6
         ]
        },
        {
         "hovertemplate": "Species=Schefflera morototoni (Aubl.) Maguire, S. & F.<br>DAP_INDIV=%{x}<br>BIOM_INDIV=%{y}<br>H_TOTAL=%{z}<extra></extra>",
         "legendgroup": "Schefflera morototoni (Aubl.) Maguire, S. & F.",
         "marker": {
          "color": "#FF97FF",
          "symbol": "circle"
         },
         "mode": "markers",
         "name": "Schefflera morototoni (Aubl.) Maguire, S. & F.",
         "scene": "scene",
         "showlegend": true,
         "type": "scatter3d",
         "x": [
          0.241926753
         ],
         "y": [
          14.35154385
         ],
         "z": [
          18.54761905
         ]
        },
        {
         "hovertemplate": "Species=Schizolobium parahyba (Vell.) S.F.Blake<br>DAP_INDIV=%{x}<br>BIOM_INDIV=%{y}<br>H_TOTAL=%{z}<extra></extra>",
         "legendgroup": "Schizolobium parahyba (Vell.) S.F.Blake",
         "marker": {
          "color": "#FECB52",
          "symbol": "circle"
         },
         "mode": "markers",
         "name": "Schizolobium parahyba (Vell.) S.F.Blake",
         "scene": "scene",
         "showlegend": true,
         "type": "scatter3d",
         "x": [
          0.173383394
         ],
         "y": [
          11.47977953
         ],
         "z": [
          14.7
         ]
        },
        {
         "hovertemplate": "Species=Senna alata (L.) Roxb.<br>DAP_INDIV=%{x}<br>BIOM_INDIV=%{y}<br>H_TOTAL=%{z}<extra></extra>",
         "legendgroup": "Senna alata (L.) Roxb.",
         "marker": {
          "color": "#636efa",
          "symbol": "circle"
         },
         "mode": "markers",
         "name": "Senna alata (L.) Roxb.",
         "scene": "scene",
         "showlegend": true,
         "type": "scatter3d",
         "x": [
          0.125414088
         ],
         "y": [
          5.032511711
         ],
         "z": [
          8
         ]
        },
        {
         "hovertemplate": "Species=Senna sp.<br>DAP_INDIV=%{x}<br>BIOM_INDIV=%{y}<br>H_TOTAL=%{z}<extra></extra>",
         "legendgroup": "Senna sp.",
         "marker": {
          "color": "#EF553B",
          "symbol": "circle"
         },
         "mode": "markers",
         "name": "Senna sp.",
         "scene": "scene",
         "showlegend": true,
         "type": "scatter3d",
         "x": [
          0.14992395
         ],
         "y": [
          6.734652519
         ],
         "z": [
          10
         ]
        },
        {
         "hovertemplate": "Species=Simarouba amara Aubl.<br>DAP_INDIV=%{x}<br>BIOM_INDIV=%{y}<br>H_TOTAL=%{z}<extra></extra>",
         "legendgroup": "Simarouba amara Aubl.",
         "marker": {
          "color": "#00cc96",
          "symbol": "circle"
         },
         "mode": "markers",
         "name": "Simarouba amara Aubl.",
         "scene": "scene",
         "showlegend": true,
         "type": "scatter3d",
         "x": [
          0.160452694
         ],
         "y": [
          6.391384494
         ],
         "z": [
          10.675
         ]
        },
        {
         "hovertemplate": "Species=Sloanea guianensis (Aubl.) Benth.<br>DAP_INDIV=%{x}<br>BIOM_INDIV=%{y}<br>H_TOTAL=%{z}<extra></extra>",
         "legendgroup": "Sloanea guianensis (Aubl.) Benth.",
         "marker": {
          "color": "#ab63fa",
          "symbol": "circle"
         },
         "mode": "markers",
         "name": "Sloanea guianensis (Aubl.) Benth.",
         "scene": "scene",
         "showlegend": true,
         "type": "scatter3d",
         "x": [
          0.153489146
         ],
         "y": [
          13.88363123
         ],
         "z": [
          11.25
         ]
        },
        {
         "hovertemplate": "Species=Socratea exorrhiza (Mart.) H.Wendl.<br>DAP_INDIV=%{x}<br>BIOM_INDIV=%{y}<br>H_TOTAL=%{z}<extra></extra>",
         "legendgroup": "Socratea exorrhiza (Mart.) H.Wendl.",
         "marker": {
          "color": "#FFA15A",
          "symbol": "circle"
         },
         "mode": "markers",
         "name": "Socratea exorrhiza (Mart.) H.Wendl.",
         "scene": "scene",
         "showlegend": true,
         "type": "scatter3d",
         "x": [
          0.119684517
         ],
         "y": [
          4.72333622
         ],
         "z": [
          15
         ]
        },
        {
         "hovertemplate": "Species=Sorocea pubivena Hemsl<br>DAP_INDIV=%{x}<br>BIOM_INDIV=%{y}<br>H_TOTAL=%{z}<extra></extra>",
         "legendgroup": "Sorocea pubivena Hemsl",
         "marker": {
          "color": "#19d3f3",
          "symbol": "circle"
         },
         "mode": "markers",
         "name": "Sorocea pubivena Hemsl",
         "scene": "scene",
         "showlegend": true,
         "type": "scatter3d",
         "x": [
          0.17567169
         ],
         "y": [
          8.688840071
         ],
         "z": [
          9.222222222
         ]
        },
        {
         "hovertemplate": "Species=Spondias mombin L.<br>DAP_INDIV=%{x}<br>BIOM_INDIV=%{y}<br>H_TOTAL=%{z}<extra></extra>",
         "legendgroup": "Spondias mombin L.",
         "marker": {
          "color": "#FF6692",
          "symbol": "circle"
         },
         "mode": "markers",
         "name": "Spondias mombin L.",
         "scene": "scene",
         "showlegend": true,
         "type": "scatter3d",
         "x": [
          0.252032232
         ],
         "y": [
          10.85290247
         ],
         "z": [
          15
         ]
        },
        {
         "hovertemplate": "Species=Swartzia amplifolia Harms<br>DAP_INDIV=%{x}<br>BIOM_INDIV=%{y}<br>H_TOTAL=%{z}<extra></extra>",
         "legendgroup": "Swartzia amplifolia Harms",
         "marker": {
          "color": "#B6E880",
          "symbol": "circle"
         },
         "mode": "markers",
         "name": "Swartzia amplifolia Harms",
         "scene": "scene",
         "showlegend": true,
         "type": "scatter3d",
         "x": [
          0.211550973
         ],
         "y": [
          13.97941107
         ],
         "z": [
          13.72222222
         ]
        },
        {
         "hovertemplate": "Species=Tabernaemontana sananho Ruiz & Pav.<br>DAP_INDIV=%{x}<br>BIOM_INDIV=%{y}<br>H_TOTAL=%{z}<extra></extra>",
         "legendgroup": "Tabernaemontana sananho Ruiz & Pav.",
         "marker": {
          "color": "#FF97FF",
          "symbol": "circle"
         },
         "mode": "markers",
         "name": "Tabernaemontana sananho Ruiz & Pav.",
         "scene": "scene",
         "showlegend": true,
         "type": "scatter3d",
         "x": [
          0.195622146
         ],
         "y": [
          14.20044651
         ],
         "z": [
          18.6
         ]
        },
        {
         "hovertemplate": "Species=Tapirira guianensis Aubl.<br>DAP_INDIV=%{x}<br>BIOM_INDIV=%{y}<br>H_TOTAL=%{z}<extra></extra>",
         "legendgroup": "Tapirira guianensis Aubl.",
         "marker": {
          "color": "#FECB52",
          "symbol": "circle"
         },
         "mode": "markers",
         "name": "Tapirira guianensis Aubl.",
         "scene": "scene",
         "showlegend": true,
         "type": "scatter3d",
         "x": [
          0.204173344
         ],
         "y": [
          11.17152069
         ],
         "z": [
          14.29697987
         ]
        },
        {
         "hovertemplate": "Species=Terminalia amazonia (J.F.Gmel.) Exell<br>DAP_INDIV=%{x}<br>BIOM_INDIV=%{y}<br>H_TOTAL=%{z}<extra></extra>",
         "legendgroup": "Terminalia amazonia (J.F.Gmel.) Exell",
         "marker": {
          "color": "#636efa",
          "symbol": "circle"
         },
         "mode": "markers",
         "name": "Terminalia amazonia (J.F.Gmel.) Exell",
         "scene": "scene",
         "showlegend": true,
         "type": "scatter3d",
         "x": [
          0.271942747
         ],
         "y": [
          18.40710735
         ],
         "z": [
          14.66666667
         ]
        },
        {
         "hovertemplate": "Species=Terminalia catappa L.<br>DAP_INDIV=%{x}<br>BIOM_INDIV=%{y}<br>H_TOTAL=%{z}<extra></extra>",
         "legendgroup": "Terminalia catappa L.",
         "marker": {
          "color": "#EF553B",
          "symbol": "circle"
         },
         "mode": "markers",
         "name": "Terminalia catappa L.",
         "scene": "scene",
         "showlegend": true,
         "type": "scatter3d",
         "x": [
          0.133473825
         ],
         "y": [
          10.91193867
         ],
         "z": [
          13
         ]
        },
        {
         "hovertemplate": "Species=Tetrorchidium rubrivenium Poepp.<br>DAP_INDIV=%{x}<br>BIOM_INDIV=%{y}<br>H_TOTAL=%{z}<extra></extra>",
         "legendgroup": "Tetrorchidium rubrivenium Poepp.",
         "marker": {
          "color": "#00cc96",
          "symbol": "circle"
         },
         "mode": "markers",
         "name": "Tetrorchidium rubrivenium Poepp.",
         "scene": "scene",
         "showlegend": true,
         "type": "scatter3d",
         "x": [
          0.175770721
         ],
         "y": [
          11.68074245
         ],
         "z": [
          16.2
         ]
        },
        {
         "hovertemplate": "Species=Thevetia ahouai (L.) A.DC.<br>DAP_INDIV=%{x}<br>BIOM_INDIV=%{y}<br>H_TOTAL=%{z}<extra></extra>",
         "legendgroup": "Thevetia ahouai (L.) A.DC.",
         "marker": {
          "color": "#ab63fa",
          "symbol": "circle"
         },
         "mode": "markers",
         "name": "Thevetia ahouai (L.) A.DC.",
         "scene": "scene",
         "showlegend": true,
         "type": "scatter3d",
         "x": [
          0.137828179
         ],
         "y": [
          8.761437257
         ],
         "z": [
          8.333333333
         ]
        },
        {
         "hovertemplate": "Species=Trattinnickia aspera (Standl.) Swart<br>DAP_INDIV=%{x}<br>BIOM_INDIV=%{y}<br>H_TOTAL=%{z}<extra></extra>",
         "legendgroup": "Trattinnickia aspera (Standl.) Swart",
         "marker": {
          "color": "#FFA15A",
          "symbol": "circle"
         },
         "mode": "markers",
         "name": "Trattinnickia aspera (Standl.) Swart",
         "scene": "scene",
         "showlegend": true,
         "type": "scatter3d",
         "x": [
          0.186131904
         ],
         "y": [
          11.48461744
         ],
         "z": [
          16.78571429
         ]
        },
        {
         "hovertemplate": "Species=Trattinnickia cf. aspera (Standl.) Swart<br>DAP_INDIV=%{x}<br>BIOM_INDIV=%{y}<br>H_TOTAL=%{z}<extra></extra>",
         "legendgroup": "Trattinnickia cf. aspera (Standl.) Swart",
         "marker": {
          "color": "#19d3f3",
          "symbol": "circle"
         },
         "mode": "markers",
         "name": "Trattinnickia cf. aspera (Standl.) Swart",
         "scene": "scene",
         "showlegend": true,
         "type": "scatter3d",
         "x": [
          0.262348559
         ],
         "y": [
          12.11731316
         ],
         "z": [
          15.92307692
         ]
        },
        {
         "hovertemplate": "Species=Triplaris americana L.<br>DAP_INDIV=%{x}<br>BIOM_INDIV=%{y}<br>H_TOTAL=%{z}<extra></extra>",
         "legendgroup": "Triplaris americana L.",
         "marker": {
          "color": "#FF6692",
          "symbol": "circle"
         },
         "mode": "markers",
         "name": "Triplaris americana L.",
         "scene": "scene",
         "showlegend": true,
         "type": "scatter3d",
         "x": [
          0.154132665
         ],
         "y": [
          10.14711793
         ],
         "z": [
          13.88571429
         ]
        },
        {
         "hovertemplate": "Species=Trophis racemosa (L.) Urb.<br>DAP_INDIV=%{x}<br>BIOM_INDIV=%{y}<br>H_TOTAL=%{z}<extra></extra>",
         "legendgroup": "Trophis racemosa (L.) Urb.",
         "marker": {
          "color": "#B6E880",
          "symbol": "circle"
         },
         "mode": "markers",
         "name": "Trophis racemosa (L.) Urb.",
         "scene": "scene",
         "showlegend": true,
         "type": "scatter3d",
         "x": [
          0.137470482
         ],
         "y": [
          9.206635237
         ],
         "z": [
          11.5
         ]
        },
        {
         "hovertemplate": "Species=Virola sebifera Aubl.<br>DAP_INDIV=%{x}<br>BIOM_INDIV=%{y}<br>H_TOTAL=%{z}<extra></extra>",
         "legendgroup": "Virola sebifera Aubl.",
         "marker": {
          "color": "#FF97FF",
          "symbol": "circle"
         },
         "mode": "markers",
         "name": "Virola sebifera Aubl.",
         "scene": "scene",
         "showlegend": true,
         "type": "scatter3d",
         "x": [
          0.247415341
         ],
         "y": [
          14.71245451
         ],
         "z": [
          18.49180328
         ]
        },
        {
         "hovertemplate": "Species=Vismia guianensis (Aubl.) Pers.<br>DAP_INDIV=%{x}<br>BIOM_INDIV=%{y}<br>H_TOTAL=%{z}<extra></extra>",
         "legendgroup": "Vismia guianensis (Aubl.) Pers.",
         "marker": {
          "color": "#FECB52",
          "symbol": "circle"
         },
         "mode": "markers",
         "name": "Vismia guianensis (Aubl.) Pers.",
         "scene": "scene",
         "showlegend": true,
         "type": "scatter3d",
         "x": [
          0.143010304
         ],
         "y": [
          8.375382395
         ],
         "z": [
          11.52941176
         ]
        },
        {
         "hovertemplate": "Species=Vochysia ferruginea Mart.<br>DAP_INDIV=%{x}<br>BIOM_INDIV=%{y}<br>H_TOTAL=%{z}<extra></extra>",
         "legendgroup": "Vochysia ferruginea Mart.",
         "marker": {
          "color": "#636efa",
          "symbol": "circle"
         },
         "mode": "markers",
         "name": "Vochysia ferruginea Mart.",
         "scene": "scene",
         "showlegend": true,
         "type": "scatter3d",
         "x": [
          0.144831
         ],
         "y": [
          6.755534302
         ],
         "z": [
          10.36363636
         ]
        },
        {
         "hovertemplate": "Species=Vochysia lehmannii Hieron.<br>DAP_INDIV=%{x}<br>BIOM_INDIV=%{y}<br>H_TOTAL=%{z}<extra></extra>",
         "legendgroup": "Vochysia lehmannii Hieron.",
         "marker": {
          "color": "#EF553B",
          "symbol": "circle"
         },
         "mode": "markers",
         "name": "Vochysia lehmannii Hieron.",
         "scene": "scene",
         "showlegend": true,
         "type": "scatter3d",
         "x": [
          0.256125775
         ],
         "y": [
          13.43300012
         ],
         "z": [
          16.2
         ]
        },
        {
         "hovertemplate": "Species=Wittmackanthus stanleyanus (M.R.Schomb.) Kunt.<br>DAP_INDIV=%{x}<br>BIOM_INDIV=%{y}<br>H_TOTAL=%{z}<extra></extra>",
         "legendgroup": "Wittmackanthus stanleyanus (M.R.Schomb.) Kunt.",
         "marker": {
          "color": "#00cc96",
          "symbol": "circle"
         },
         "mode": "markers",
         "name": "Wittmackanthus stanleyanus (M.R.Schomb.) Kunt.",
         "scene": "scene",
         "showlegend": true,
         "type": "scatter3d",
         "x": [
          0.27151832
         ],
         "y": [
          20.73049355
         ],
         "z": [
          16
         ]
        },
        {
         "hovertemplate": "Species=Xylopia aromatica (Lam.) Mart.<br>DAP_INDIV=%{x}<br>BIOM_INDIV=%{y}<br>H_TOTAL=%{z}<extra></extra>",
         "legendgroup": "Xylopia aromatica (Lam.) Mart.",
         "marker": {
          "color": "#ab63fa",
          "symbol": "circle"
         },
         "mode": "markers",
         "name": "Xylopia aromatica (Lam.) Mart.",
         "scene": "scene",
         "showlegend": true,
         "type": "scatter3d",
         "x": [
          0.190137587
         ],
         "y": [
          14.12405948
         ],
         "z": [
          15.04117647
         ]
        },
        {
         "hovertemplate": "Species=Xylopia discreta (L.f.) Sprague & Hutch.<br>DAP_INDIV=%{x}<br>BIOM_INDIV=%{y}<br>H_TOTAL=%{z}<extra></extra>",
         "legendgroup": "Xylopia discreta (L.f.) Sprague & Hutch.",
         "marker": {
          "color": "#FFA15A",
          "symbol": "circle"
         },
         "mode": "markers",
         "name": "Xylopia discreta (L.f.) Sprague & Hutch.",
         "scene": "scene",
         "showlegend": true,
         "type": "scatter3d",
         "x": [
          0.178946954
         ],
         "y": [
          10.63017962
         ],
         "z": [
          13.09090909
         ]
        },
        {
         "hovertemplate": "Species=Xylopia emarginata Mart.<br>DAP_INDIV=%{x}<br>BIOM_INDIV=%{y}<br>H_TOTAL=%{z}<extra></extra>",
         "legendgroup": "Xylopia emarginata Mart.",
         "marker": {
          "color": "#19d3f3",
          "symbol": "circle"
         },
         "mode": "markers",
         "name": "Xylopia emarginata Mart.",
         "scene": "scene",
         "showlegend": true,
         "type": "scatter3d",
         "x": [
          0.158310695
         ],
         "y": [
          12.08954158
         ],
         "z": [
          13.39814815
         ]
        },
        {
         "hovertemplate": "Species=Xylopia polyantha R.E.Fr.<br>DAP_INDIV=%{x}<br>BIOM_INDIV=%{y}<br>H_TOTAL=%{z}<extra></extra>",
         "legendgroup": "Xylopia polyantha R.E.Fr.",
         "marker": {
          "color": "#FF6692",
          "symbol": "circle"
         },
         "mode": "markers",
         "name": "Xylopia polyantha R.E.Fr.",
         "scene": "scene",
         "showlegend": true,
         "type": "scatter3d",
         "x": [
          0.152894847
         ],
         "y": [
          13.77598794
         ],
         "z": [
          15.33333333
         ]
        },
        {
         "hovertemplate": "Species=Zygia inaequalis (Willd.) Pittier<br>DAP_INDIV=%{x}<br>BIOM_INDIV=%{y}<br>H_TOTAL=%{z}<extra></extra>",
         "legendgroup": "Zygia inaequalis (Willd.) Pittier",
         "marker": {
          "color": "#B6E880",
          "symbol": "circle"
         },
         "mode": "markers",
         "name": "Zygia inaequalis (Willd.) Pittier",
         "scene": "scene",
         "showlegend": true,
         "type": "scatter3d",
         "x": [
          0.204782264
         ],
         "y": [
          11.35304726
         ],
         "z": [
          10.05555556
         ]
        },
        {
         "hovertemplate": "Species=Zygia ocumarensis (Pittier) Barneby & J.W.Grimes<br>DAP_INDIV=%{x}<br>BIOM_INDIV=%{y}<br>H_TOTAL=%{z}<extra></extra>",
         "legendgroup": "Zygia ocumarensis (Pittier) Barneby & J.W.Grimes",
         "marker": {
          "color": "#FF97FF",
          "symbol": "circle"
         },
         "mode": "markers",
         "name": "Zygia ocumarensis (Pittier) Barneby & J.W.Grimes",
         "scene": "scene",
         "showlegend": true,
         "type": "scatter3d",
         "x": [
          0.167292934
         ],
         "y": [
          10.60021528
         ],
         "z": [
          13.55555556
         ]
        }
       ],
       "layout": {
        "height": 800,
        "legend": {
         "title": {
          "text": "Species"
         },
         "tracegroupgap": 0
        },
        "margin": {
         "t": 60
        },
        "scene": {
         "domain": {
          "x": [
           0,
           1
          ],
          "y": [
           0,
           1
          ]
         },
         "xaxis": {
          "title": {
           "text": "DAP_INDIV"
          }
         },
         "yaxis": {
          "title": {
           "text": "BIOM_INDIV"
          }
         },
         "zaxis": {
          "title": {
           "text": "H_TOTAL"
          }
         }
        },
        "template": {
         "data": {
          "bar": [
           {
            "error_x": {
             "color": "#2a3f5f"
            },
            "error_y": {
             "color": "#2a3f5f"
            },
            "marker": {
             "line": {
              "color": "#E5ECF6",
              "width": 0.5
             },
             "pattern": {
              "fillmode": "overlay",
              "size": 10,
              "solidity": 0.2
             }
            },
            "type": "bar"
           }
          ],
          "barpolar": [
           {
            "marker": {
             "line": {
              "color": "#E5ECF6",
              "width": 0.5
             },
             "pattern": {
              "fillmode": "overlay",
              "size": 10,
              "solidity": 0.2
             }
            },
            "type": "barpolar"
           }
          ],
          "carpet": [
           {
            "aaxis": {
             "endlinecolor": "#2a3f5f",
             "gridcolor": "white",
             "linecolor": "white",
             "minorgridcolor": "white",
             "startlinecolor": "#2a3f5f"
            },
            "baxis": {
             "endlinecolor": "#2a3f5f",
             "gridcolor": "white",
             "linecolor": "white",
             "minorgridcolor": "white",
             "startlinecolor": "#2a3f5f"
            },
            "type": "carpet"
           }
          ],
          "choropleth": [
           {
            "colorbar": {
             "outlinewidth": 0,
             "ticks": ""
            },
            "type": "choropleth"
           }
          ],
          "contour": [
           {
            "colorbar": {
             "outlinewidth": 0,
             "ticks": ""
            },
            "colorscale": [
             [
              0,
              "#0d0887"
             ],
             [
              0.1111111111111111,
              "#46039f"
             ],
             [
              0.2222222222222222,
              "#7201a8"
             ],
             [
              0.3333333333333333,
              "#9c179e"
             ],
             [
              0.4444444444444444,
              "#bd3786"
             ],
             [
              0.5555555555555556,
              "#d8576b"
             ],
             [
              0.6666666666666666,
              "#ed7953"
             ],
             [
              0.7777777777777778,
              "#fb9f3a"
             ],
             [
              0.8888888888888888,
              "#fdca26"
             ],
             [
              1,
              "#f0f921"
             ]
            ],
            "type": "contour"
           }
          ],
          "contourcarpet": [
           {
            "colorbar": {
             "outlinewidth": 0,
             "ticks": ""
            },
            "type": "contourcarpet"
           }
          ],
          "heatmap": [
           {
            "colorbar": {
             "outlinewidth": 0,
             "ticks": ""
            },
            "colorscale": [
             [
              0,
              "#0d0887"
             ],
             [
              0.1111111111111111,
              "#46039f"
             ],
             [
              0.2222222222222222,
              "#7201a8"
             ],
             [
              0.3333333333333333,
              "#9c179e"
             ],
             [
              0.4444444444444444,
              "#bd3786"
             ],
             [
              0.5555555555555556,
              "#d8576b"
             ],
             [
              0.6666666666666666,
              "#ed7953"
             ],
             [
              0.7777777777777778,
              "#fb9f3a"
             ],
             [
              0.8888888888888888,
              "#fdca26"
             ],
             [
              1,
              "#f0f921"
             ]
            ],
            "type": "heatmap"
           }
          ],
          "heatmapgl": [
           {
            "colorbar": {
             "outlinewidth": 0,
             "ticks": ""
            },
            "colorscale": [
             [
              0,
              "#0d0887"
             ],
             [
              0.1111111111111111,
              "#46039f"
             ],
             [
              0.2222222222222222,
              "#7201a8"
             ],
             [
              0.3333333333333333,
              "#9c179e"
             ],
             [
              0.4444444444444444,
              "#bd3786"
             ],
             [
              0.5555555555555556,
              "#d8576b"
             ],
             [
              0.6666666666666666,
              "#ed7953"
             ],
             [
              0.7777777777777778,
              "#fb9f3a"
             ],
             [
              0.8888888888888888,
              "#fdca26"
             ],
             [
              1,
              "#f0f921"
             ]
            ],
            "type": "heatmapgl"
           }
          ],
          "histogram": [
           {
            "marker": {
             "pattern": {
              "fillmode": "overlay",
              "size": 10,
              "solidity": 0.2
             }
            },
            "type": "histogram"
           }
          ],
          "histogram2d": [
           {
            "colorbar": {
             "outlinewidth": 0,
             "ticks": ""
            },
            "colorscale": [
             [
              0,
              "#0d0887"
             ],
             [
              0.1111111111111111,
              "#46039f"
             ],
             [
              0.2222222222222222,
              "#7201a8"
             ],
             [
              0.3333333333333333,
              "#9c179e"
             ],
             [
              0.4444444444444444,
              "#bd3786"
             ],
             [
              0.5555555555555556,
              "#d8576b"
             ],
             [
              0.6666666666666666,
              "#ed7953"
             ],
             [
              0.7777777777777778,
              "#fb9f3a"
             ],
             [
              0.8888888888888888,
              "#fdca26"
             ],
             [
              1,
              "#f0f921"
             ]
            ],
            "type": "histogram2d"
           }
          ],
          "histogram2dcontour": [
           {
            "colorbar": {
             "outlinewidth": 0,
             "ticks": ""
            },
            "colorscale": [
             [
              0,
              "#0d0887"
             ],
             [
              0.1111111111111111,
              "#46039f"
             ],
             [
              0.2222222222222222,
              "#7201a8"
             ],
             [
              0.3333333333333333,
              "#9c179e"
             ],
             [
              0.4444444444444444,
              "#bd3786"
             ],
             [
              0.5555555555555556,
              "#d8576b"
             ],
             [
              0.6666666666666666,
              "#ed7953"
             ],
             [
              0.7777777777777778,
              "#fb9f3a"
             ],
             [
              0.8888888888888888,
              "#fdca26"
             ],
             [
              1,
              "#f0f921"
             ]
            ],
            "type": "histogram2dcontour"
           }
          ],
          "mesh3d": [
           {
            "colorbar": {
             "outlinewidth": 0,
             "ticks": ""
            },
            "type": "mesh3d"
           }
          ],
          "parcoords": [
           {
            "line": {
             "colorbar": {
              "outlinewidth": 0,
              "ticks": ""
             }
            },
            "type": "parcoords"
           }
          ],
          "pie": [
           {
            "automargin": true,
            "type": "pie"
           }
          ],
          "scatter": [
           {
            "marker": {
             "colorbar": {
              "outlinewidth": 0,
              "ticks": ""
             }
            },
            "type": "scatter"
           }
          ],
          "scatter3d": [
           {
            "line": {
             "colorbar": {
              "outlinewidth": 0,
              "ticks": ""
             }
            },
            "marker": {
             "colorbar": {
              "outlinewidth": 0,
              "ticks": ""
             }
            },
            "type": "scatter3d"
           }
          ],
          "scattercarpet": [
           {
            "marker": {
             "colorbar": {
              "outlinewidth": 0,
              "ticks": ""
             }
            },
            "type": "scattercarpet"
           }
          ],
          "scattergeo": [
           {
            "marker": {
             "colorbar": {
              "outlinewidth": 0,
              "ticks": ""
             }
            },
            "type": "scattergeo"
           }
          ],
          "scattergl": [
           {
            "marker": {
             "colorbar": {
              "outlinewidth": 0,
              "ticks": ""
             }
            },
            "type": "scattergl"
           }
          ],
          "scattermapbox": [
           {
            "marker": {
             "colorbar": {
              "outlinewidth": 0,
              "ticks": ""
             }
            },
            "type": "scattermapbox"
           }
          ],
          "scatterpolar": [
           {
            "marker": {
             "colorbar": {
              "outlinewidth": 0,
              "ticks": ""
             }
            },
            "type": "scatterpolar"
           }
          ],
          "scatterpolargl": [
           {
            "marker": {
             "colorbar": {
              "outlinewidth": 0,
              "ticks": ""
             }
            },
            "type": "scatterpolargl"
           }
          ],
          "scatterternary": [
           {
            "marker": {
             "colorbar": {
              "outlinewidth": 0,
              "ticks": ""
             }
            },
            "type": "scatterternary"
           }
          ],
          "surface": [
           {
            "colorbar": {
             "outlinewidth": 0,
             "ticks": ""
            },
            "colorscale": [
             [
              0,
              "#0d0887"
             ],
             [
              0.1111111111111111,
              "#46039f"
             ],
             [
              0.2222222222222222,
              "#7201a8"
             ],
             [
              0.3333333333333333,
              "#9c179e"
             ],
             [
              0.4444444444444444,
              "#bd3786"
             ],
             [
              0.5555555555555556,
              "#d8576b"
             ],
             [
              0.6666666666666666,
              "#ed7953"
             ],
             [
              0.7777777777777778,
              "#fb9f3a"
             ],
             [
              0.8888888888888888,
              "#fdca26"
             ],
             [
              1,
              "#f0f921"
             ]
            ],
            "type": "surface"
           }
          ],
          "table": [
           {
            "cells": {
             "fill": {
              "color": "#EBF0F8"
             },
             "line": {
              "color": "white"
             }
            },
            "header": {
             "fill": {
              "color": "#C8D4E3"
             },
             "line": {
              "color": "white"
             }
            },
            "type": "table"
           }
          ]
         },
         "layout": {
          "annotationdefaults": {
           "arrowcolor": "#2a3f5f",
           "arrowhead": 0,
           "arrowwidth": 1
          },
          "autotypenumbers": "strict",
          "coloraxis": {
           "colorbar": {
            "outlinewidth": 0,
            "ticks": ""
           }
          },
          "colorscale": {
           "diverging": [
            [
             0,
             "#8e0152"
            ],
            [
             0.1,
             "#c51b7d"
            ],
            [
             0.2,
             "#de77ae"
            ],
            [
             0.3,
             "#f1b6da"
            ],
            [
             0.4,
             "#fde0ef"
            ],
            [
             0.5,
             "#f7f7f7"
            ],
            [
             0.6,
             "#e6f5d0"
            ],
            [
             0.7,
             "#b8e186"
            ],
            [
             0.8,
             "#7fbc41"
            ],
            [
             0.9,
             "#4d9221"
            ],
            [
             1,
             "#276419"
            ]
           ],
           "sequential": [
            [
             0,
             "#0d0887"
            ],
            [
             0.1111111111111111,
             "#46039f"
            ],
            [
             0.2222222222222222,
             "#7201a8"
            ],
            [
             0.3333333333333333,
             "#9c179e"
            ],
            [
             0.4444444444444444,
             "#bd3786"
            ],
            [
             0.5555555555555556,
             "#d8576b"
            ],
            [
             0.6666666666666666,
             "#ed7953"
            ],
            [
             0.7777777777777778,
             "#fb9f3a"
            ],
            [
             0.8888888888888888,
             "#fdca26"
            ],
            [
             1,
             "#f0f921"
            ]
           ],
           "sequentialminus": [
            [
             0,
             "#0d0887"
            ],
            [
             0.1111111111111111,
             "#46039f"
            ],
            [
             0.2222222222222222,
             "#7201a8"
            ],
            [
             0.3333333333333333,
             "#9c179e"
            ],
            [
             0.4444444444444444,
             "#bd3786"
            ],
            [
             0.5555555555555556,
             "#d8576b"
            ],
            [
             0.6666666666666666,
             "#ed7953"
            ],
            [
             0.7777777777777778,
             "#fb9f3a"
            ],
            [
             0.8888888888888888,
             "#fdca26"
            ],
            [
             1,
             "#f0f921"
            ]
           ]
          },
          "colorway": [
           "#636efa",
           "#EF553B",
           "#00cc96",
           "#ab63fa",
           "#FFA15A",
           "#19d3f3",
           "#FF6692",
           "#B6E880",
           "#FF97FF",
           "#FECB52"
          ],
          "font": {
           "color": "#2a3f5f"
          },
          "geo": {
           "bgcolor": "white",
           "lakecolor": "white",
           "landcolor": "#E5ECF6",
           "showlakes": true,
           "showland": true,
           "subunitcolor": "white"
          },
          "hoverlabel": {
           "align": "left"
          },
          "hovermode": "closest",
          "mapbox": {
           "style": "light"
          },
          "paper_bgcolor": "white",
          "plot_bgcolor": "#E5ECF6",
          "polar": {
           "angularaxis": {
            "gridcolor": "white",
            "linecolor": "white",
            "ticks": ""
           },
           "bgcolor": "#E5ECF6",
           "radialaxis": {
            "gridcolor": "white",
            "linecolor": "white",
            "ticks": ""
           }
          },
          "scene": {
           "xaxis": {
            "backgroundcolor": "#E5ECF6",
            "gridcolor": "white",
            "gridwidth": 2,
            "linecolor": "white",
            "showbackground": true,
            "ticks": "",
            "zerolinecolor": "white"
           },
           "yaxis": {
            "backgroundcolor": "#E5ECF6",
            "gridcolor": "white",
            "gridwidth": 2,
            "linecolor": "white",
            "showbackground": true,
            "ticks": "",
            "zerolinecolor": "white"
           },
           "zaxis": {
            "backgroundcolor": "#E5ECF6",
            "gridcolor": "white",
            "gridwidth": 2,
            "linecolor": "white",
            "showbackground": true,
            "ticks": "",
            "zerolinecolor": "white"
           }
          },
          "shapedefaults": {
           "line": {
            "color": "#2a3f5f"
           }
          },
          "ternary": {
           "aaxis": {
            "gridcolor": "white",
            "linecolor": "white",
            "ticks": ""
           },
           "baxis": {
            "gridcolor": "white",
            "linecolor": "white",
            "ticks": ""
           },
           "bgcolor": "#E5ECF6",
           "caxis": {
            "gridcolor": "white",
            "linecolor": "white",
            "ticks": ""
           }
          },
          "title": {
           "x": 0.05
          },
          "xaxis": {
           "automargin": true,
           "gridcolor": "white",
           "linecolor": "white",
           "ticks": "",
           "title": {
            "standoff": 15
           },
           "zerolinecolor": "white",
           "zerolinewidth": 2
          },
          "yaxis": {
           "automargin": true,
           "gridcolor": "white",
           "linecolor": "white",
           "ticks": "",
           "title": {
            "standoff": 15
           },
           "zerolinecolor": "white",
           "zerolinewidth": 2
          }
         }
        },
        "width": 1200
       }
      }
     },
     "metadata": {},
     "output_type": "display_data"
    }
   ],
   "source": [
    "# 3D representation\n",
    "\n",
    "fig = px.scatter_3d(dv,x=dv.DAP_INDIV,y=dv.BIOM_INDIV,z=dv.H_TOTAL,color=dv.Species,\n",
    "                    log_x=False,width=1200, height=800);\n",
    "fig.show()"
   ]
  },
  {
   "cell_type": "code",
   "execution_count": 12,
   "metadata": {},
   "outputs": [],
   "source": [
    "df = dv.copy()"
   ]
  },
  {
   "cell_type": "code",
   "execution_count": 13,
   "metadata": {},
   "outputs": [
    {
     "data": {
      "text/plain": [
       "<AxesSubplot:>"
      ]
     },
     "execution_count": 13,
     "metadata": {},
     "output_type": "execute_result"
    },
    {
     "data": {
      "image/png": "[encoded data removed]",
      "text/plain": [
       "<Figure size 640x480 with 2 Axes>"
      ]
     },
     "metadata": {},
     "output_type": "display_data"
    }
   ],
   "source": [
    "import seaborn as sns\n",
    "sns.heatmap(df.corr(), cmap='viridis_r', vmin=-1, vmax=1)"
   ]
  },
  {
   "cell_type": "code",
   "execution_count": 14,
   "metadata": {},
   "outputs": [],
   "source": [
    "# solution\n",
    "from sklearn.linear_model import LinearRegression\n",
    "from sklearn.model_selection import train_test_split\n",
    "from sklearn.metrics import mean_squared_error, r2_score"
   ]
  },
  {
   "cell_type": "code",
   "execution_count": 15,
   "metadata": {},
   "outputs": [
    {
     "name": "stdout",
     "output_type": "stream",
     "text": [
      "(199,) (199, 1)\n",
      "133 133 66 66\n",
      "Coefficients: \n",
      " [35.57048191]\n",
      "Mean squared error: 35.43\n",
      "Coefficient of determination: 0.22\n"
     ]
    },
    {
     "data": {
      "text/plain": [
       "<matplotlib.legend.Legend at 0x235d7ca8e80>"
      ]
     },
     "execution_count": 15,
     "metadata": {},
     "output_type": "execute_result"
    },
    {
     "data": {
      "image/png": "[encoded data removed]",
      "text/plain": [
       "<Figure size 640x480 with 1 Axes>"
      ]
     },
     "metadata": {},
     "output_type": "display_data"
    }
   ],
   "source": [
    "# solution\n",
    "# solution\n",
    "# Split the data into training/testing sets\n",
    "X_train, X_test, y_train, y_test = train_test_split(np.expand_dims(df['DAP_INDIV'], axis=1),df['BIOM_INDIV'], test_size=0.33, random_state=42)\n",
    "print(df['DAP_INDIV'].shape, np.expand_dims(df['BIOM_INDIV'], axis=1).shape)\n",
    "print(len(X_train), len(y_train), len(X_test), len( y_test))\n",
    "\n",
    "# Create linear regression object\n",
    "regr = LinearRegression()\n",
    "\n",
    "# Train the model using the training sets\n",
    "regr.fit(X_train, y_train)\n",
    "\n",
    "# Make predictions using the testing set\n",
    "y_pred = regr.predict(X_test)\n",
    "\n",
    "# The coefficients\n",
    "print(\"Coefficients: \\n\", regr.coef_)\n",
    "# The mean squared error\n",
    "print(\"Mean squared error: %.2f\" % mean_squared_error(y_test, y_pred))\n",
    "# The coefficient of determination: 1 is perfect prediction\n",
    "print(\"Coefficient of determination: %.2f\" % r2_score(y_test, y_pred))\n",
    "\n",
    "# Plot outputs\n",
    "plt.scatter(X_train, y_train, color=\"red\", label='training', alpha=0.5)\n",
    "plt.scatter(X_test, y_test, color=\"green\", label='test', alpha=0.8)\n",
    "plt.scatter(X_test, y_pred, color=\"black\", label='pred', alpha=0.8)\n",
    "plt.plot(X_test, y_pred, color=\"red\", linewidth=3, label='linear reg.', alpha=0.5)\n",
    "plt.xlabel('DAP_INDIV')\n",
    "plt.ylabel('BIOM_INDIV')\n",
    "plt.legend()"
   ]
  },
  {
   "cell_type": "code",
   "execution_count": 16,
   "metadata": {},
   "outputs": [
    {
     "name": "stdout",
     "output_type": "stream",
     "text": [
      "(199,) (199, 1)\n",
      "133 133 66 66\n",
      "Coefficients: \n",
      " [1.14336718]\n",
      "Mean squared error: 14.21\n",
      "Coefficient of determination: 0.69\n"
     ]
    },
    {
     "data": {
      "text/plain": [
       "<matplotlib.legend.Legend at 0x235d7d3e820>"
      ]
     },
     "execution_count": 16,
     "metadata": {},
     "output_type": "execute_result"
    },
    {
     "data": {
      "image/png": "[encoded data removed]",
      "text/plain": [
       "<Figure size 640x480 with 1 Axes>"
      ]
     },
     "metadata": {},
     "output_type": "display_data"
    }
   ],
   "source": [
    "# Solution\n",
    "# Split the data into training/testing sets\n",
    "X_train, X_test, y_train, y_test = train_test_split(np.expand_dims(df['H_TOTAL'], axis=1),df['BIOM_INDIV'], test_size=0.33, random_state=42)\n",
    "print(df['H_TOTAL'].shape, np.expand_dims(df['BIOM_INDIV'], axis=1).shape)\n",
    "print(len(X_train), len(y_train), len(X_test), len( y_test))\n",
    "\n",
    "# Create linear regression object\n",
    "regr = LinearRegression()\n",
    "\n",
    "# Train the model using the training sets\n",
    "regr.fit(X_train, y_train)\n",
    "\n",
    "# Make predictions using the testing set\n",
    "y_pred = regr.predict(X_test)\n",
    "\n",
    "# The coefficients\n",
    "print(\"Coefficients: \\n\", regr.coef_)\n",
    "# The mean squared error\n",
    "print(\"Mean squared error: %.2f\" % mean_squared_error(y_test, y_pred))\n",
    "# The coefficient of determination: 1 is perfect prediction\n",
    "print(\"Coefficient of determination: %.2f\" % r2_score(y_test, y_pred))\n",
    "\n",
    "# Plot outputs\n",
    "plt.scatter(X_train, y_train, color=\"red\", label='training', alpha=0.5)\n",
    "plt.scatter(X_test, y_test, color=\"green\", label='test', alpha=0.8)\n",
    "plt.scatter(X_test, y_pred, color=\"black\", label='pred', alpha=0.8)\n",
    "plt.plot(X_test, y_pred, color=\"red\", linewidth=3, label='linear reg.', alpha=0.5)\n",
    "plt.xlabel('H_TOTAL')\n",
    "plt.ylabel('BIOM_INDIV')\n",
    "plt.legend()"
   ]
  },
  {
   "cell_type": "code",
   "execution_count": 17,
   "metadata": {},
   "outputs": [
    {
     "name": "stdout",
     "output_type": "stream",
     "text": [
      "(199,) (199, 1)\n",
      "133 133 66 66\n",
      "Coefficients: \n",
      " [0.99647318]\n",
      "Mean squared error: 36.14\n",
      "Coefficient of determination: 0.20\n"
     ]
    },
    {
     "data": {
      "text/plain": [
       "<matplotlib.legend.Legend at 0x235d7efce80>"
      ]
     },
     "execution_count": 17,
     "metadata": {},
     "output_type": "execute_result"
    },
    {
     "data": {
      "image/png": "[encoded data removed]",
      "text/plain": [
       "<Figure size 640x480 with 1 Axes>"
      ]
     },
     "metadata": {},
     "output_type": "display_data"
    }
   ],
   "source": [
    "# Solution\n",
    "# Split the data into training/testing sets\n",
    "X_train, X_test, y_train, y_test = train_test_split(np.expand_dims(df['H_FUSTE'], axis=1),df['BIOM_INDIV'], test_size=0.33, random_state=42)\n",
    "print(df['H_FUSTE'].shape, np.expand_dims(df['BIOM_INDIV'], axis=1).shape)\n",
    "print(len(X_train), len(y_train), len(X_test), len( y_test))\n",
    "\n",
    "# Create linear regression object\n",
    "regr = LinearRegression()\n",
    "\n",
    "# Train the model using the training sets\n",
    "regr.fit(X_train, y_train)\n",
    "\n",
    "# Make predictions using the testing set\n",
    "y_pred = regr.predict(X_test)\n",
    "\n",
    "# The coefficients\n",
    "print(\"Coefficients: \\n\", regr.coef_)\n",
    "# The mean squared error\n",
    "print(\"Mean squared error: %.2f\" % mean_squared_error(y_test, y_pred))\n",
    "# The coefficient of determination: 1 is perfect prediction\n",
    "print(\"Coefficient of determination: %.2f\" % r2_score(y_test, y_pred))\n",
    "\n",
    "# Plot outputs\n",
    "plt.scatter(X_train, y_train, color=\"red\", label='training', alpha=0.5)\n",
    "plt.scatter(X_test, y_test, color=\"green\", label='test', alpha=0.8)\n",
    "plt.scatter(X_test, y_pred, color=\"black\", label='pred', alpha=0.8)\n",
    "plt.plot(X_test, y_pred, color=\"red\", linewidth=3, label='linear reg.', alpha=0.5)\n",
    "plt.xlabel('H_FUSTE')\n",
    "plt.ylabel('BIOM_INDIV')\n",
    "plt.legend()"
   ]
  },
  {
   "cell_type": "code",
   "execution_count": 18,
   "metadata": {},
   "outputs": [
    {
     "name": "stdout",
     "output_type": "stream",
     "text": [
      "133 133 66 66\n"
     ]
    }
   ],
   "source": [
    "print(len(X_train), len(y_train), len(X_test), len( y_test))"
   ]
  },
  {
   "cell_type": "code",
   "execution_count": 19,
   "metadata": {},
   "outputs": [
    {
     "name": "stdout",
     "output_type": "stream",
     "text": [
      "133 133 66 66\n",
      "Coefficients: \n",
      " [0.17692727]\n",
      "Mean squared error: 5.98\n",
      "Coefficient of determination: 0.21\n"
     ]
    }
   ],
   "source": [
    "X = df[['BIOM_INDIV']]\n",
    "y = df['H_FUSTE']\n",
    "\n",
    "# Split the data into training/testing sets\n",
    "X_train, X_test, y_train, y_test = train_test_split(X ,y, test_size=0.33, random_state=42)\n",
    "print(len(X_train), len(y_train), len(X_test), len( y_test))\n",
    "\n",
    "regr = LinearRegression()\n",
    "regr.fit(X, y)\n",
    "\n",
    "y_pred = regr.predict(X_test)\n",
    "\n",
    "# The coefficients\n",
    "print(\"Coefficients: \\n\", regr.coef_)\n",
    "# The mean squared error\n",
    "print(\"Mean squared error: %.2f\" % mean_squared_error(y_test, y_pred))\n",
    "# The coefficient of determination: 1 is perfect prediction\n",
    "print(\"Coefficient of determination: %.2f\" % r2_score(y_test, y_pred))"
   ]
  },
  {
   "cell_type": "code",
   "execution_count": 20,
   "metadata": {},
   "outputs": [
    {
     "data": {
      "text/html": [
       "<div>\n",
       "<style scoped>\n",
       "    .dataframe tbody tr th:only-of-type {\n",
       "        vertical-align: middle;\n",
       "    }\n",
       "\n",
       "    .dataframe tbody tr th {\n",
       "        vertical-align: top;\n",
       "    }\n",
       "\n",
       "    .dataframe thead th {\n",
       "        text-align: right;\n",
       "    }\n",
       "</style>\n",
       "<table border=\"1\" class=\"dataframe\">\n",
       "  <thead>\n",
       "    <tr style=\"text-align: right;\">\n",
       "      <th></th>\n",
       "      <th>Species</th>\n",
       "      <th>CARB_INDIV</th>\n",
       "    </tr>\n",
       "  </thead>\n",
       "  <tbody>\n",
       "    <tr>\n",
       "      <th>0</th>\n",
       "      <td>Abarema jupunba (Willd.) Britton &amp; Killip</td>\n",
       "      <td>9.858412</td>\n",
       "    </tr>\n",
       "    <tr>\n",
       "      <th>1</th>\n",
       "      <td>Albizia niopoides (Benth.) Burkart</td>\n",
       "      <td>12.552094</td>\n",
       "    </tr>\n",
       "    <tr>\n",
       "      <th>2</th>\n",
       "      <td>Alchornea cf. triplinervia (Spreng.) Müll. Arg.</td>\n",
       "      <td>6.083282</td>\n",
       "    </tr>\n",
       "    <tr>\n",
       "      <th>3</th>\n",
       "      <td>Alchornea triplinervia (Spreng.) Mull. Arg.</td>\n",
       "      <td>4.921130</td>\n",
       "    </tr>\n",
       "    <tr>\n",
       "      <th>4</th>\n",
       "      <td>Amaioua corymbosa Kunt.</td>\n",
       "      <td>5.129315</td>\n",
       "    </tr>\n",
       "    <tr>\n",
       "      <th>...</th>\n",
       "      <td>...</td>\n",
       "      <td>...</td>\n",
       "    </tr>\n",
       "    <tr>\n",
       "      <th>194</th>\n",
       "      <td>Xylopia discreta (L.f.) Sprague &amp; Hutch.</td>\n",
       "      <td>5.315090</td>\n",
       "    </tr>\n",
       "    <tr>\n",
       "      <th>195</th>\n",
       "      <td>Xylopia emarginata Mart.</td>\n",
       "      <td>6.044771</td>\n",
       "    </tr>\n",
       "    <tr>\n",
       "      <th>196</th>\n",
       "      <td>Xylopia polyantha R.E.Fr.</td>\n",
       "      <td>6.887994</td>\n",
       "    </tr>\n",
       "    <tr>\n",
       "      <th>197</th>\n",
       "      <td>Zygia inaequalis (Willd.) Pittier</td>\n",
       "      <td>5.676524</td>\n",
       "    </tr>\n",
       "    <tr>\n",
       "      <th>198</th>\n",
       "      <td>Zygia ocumarensis (Pittier) Barneby &amp; J.W.Grimes</td>\n",
       "      <td>5.300108</td>\n",
       "    </tr>\n",
       "  </tbody>\n",
       "</table>\n",
       "<p>199 rows × 2 columns</p>\n",
       "</div>"
      ],
      "text/plain": [
       "                                              Species  CARB_INDIV\n",
       "0           Abarema jupunba (Willd.) Britton & Killip    9.858412\n",
       "1                  Albizia niopoides (Benth.) Burkart   12.552094\n",
       "2     Alchornea cf. triplinervia (Spreng.) Müll. Arg.    6.083282\n",
       "3         Alchornea triplinervia (Spreng.) Mull. Arg.    4.921130\n",
       "4                             Amaioua corymbosa Kunt.    5.129315\n",
       "..                                                ...         ...\n",
       "194          Xylopia discreta (L.f.) Sprague & Hutch.    5.315090\n",
       "195                          Xylopia emarginata Mart.    6.044771\n",
       "196                         Xylopia polyantha R.E.Fr.    6.887994\n",
       "197                 Zygia inaequalis (Willd.) Pittier    5.676524\n",
       "198  Zygia ocumarensis (Pittier) Barneby & J.W.Grimes    5.300108\n",
       "\n",
       "[199 rows x 2 columns]"
      ]
     },
     "execution_count": 20,
     "metadata": {},
     "output_type": "execute_result"
    }
   ],
   "source": [
    "#Selecion de Columnas\n",
    "dv.loc[:, ['Species','CARB_INDIV']]"
   ]
  },
  {
   "cell_type": "markdown",
   "metadata": {},
   "source": [
    "Funciones alometricas de cada especie y region"
   ]
  },
  {
   "cell_type": "code",
   "execution_count": 21,
   "metadata": {},
   "outputs": [],
   "source": [
    "#Cantidad de Cabono de poligono en el tiempo como Data Frame\n",
    "#Tiempo en years y numero de individuos\n",
    "N= 10\n",
    "t = 1\n",
    "#Dimensiones del Poligono en metros\n",
    "X = 10000\n",
    "Y = 10000\n",
    "#Cantidad de Individuos\n",
    "N=1\n",
    "def CO2_Total_df (S,X ,Y, N, C, t):\n",
    "    TC = N * C * t\n",
    "    return pd.DataFrame(index = [S, TC]), \n"
   ]
  },
  {
   "cell_type": "code",
   "execution_count": 22,
   "metadata": {},
   "outputs": [],
   "source": [
    "#Cantidad de Cabono de poligono en el tiempo como Vector\n",
    "def CO2_Total (S, X ,Y, N, C, t):\n",
    "    TC = N * C * t\n",
    "    return TC\n"
   ]
  },
  {
   "cell_type": "code",
   "execution_count": 23,
   "metadata": {},
   "outputs": [],
   "source": [
    "# Evaluar las funciones Sobre todos los Datos\n",
    "CO2_Total(dv.Species,10000,10000,100,dv.CARB_INDIV,5)\n",
    "\n",
    "H=CO2_Total_df(dv.Species,1,1,10,dv.CARB_INDIV,5)\n",
    "TC= CO2_Total(dv.Species,1,1,10,dv.CARB_INDIV,5)"
   ]
  },
  {
   "cell_type": "code",
   "execution_count": 24,
   "metadata": {},
   "outputs": [
    {
     "name": "stdout",
     "output_type": "stream",
     "text": [
      "<class 'tuple'>\n",
      "<class 'pandas.core.series.Series'>\n"
     ]
    }
   ],
   "source": [
    "print(type(H))\n",
    "print(type(TC))"
   ]
  },
  {
   "cell_type": "code",
   "execution_count": 25,
   "metadata": {},
   "outputs": [],
   "source": [
    "nc=np.array(TC)\n",
    "pn=np.append(nc, 0)\n",
    "pn.shape\n",
    "reshaped1 = pn.reshape(10,20)\n",
    "#reshaped1"
   ]
  },
  {
   "cell_type": "code",
   "execution_count": 26,
   "metadata": {},
   "outputs": [],
   "source": [
    "nc=np.array(TC)\n",
    "Ip= TC[2]* np.linspace(1, 1, 200)\n",
    "Ip.shape\n",
    "reshaped2 = Ip.reshape(10,20)\n",
    "#reshaped1"
   ]
  },
  {
   "cell_type": "code",
   "execution_count": 27,
   "metadata": {},
   "outputs": [],
   "source": [
    "#uso de paquete de Numpy para generar vectores\n",
    "x=np.linspace(1, 10, 10)\n",
    "y=np.linspace(1,20,20)\n",
    "\n"
   ]
  },
  {
   "cell_type": "code",
   "execution_count": 28,
   "metadata": {},
   "outputs": [
    {
     "name": "stdout",
     "output_type": "stream",
     "text": [
      "(10, 20)\n",
      "(10,)\n",
      "(20,)\n"
     ]
    }
   ],
   "source": [
    "print(np.shape(reshaped1))\n",
    "print(np.shape(x))\n",
    "print(np.shape(y))"
   ]
  },
  {
   "cell_type": "code",
   "execution_count": 29,
   "metadata": {},
   "outputs": [
    {
     "data": {
      "text/plain": [
       "<matplotlib.colorbar.Colorbar at 0x235d7e3de50>"
      ]
     },
     "execution_count": 29,
     "metadata": {},
     "output_type": "execute_result"
    },
    {
     "data": {
      "image/png": "[encoded data removed]",
      "text/plain": [
       "<Figure size 640x480 with 2 Axes>"
      ]
     },
     "metadata": {},
     "output_type": "display_data"
    }
   ],
   "source": [
    "\n",
    "#uso de paquete de Numpy para generar matricesz\n",
    "[xx, yy]=np.meshgrid(x,y)\n",
    "\n",
    "#uso de plt funtions para graficar matricez\n",
    "plt.figure(1)\n",
    "plt.grid(True)\n",
    "plt.imshow(reshaped1)\n",
    "plt.show\n",
    "plt.colorbar()\n",
    "\n",
    "#print(x,y)\n"
   ]
  },
  {
   "cell_type": "code",
   "execution_count": 30,
   "metadata": {},
   "outputs": [
    {
     "data": {
      "image/png": "[encoded data removed]",
      "text/plain": [
       "<Figure size 1100x800 with 2 Axes>"
      ]
     },
     "metadata": {},
     "output_type": "display_data"
    }
   ],
   "source": [
    "fig,ax=plt.subplots(1,2,figsize=(11,8))\n",
    "ax[0].imshow(reshaped1)\n",
    "ax[0].set_title('Todas las Especies')\n",
    "ax[0].grid(True)\n",
    "ax[1].imshow(reshaped1)\n",
    "ax[1].set_title('Todas las Especies')\n",
    "ax[1].grid(True)\n"
   ]
  },
  {
   "cell_type": "markdown",
   "metadata": {},
   "source": [
    "Definir la funcion para populate el cuadro"
   ]
  },
  {
   "cell_type": "code",
   "execution_count": 31,
   "metadata": {},
   "outputs": [
    {
     "data": {
      "text/plain": [
       "15"
      ]
     },
     "execution_count": 31,
     "metadata": {},
     "output_type": "execute_result"
    }
   ],
   "source": [
    "x=m.ceil(sqrt(len(dv)+1).real)\n",
    "xf=m.ceil(sqrt(len(dv)+1).real)\n",
    "type(len(dv))\n",
    "#d = round(x)\n",
    "m.ceil(sqrt(len(dv)+1).real)\n"
   ]
  },
  {
   "cell_type": "code",
   "execution_count": 32,
   "metadata": {},
   "outputs": [],
   "source": [
    "def graf_scatt(DataFrame):\n",
    "    fig = go.Figure()\n",
    "    fig = px.scatter(DataFrame, x=\"VOL_COM\", y=\"CARB_INDIV\",\n",
    "                     size=\"Sum_ID_INDV_MU\", color=\"Species\", hover_name=\"Species\", size_max=55)\n",
    "    fig.update_layout(transition_duration=500)\n",
    "    return fig"
   ]
  },
  {
   "cell_type": "code",
   "execution_count": 33,
   "metadata": {},
   "outputs": [
    {
     "data": {
      "application/vnd.plotly.v1+json": {
       "config": {
        "plotlyServerURL": "https://plot.ly"
       },
       "data": [
        {
         "hovertemplate": "<b>%{hovertext}</b><br><br>Species=Abarema jupunba (Willd.) Britton & Killip<br>VOL_COM=%{x}<br>CARB_INDIV=%{y}<br>Sum_ID_INDV_MU=%{marker.size}<extra></extra>",
         "hovertext": [
          "Abarema jupunba (Willd.) Britton & Killip"
         ],
         "legendgroup": "Abarema jupunba (Willd.) Britton & Killip",
         "marker": {
          "color": "#636efa",
          "size": [
           75
          ],
          "sizemode": "area",
          "sizeref": 2.712396694214876,
          "symbol": "circle"
         },
         "mode": "markers",
         "name": "Abarema jupunba (Willd.) Britton & Killip",
         "orientation": "v",
         "showlegend": true,
         "type": "scatter",
         "x": [
          0.580672469
         ],
         "xaxis": "x",
         "y": [
          9.858412107
         ],
         "yaxis": "y"
        },
        {
         "hovertemplate": "<b>%{hovertext}</b><br><br>Species=Albizia niopoides (Benth.) Burkart<br>VOL_COM=%{x}<br>CARB_INDIV=%{y}<br>Sum_ID_INDV_MU=%{marker.size}<extra></extra>",
         "hovertext": [
          "Albizia niopoides (Benth.) Burkart"
         ],
         "legendgroup": "Albizia niopoides (Benth.) Burkart",
         "marker": {
          "color": "#EF553B",
          "size": [
           313
          ],
          "sizemode": "area",
          "sizeref": 2.712396694214876,
          "symbol": "circle"
         },
         "mode": "markers",
         "name": "Albizia niopoides (Benth.) Burkart",
         "orientation": "v",
         "showlegend": true,
         "type": "scatter",
         "x": [
          4.134947456
         ],
         "xaxis": "x",
         "y": [
          12.55209351
         ],
         "yaxis": "y"
        },
        {
         "hovertemplate": "<b>%{hovertext}</b><br><br>Species=Alchornea cf. triplinervia (Spreng.) Müll. Arg.<br>VOL_COM=%{x}<br>CARB_INDIV=%{y}<br>Sum_ID_INDV_MU=%{marker.size}<extra></extra>",
         "hovertext": [
          "Alchornea cf. triplinervia (Spreng.) Müll. Arg."
         ],
         "legendgroup": "Alchornea cf. triplinervia (Spreng.) Müll. Arg.",
         "marker": {
          "color": "#00cc96",
          "size": [
           215
          ],
          "sizemode": "area",
          "sizeref": 2.712396694214876,
          "symbol": "circle"
         },
         "mode": "markers",
         "name": "Alchornea cf. triplinervia (Spreng.) Müll. Arg.",
         "orientation": "v",
         "showlegend": true,
         "type": "scatter",
         "x": [
          1.243677694
         ],
         "xaxis": "x",
         "y": [
          6.083282399
         ],
         "yaxis": "y"
        },
        {
         "hovertemplate": "<b>%{hovertext}</b><br><br>Species=Alchornea triplinervia (Spreng.) Mull. Arg.<br>VOL_COM=%{x}<br>CARB_INDIV=%{y}<br>Sum_ID_INDV_MU=%{marker.size}<extra></extra>",
         "hovertext": [
          "Alchornea triplinervia (Spreng.) Mull. Arg."
         ],
         "legendgroup": "Alchornea triplinervia (Spreng.) Mull. Arg.",
         "marker": {
          "color": "#ab63fa",
          "size": [
           325
          ],
          "sizemode": "area",
          "sizeref": 2.712396694214876,
          "symbol": "circle"
         },
         "mode": "markers",
         "name": "Alchornea triplinervia (Spreng.) Mull. Arg.",
         "orientation": "v",
         "showlegend": true,
         "type": "scatter",
         "x": [
          1.691657862
         ],
         "xaxis": "x",
         "y": [
          4.9211302
         ],
         "yaxis": "y"
        },
        {
         "hovertemplate": "<b>%{hovertext}</b><br><br>Species=Amaioua corymbosa Kunt.<br>VOL_COM=%{x}<br>CARB_INDIV=%{y}<br>Sum_ID_INDV_MU=%{marker.size}<extra></extra>",
         "hovertext": [
          "Amaioua corymbosa Kunt."
         ],
         "legendgroup": "Amaioua corymbosa Kunt.",
         "marker": {
          "color": "#FFA15A",
          "size": [
           266
          ],
          "sizemode": "area",
          "sizeref": 2.712396694214876,
          "symbol": "circle"
         },
         "mode": "markers",
         "name": "Amaioua corymbosa Kunt.",
         "orientation": "v",
         "showlegend": true,
         "type": "scatter",
         "x": [
          1.120537595
         ],
         "xaxis": "x",
         "y": [
          5.129314815
         ],
         "yaxis": "y"
        },
        {
         "hovertemplate": "<b>%{hovertext}</b><br><br>Species=Anacardium excelsum (Bertero ex Kunt.h) Skeels<br>VOL_COM=%{x}<br>CARB_INDIV=%{y}<br>Sum_ID_INDV_MU=%{marker.size}<extra></extra>",
         "hovertext": [
          "Anacardium excelsum (Bertero ex Kunt.h) Skeels"
         ],
         "legendgroup": "Anacardium excelsum (Bertero ex Kunt.h) Skeels",
         "marker": {
          "color": "#19d3f3",
          "size": [
           128
          ],
          "sizemode": "area",
          "sizeref": 2.712396694214876,
          "symbol": "circle"
         },
         "mode": "markers",
         "name": "Anacardium excelsum (Bertero ex Kunt.h) Skeels",
         "orientation": "v",
         "showlegend": true,
         "type": "scatter",
         "x": [
          1.435375512
         ],
         "xaxis": "x",
         "y": [
          9.312758327
         ],
         "yaxis": "y"
        },
        {
         "hovertemplate": "<b>%{hovertext}</b><br><br>Species=Andira chigorodensis R.T. Penn.<br>VOL_COM=%{x}<br>CARB_INDIV=%{y}<br>Sum_ID_INDV_MU=%{marker.size}<extra></extra>",
         "hovertext": [
          "Andira chigorodensis R.T. Penn."
         ],
         "legendgroup": "Andira chigorodensis R.T. Penn.",
         "marker": {
          "color": "#FF6692",
          "size": [
           184
          ],
          "sizemode": "area",
          "sizeref": 2.712396694214876,
          "symbol": "circle"
         },
         "mode": "markers",
         "name": "Andira chigorodensis R.T. Penn.",
         "orientation": "v",
         "showlegend": true,
         "type": "scatter",
         "x": [
          0.324632146
         ],
         "xaxis": "x",
         "y": [
          6.911110997
         ],
         "yaxis": "y"
        },
        {
         "hovertemplate": "<b>%{hovertext}</b><br><br>Species=Andira inermis (Wright) DC.<br>VOL_COM=%{x}<br>CARB_INDIV=%{y}<br>Sum_ID_INDV_MU=%{marker.size}<extra></extra>",
         "hovertext": [
          "Andira inermis (Wright) DC."
         ],
         "legendgroup": "Andira inermis (Wright) DC.",
         "marker": {
          "color": "#B6E880",
          "size": [
           203
          ],
          "sizemode": "area",
          "sizeref": 2.712396694214876,
          "symbol": "circle"
         },
         "mode": "markers",
         "name": "Andira inermis (Wright) DC.",
         "orientation": "v",
         "showlegend": true,
         "type": "scatter",
         "x": [
          0.177228959
         ],
         "xaxis": "x",
         "y": [
          5.162276593
         ],
         "yaxis": "y"
        },
        {
         "hovertemplate": "<b>%{hovertext}</b><br><br>Species=Aniba paraensis (Meissner) Mel.<br>VOL_COM=%{x}<br>CARB_INDIV=%{y}<br>Sum_ID_INDV_MU=%{marker.size}<extra></extra>",
         "hovertext": [
          "Aniba paraensis (Meissner) Mel."
         ],
         "legendgroup": "Aniba paraensis (Meissner) Mel.",
         "marker": {
          "color": "#FF97FF",
          "size": [
           132
          ],
          "sizemode": "area",
          "sizeref": 2.712396694214876,
          "symbol": "circle"
         },
         "mode": "markers",
         "name": "Aniba paraensis (Meissner) Mel.",
         "orientation": "v",
         "showlegend": true,
         "type": "scatter",
         "x": [
          0.915087264
         ],
         "xaxis": "x",
         "y": [
          8.029624939
         ],
         "yaxis": "y"
        },
        {
         "hovertemplate": "<b>%{hovertext}</b><br><br>Species=Annona cf. reticulata Willd.<br>VOL_COM=%{x}<br>CARB_INDIV=%{y}<br>Sum_ID_INDV_MU=%{marker.size}<extra></extra>",
         "hovertext": [
          "Annona cf. reticulata Willd."
         ],
         "legendgroup": "Annona cf. reticulata Willd.",
         "marker": {
          "color": "#FECB52",
          "size": [
           27
          ],
          "sizemode": "area",
          "sizeref": 2.712396694214876,
          "symbol": "circle"
         },
         "mode": "markers",
         "name": "Annona cf. reticulata Willd.",
         "orientation": "v",
         "showlegend": true,
         "type": "scatter",
         "x": [
          0.04853075
         ],
         "xaxis": "x",
         "y": [
          3.79847014
         ],
         "yaxis": "y"
        },
        {
         "hovertemplate": "<b>%{hovertext}</b><br><br>Species=Apeiba membranacea Benth.<br>VOL_COM=%{x}<br>CARB_INDIV=%{y}<br>Sum_ID_INDV_MU=%{marker.size}<extra></extra>",
         "hovertext": [
          "Apeiba membranacea Benth."
         ],
         "legendgroup": "Apeiba membranacea Benth.",
         "marker": {
          "color": "#636efa",
          "size": [
           59
          ],
          "sizemode": "area",
          "sizeref": 2.712396694214876,
          "symbol": "circle"
         },
         "mode": "markers",
         "name": "Apeiba membranacea Benth.",
         "orientation": "v",
         "showlegend": true,
         "type": "scatter",
         "x": [
          0.086282387
         ],
         "xaxis": "x",
         "y": [
          3.115945458
         ],
         "yaxis": "y"
        },
        {
         "hovertemplate": "<b>%{hovertext}</b><br><br>Species=Apuleia leiocarpa (Vogel) J.F. Macbr.<br>VOL_COM=%{x}<br>CARB_INDIV=%{y}<br>Sum_ID_INDV_MU=%{marker.size}<extra></extra>",
         "hovertext": [
          "Apuleia leiocarpa (Vogel) J.F. Macbr."
         ],
         "legendgroup": "Apuleia leiocarpa (Vogel) J.F. Macbr.",
         "marker": {
          "color": "#EF553B",
          "size": [
           6
          ],
          "sizemode": "area",
          "sizeref": 2.712396694214876,
          "symbol": "circle"
         },
         "mode": "markers",
         "name": "Apuleia leiocarpa (Vogel) J.F. Macbr.",
         "orientation": "v",
         "showlegend": true,
         "type": "scatter",
         "x": [
          0.505910814
         ],
         "xaxis": "x",
         "y": [
          17.68258476
         ],
         "yaxis": "y"
        },
        {
         "hovertemplate": "<b>%{hovertext}</b><br><br>Species=Aspidosperma cf., darienense Woodson ex Dwyer<br>VOL_COM=%{x}<br>CARB_INDIV=%{y}<br>Sum_ID_INDV_MU=%{marker.size}<extra></extra>",
         "hovertext": [
          "Aspidosperma cf., darienense Woodson ex Dwyer"
         ],
         "legendgroup": "Aspidosperma cf., darienense Woodson ex Dwyer",
         "marker": {
          "color": "#00cc96",
          "size": [
           32
          ],
          "sizemode": "area",
          "sizeref": 2.712396694214876,
          "symbol": "circle"
         },
         "mode": "markers",
         "name": "Aspidosperma cf., darienense Woodson ex Dwyer",
         "orientation": "v",
         "showlegend": true,
         "type": "scatter",
         "x": [
          0.497452706
         ],
         "xaxis": "x",
         "y": [
          12.46482372
         ],
         "yaxis": "y"
        },
        {
         "hovertemplate": "<b>%{hovertext}</b><br><br>Species=Aspidosperma polyneuron Müll.Arg.<br>VOL_COM=%{x}<br>CARB_INDIV=%{y}<br>Sum_ID_INDV_MU=%{marker.size}<extra></extra>",
         "hovertext": [
          "Aspidosperma polyneuron Müll.Arg."
         ],
         "legendgroup": "Aspidosperma polyneuron Müll.Arg.",
         "marker": {
          "color": "#ab63fa",
          "size": [
           35
          ],
          "sizemode": "area",
          "sizeref": 2.712396694214876,
          "symbol": "circle"
         },
         "mode": "markers",
         "name": "Aspidosperma polyneuron Müll.Arg.",
         "orientation": "v",
         "showlegend": true,
         "type": "scatter",
         "x": [
          0.077299923
         ],
         "xaxis": "x",
         "y": [
          4.200145245
         ],
         "yaxis": "y"
        },
        {
         "hovertemplate": "<b>%{hovertext}</b><br><br>Species=Astronium graveolens Jacq.<br>VOL_COM=%{x}<br>CARB_INDIV=%{y}<br>Sum_ID_INDV_MU=%{marker.size}<extra></extra>",
         "hovertext": [
          "Astronium graveolens Jacq."
         ],
         "legendgroup": "Astronium graveolens Jacq.",
         "marker": {
          "color": "#FFA15A",
          "size": [
           71
          ],
          "sizemode": "area",
          "sizeref": 2.712396694214876,
          "symbol": "circle"
         },
         "mode": "markers",
         "name": "Astronium graveolens Jacq.",
         "orientation": "v",
         "showlegend": true,
         "type": "scatter",
         "x": [
          0.866554331
         ],
         "xaxis": "x",
         "y": [
          11.4328076
         ],
         "yaxis": "y"
        },
        {
         "hovertemplate": "<b>%{hovertext}</b><br><br>Species=Attalea butyracea (Mutis ex L. f.) Wess. Boer<br>VOL_COM=%{x}<br>CARB_INDIV=%{y}<br>Sum_ID_INDV_MU=%{marker.size}<extra></extra>",
         "hovertext": [
          "Attalea butyracea (Mutis ex L. f.) Wess. Boer"
         ],
         "legendgroup": "Attalea butyracea (Mutis ex L. f.) Wess. Boer",
         "marker": {
          "color": "#19d3f3",
          "size": [
           86
          ],
          "sizemode": "area",
          "sizeref": 2.712396694214876,
          "symbol": "circle"
         },
         "mode": "markers",
         "name": "Attalea butyracea (Mutis ex L. f.) Wess. Boer",
         "orientation": "v",
         "showlegend": true,
         "type": "scatter",
         "x": [
          0.00002
         ],
         "xaxis": "x",
         "y": [
          2.790503263
         ],
         "yaxis": "y"
        },
        {
         "hovertemplate": "<b>%{hovertext}</b><br><br>Species=Bactris sp.<br>VOL_COM=%{x}<br>CARB_INDIV=%{y}<br>Sum_ID_INDV_MU=%{marker.size}<extra></extra>",
         "hovertext": [
          "Bactris sp."
         ],
         "legendgroup": "Bactris sp.",
         "marker": {
          "color": "#FF6692",
          "size": [
           40
          ],
          "sizemode": "area",
          "sizeref": 2.712396694214876,
          "symbol": "circle"
         },
         "mode": "markers",
         "name": "Bactris sp.",
         "orientation": "v",
         "showlegend": true,
         "type": "scatter",
         "x": [
          0.00001
         ],
         "xaxis": "x",
         "y": [
          4.851957321
         ],
         "yaxis": "y"
        },
        {
         "hovertemplate": "<b>%{hovertext}</b><br><br>Species=Bellucia pentamera Naudin.<br>VOL_COM=%{x}<br>CARB_INDIV=%{y}<br>Sum_ID_INDV_MU=%{marker.size}<extra></extra>",
         "hovertext": [
          "Bellucia pentamera Naudin."
         ],
         "legendgroup": "Bellucia pentamera Naudin.",
         "marker": {
          "color": "#B6E880",
          "size": [
           1314
          ],
          "sizemode": "area",
          "sizeref": 2.712396694214876,
          "symbol": "circle"
         },
         "mode": "markers",
         "name": "Bellucia pentamera Naudin.",
         "orientation": "v",
         "showlegend": true,
         "type": "scatter",
         "x": [
          2.442154175
         ],
         "xaxis": "x",
         "y": [
          3.702628103
         ],
         "yaxis": "y"
        },
        {
         "hovertemplate": "<b>%{hovertext}</b><br><br>Species=Brosimum guianense (Aubl.) Ducke<br>VOL_COM=%{x}<br>CARB_INDIV=%{y}<br>Sum_ID_INDV_MU=%{marker.size}<extra></extra>",
         "hovertext": [
          "Brosimum guianense (Aubl.) Ducke"
         ],
         "legendgroup": "Brosimum guianense (Aubl.) Ducke",
         "marker": {
          "color": "#FF97FF",
          "size": [
           111
          ],
          "sizemode": "area",
          "sizeref": 2.712396694214876,
          "symbol": "circle"
         },
         "mode": "markers",
         "name": "Brosimum guianense (Aubl.) Ducke",
         "orientation": "v",
         "showlegend": true,
         "type": "scatter",
         "x": [
          1.067884251
         ],
         "xaxis": "x",
         "y": [
          13.33096004
         ],
         "yaxis": "y"
        },
        {
         "hovertemplate": "<b>%{hovertext}</b><br><br>Species=Buchenavia cf., tetraphylla (Aubl.) R.A.Howard<br>VOL_COM=%{x}<br>CARB_INDIV=%{y}<br>Sum_ID_INDV_MU=%{marker.size}<extra></extra>",
         "hovertext": [
          "Buchenavia cf., tetraphylla (Aubl.) R.A.Howard"
         ],
         "legendgroup": "Buchenavia cf., tetraphylla (Aubl.) R.A.Howard",
         "marker": {
          "color": "#FECB52",
          "size": [
           2
          ],
          "sizemode": "area",
          "sizeref": 2.712396694214876,
          "symbol": "circle"
         },
         "mode": "markers",
         "name": "Buchenavia cf., tetraphylla (Aubl.) R.A.Howard",
         "orientation": "v",
         "showlegend": true,
         "type": "scatter",
         "x": [
          0.752143025
         ],
         "xaxis": "x",
         "y": [
          10.51756573
         ],
         "yaxis": "y"
        },
        {
         "hovertemplate": "<b>%{hovertext}</b><br><br>Species=Bursera simaruba (L.) Sarg.<br>VOL_COM=%{x}<br>CARB_INDIV=%{y}<br>Sum_ID_INDV_MU=%{marker.size}<extra></extra>",
         "hovertext": [
          "Bursera simaruba (L.) Sarg."
         ],
         "legendgroup": "Bursera simaruba (L.) Sarg.",
         "marker": {
          "color": "#636efa",
          "size": [
           30
          ],
          "sizemode": "area",
          "sizeref": 2.712396694214876,
          "symbol": "circle"
         },
         "mode": "markers",
         "name": "Bursera simaruba (L.) Sarg.",
         "orientation": "v",
         "showlegend": true,
         "type": "scatter",
         "x": [
          0.635403454
         ],
         "xaxis": "x",
         "y": [
          4.26128602
         ],
         "yaxis": "y"
        },
        {
         "hovertemplate": "<b>%{hovertext}</b><br><br>Species=Byrsonima spicata (Cav.) DC.<br>VOL_COM=%{x}<br>CARB_INDIV=%{y}<br>Sum_ID_INDV_MU=%{marker.size}<extra></extra>",
         "hovertext": [
          "Byrsonima spicata (Cav.) DC."
         ],
         "legendgroup": "Byrsonima spicata (Cav.) DC.",
         "marker": {
          "color": "#EF553B",
          "size": [
           395
          ],
          "sizemode": "area",
          "sizeref": 2.712396694214876,
          "symbol": "circle"
         },
         "mode": "markers",
         "name": "Byrsonima spicata (Cav.) DC.",
         "orientation": "v",
         "showlegend": true,
         "type": "scatter",
         "x": [
          3.709467463
         ],
         "xaxis": "x",
         "y": [
          6.238227231
         ],
         "yaxis": "y"
        },
        {
         "hovertemplate": "<b>%{hovertext}</b><br><br>Species=Byrsonima crassifolia (L.) Kunth.<br>VOL_COM=%{x}<br>CARB_INDIV=%{y}<br>Sum_ID_INDV_MU=%{marker.size}<extra></extra>",
         "hovertext": [
          "Byrsonima crassifolia (L.) Kunth."
         ],
         "legendgroup": "Byrsonima crassifolia (L.) Kunth.",
         "marker": {
          "color": "#00cc96",
          "size": [
           27
          ],
          "sizemode": "area",
          "sizeref": 2.712396694214876,
          "symbol": "circle"
         },
         "mode": "markers",
         "name": "Byrsonima crassifolia (L.) Kunth.",
         "orientation": "v",
         "showlegend": true,
         "type": "scatter",
         "x": [
          0.031767454
         ],
         "xaxis": "x",
         "y": [
          2.442566395
         ],
         "yaxis": "y"
        },
        {
         "hovertemplate": "<b>%{hovertext}</b><br><br>Species=Calophyllum brasiliense Cambess.<br>VOL_COM=%{x}<br>CARB_INDIV=%{y}<br>Sum_ID_INDV_MU=%{marker.size}<extra></extra>",
         "hovertext": [
          "Calophyllum brasiliense Cambess."
         ],
         "legendgroup": "Calophyllum brasiliense Cambess.",
         "marker": {
          "color": "#ab63fa",
          "size": [
           476
          ],
          "sizemode": "area",
          "sizeref": 2.712396694214876,
          "symbol": "circle"
         },
         "mode": "markers",
         "name": "Calophyllum brasiliense Cambess.",
         "orientation": "v",
         "showlegend": true,
         "type": "scatter",
         "x": [
          6.00610599
         ],
         "xaxis": "x",
         "y": [
          7.767116492
         ],
         "yaxis": "y"
        },
        {
         "hovertemplate": "<b>%{hovertext}</b><br><br>Species=Casearia aculeata Jacq.<br>VOL_COM=%{x}<br>CARB_INDIV=%{y}<br>Sum_ID_INDV_MU=%{marker.size}<extra></extra>",
         "hovertext": [
          "Casearia aculeata Jacq."
         ],
         "legendgroup": "Casearia aculeata Jacq.",
         "marker": {
          "color": "#FFA15A",
          "size": [
           9
          ],
          "sizemode": "area",
          "sizeref": 2.712396694214876,
          "symbol": "circle"
         },
         "mode": "markers",
         "name": "Casearia aculeata Jacq.",
         "orientation": "v",
         "showlegend": true,
         "type": "scatter",
         "x": [
          0.031778679
         ],
         "xaxis": "x",
         "y": [
          5.90688324
         ],
         "yaxis": "y"
        },
        {
         "hovertemplate": "<b>%{hovertext}</b><br><br>Species=Casearia corymbosa Kunth<br>VOL_COM=%{x}<br>CARB_INDIV=%{y}<br>Sum_ID_INDV_MU=%{marker.size}<extra></extra>",
         "hovertext": [
          "Casearia corymbosa Kunth"
         ],
         "legendgroup": "Casearia corymbosa Kunth",
         "marker": {
          "color": "#19d3f3",
          "size": [
           165
          ],
          "sizemode": "area",
          "sizeref": 2.712396694214876,
          "symbol": "circle"
         },
         "mode": "markers",
         "name": "Casearia corymbosa Kunth",
         "orientation": "v",
         "showlegend": true,
         "type": "scatter",
         "x": [
          0.168028551
         ],
         "xaxis": "x",
         "y": [
          4.17501092
         ],
         "yaxis": "y"
        },
        {
         "hovertemplate": "<b>%{hovertext}</b><br><br>Species=Casearia javitensis Kunth.<br>VOL_COM=%{x}<br>CARB_INDIV=%{y}<br>Sum_ID_INDV_MU=%{marker.size}<extra></extra>",
         "hovertext": [
          "Casearia javitensis Kunth."
         ],
         "legendgroup": "Casearia javitensis Kunth.",
         "marker": {
          "color": "#FF6692",
          "size": [
           215
          ],
          "sizemode": "area",
          "sizeref": 2.712396694214876,
          "symbol": "circle"
         },
         "mode": "markers",
         "name": "Casearia javitensis Kunth.",
         "orientation": "v",
         "showlegend": true,
         "type": "scatter",
         "x": [
          0.340445076
         ],
         "xaxis": "x",
         "y": [
          7.2472139
         ],
         "yaxis": "y"
        },
        {
         "hovertemplate": "<b>%{hovertext}</b><br><br>Species=Cecropia engleriana Snethl.<br>VOL_COM=%{x}<br>CARB_INDIV=%{y}<br>Sum_ID_INDV_MU=%{marker.size}<extra></extra>",
         "hovertext": [
          "Cecropia engleriana Snethl."
         ],
         "legendgroup": "Cecropia engleriana Snethl.",
         "marker": {
          "color": "#B6E880",
          "size": [
           2506
          ],
          "sizemode": "area",
          "sizeref": 2.712396694214876,
          "symbol": "circle"
         },
         "mode": "markers",
         "name": "Cecropia engleriana Snethl.",
         "orientation": "v",
         "showlegend": true,
         "type": "scatter",
         "x": [
          27.18975588
         ],
         "xaxis": "x",
         "y": [
          6.238603393
         ],
         "yaxis": "y"
        },
        {
         "hovertemplate": "<b>%{hovertext}</b><br><br>Species=Cecropia ficifolia Warb. ex Snethl.<br>VOL_COM=%{x}<br>CARB_INDIV=%{y}<br>Sum_ID_INDV_MU=%{marker.size}<extra></extra>",
         "hovertext": [
          "Cecropia ficifolia Warb. ex Snethl."
         ],
         "legendgroup": "Cecropia ficifolia Warb. ex Snethl.",
         "marker": {
          "color": "#FF97FF",
          "size": [
           248
          ],
          "sizemode": "area",
          "sizeref": 2.712396694214876,
          "symbol": "circle"
         },
         "mode": "markers",
         "name": "Cecropia ficifolia Warb. ex Snethl.",
         "orientation": "v",
         "showlegend": true,
         "type": "scatter",
         "x": [
          5.503175279
         ],
         "xaxis": "x",
         "y": [
          4.426309645
         ],
         "yaxis": "y"
        },
        {
         "hovertemplate": "<b>%{hovertext}</b><br><br>Species=Cecropia membranacea Trécul<br>VOL_COM=%{x}<br>CARB_INDIV=%{y}<br>Sum_ID_INDV_MU=%{marker.size}<extra></extra>",
         "hovertext": [
          "Cecropia membranacea Trécul"
         ],
         "legendgroup": "Cecropia membranacea Trécul",
         "marker": {
          "color": "#FECB52",
          "size": [
           30
          ],
          "sizemode": "area",
          "sizeref": 2.712396694214876,
          "symbol": "circle"
         },
         "mode": "markers",
         "name": "Cecropia membranacea Trécul",
         "orientation": "v",
         "showlegend": true,
         "type": "scatter",
         "x": [
          0.061413914
         ],
         "xaxis": "x",
         "y": [
          2.398436546
         ],
         "yaxis": "y"
        },
        {
         "hovertemplate": "<b>%{hovertext}</b><br><br>Species=Cecropia peltata L.<br>VOL_COM=%{x}<br>CARB_INDIV=%{y}<br>Sum_ID_INDV_MU=%{marker.size}<extra></extra>",
         "hovertext": [
          "Cecropia peltata L."
         ],
         "legendgroup": "Cecropia peltata L.",
         "marker": {
          "color": "#636efa",
          "size": [
           206
          ],
          "sizemode": "area",
          "sizeref": 2.712396694214876,
          "symbol": "circle"
         },
         "mode": "markers",
         "name": "Cecropia peltata L.",
         "orientation": "v",
         "showlegend": true,
         "type": "scatter",
         "x": [
          1.637777988
         ],
         "xaxis": "x",
         "y": [
          2.449294589
         ],
         "yaxis": "y"
        },
        {
         "hovertemplate": "<b>%{hovertext}</b><br><br>Species=Cedrela odorata L.<br>VOL_COM=%{x}<br>CARB_INDIV=%{y}<br>Sum_ID_INDV_MU=%{marker.size}<extra></extra>",
         "hovertext": [
          "Cedrela odorata L."
         ],
         "legendgroup": "Cedrela odorata L.",
         "marker": {
          "color": "#EF553B",
          "size": [
           71
          ],
          "sizemode": "area",
          "sizeref": 2.712396694214876,
          "symbol": "circle"
         },
         "mode": "markers",
         "name": "Cedrela odorata L.",
         "orientation": "v",
         "showlegend": true,
         "type": "scatter",
         "x": [
          1.905133773
         ],
         "xaxis": "x",
         "y": [
          8.279210043
         ],
         "yaxis": "y"
        },
        {
         "hovertemplate": "<b>%{hovertext}</b><br><br>Species=Ceiba pentandra (L.) Gaertn.<br>VOL_COM=%{x}<br>CARB_INDIV=%{y}<br>Sum_ID_INDV_MU=%{marker.size}<extra></extra>",
         "hovertext": [
          "Ceiba pentandra (L.) Gaertn."
         ],
         "legendgroup": "Ceiba pentandra (L.) Gaertn.",
         "marker": {
          "color": "#00cc96",
          "size": [
           18
          ],
          "sizemode": "area",
          "sizeref": 2.712396694214876,
          "symbol": "circle"
         },
         "mode": "markers",
         "name": "Ceiba pentandra (L.) Gaertn.",
         "orientation": "v",
         "showlegend": true,
         "type": "scatter",
         "x": [
          0.531245016
         ],
         "xaxis": "x",
         "y": [
          4.882391691
         ],
         "yaxis": "y"
        },
        {
         "hovertemplate": "<b>%{hovertext}</b><br><br>Species=Centrolobium paraense Tul.<br>VOL_COM=%{x}<br>CARB_INDIV=%{y}<br>Sum_ID_INDV_MU=%{marker.size}<extra></extra>",
         "hovertext": [
          "Centrolobium paraense Tul."
         ],
         "legendgroup": "Centrolobium paraense Tul.",
         "marker": {
          "color": "#ab63fa",
          "size": [
           154
          ],
          "sizemode": "area",
          "sizeref": 2.712396694214876,
          "symbol": "circle"
         },
         "mode": "markers",
         "name": "Centrolobium paraense Tul.",
         "orientation": "v",
         "showlegend": true,
         "type": "scatter",
         "x": [
          0.250956245
         ],
         "xaxis": "x",
         "y": [
          8.221049627
         ],
         "yaxis": "y"
        },
        {
         "hovertemplate": "<b>%{hovertext}</b><br><br>Species=Chrysophyllum cainito L.<br>VOL_COM=%{x}<br>CARB_INDIV=%{y}<br>Sum_ID_INDV_MU=%{marker.size}<extra></extra>",
         "hovertext": [
          "Chrysophyllum cainito L."
         ],
         "legendgroup": "Chrysophyllum cainito L.",
         "marker": {
          "color": "#FFA15A",
          "size": [
           656
          ],
          "sizemode": "area",
          "sizeref": 2.712396694214876,
          "symbol": "circle"
         },
         "mode": "markers",
         "name": "Chrysophyllum cainito L.",
         "orientation": "v",
         "showlegend": true,
         "type": "scatter",
         "x": [
          3.583641773
         ],
         "xaxis": "x",
         "y": [
          4.97140755
         ],
         "yaxis": "y"
        },
        {
         "hovertemplate": "<b>%{hovertext}</b><br><br>Species=Clathrotropis brunnea Amshoff<br>VOL_COM=%{x}<br>CARB_INDIV=%{y}<br>Sum_ID_INDV_MU=%{marker.size}<extra></extra>",
         "hovertext": [
          "Clathrotropis brunnea Amshoff"
         ],
         "legendgroup": "Clathrotropis brunnea Amshoff",
         "marker": {
          "color": "#19d3f3",
          "size": [
           510
          ],
          "sizemode": "area",
          "sizeref": 2.712396694214876,
          "symbol": "circle"
         },
         "mode": "markers",
         "name": "Clathrotropis brunnea Amshoff",
         "orientation": "v",
         "showlegend": true,
         "type": "scatter",
         "x": [
          7.410695665
         ],
         "xaxis": "x",
         "y": [
          13.36547416
         ],
         "yaxis": "y"
        },
        {
         "hovertemplate": "<b>%{hovertext}</b><br><br>Species=Coccoloba acuminata Kunth.<br>VOL_COM=%{x}<br>CARB_INDIV=%{y}<br>Sum_ID_INDV_MU=%{marker.size}<extra></extra>",
         "hovertext": [
          "Coccoloba acuminata Kunth."
         ],
         "legendgroup": "Coccoloba acuminata Kunth.",
         "marker": {
          "color": "#FF6692",
          "size": [
           306
          ],
          "sizemode": "area",
          "sizeref": 2.712396694214876,
          "symbol": "circle"
         },
         "mode": "markers",
         "name": "Coccoloba acuminata Kunth.",
         "orientation": "v",
         "showlegend": true,
         "type": "scatter",
         "x": [
          1.055865366
         ],
         "xaxis": "x",
         "y": [
          5.192601331
         ],
         "yaxis": "y"
        },
        {
         "hovertemplate": "<b>%{hovertext}</b><br><br>Species=Coccoloba caracasana Meisn<br>VOL_COM=%{x}<br>CARB_INDIV=%{y}<br>Sum_ID_INDV_MU=%{marker.size}<extra></extra>",
         "hovertext": [
          "Coccoloba caracasana Meisn"
         ],
         "legendgroup": "Coccoloba caracasana Meisn",
         "marker": {
          "color": "#B6E880",
          "size": [
           166
          ],
          "sizemode": "area",
          "sizeref": 2.712396694214876,
          "symbol": "circle"
         },
         "mode": "markers",
         "name": "Coccoloba caracasana Meisn",
         "orientation": "v",
         "showlegend": true,
         "type": "scatter",
         "x": [
          0.230914418
         ],
         "xaxis": "x",
         "y": [
          3.33094338
         ],
         "yaxis": "y"
        },
        {
         "hovertemplate": "<b>%{hovertext}</b><br><br>Species=Cordia collococca L.<br>VOL_COM=%{x}<br>CARB_INDIV=%{y}<br>Sum_ID_INDV_MU=%{marker.size}<extra></extra>",
         "hovertext": [
          "Cordia collococca L."
         ],
         "legendgroup": "Cordia collococca L.",
         "marker": {
          "color": "#FF97FF",
          "size": [
           129
          ],
          "sizemode": "area",
          "sizeref": 2.712396694214876,
          "symbol": "circle"
         },
         "mode": "markers",
         "name": "Cordia collococca L.",
         "orientation": "v",
         "showlegend": true,
         "type": "scatter",
         "x": [
          0.081357131
         ],
         "xaxis": "x",
         "y": [
          3.071134388
         ],
         "yaxis": "y"
        },
        {
         "hovertemplate": "<b>%{hovertext}</b><br><br>Species=Cordia panamensis L.Riley<br>VOL_COM=%{x}<br>CARB_INDIV=%{y}<br>Sum_ID_INDV_MU=%{marker.size}<extra></extra>",
         "hovertext": [
          "Cordia panamensis L.Riley"
         ],
         "legendgroup": "Cordia panamensis L.Riley",
         "marker": {
          "color": "#FECB52",
          "size": [
           157
          ],
          "sizemode": "area",
          "sizeref": 2.712396694214876,
          "symbol": "circle"
         },
         "mode": "markers",
         "name": "Cordia panamensis L.Riley",
         "orientation": "v",
         "showlegend": true,
         "type": "scatter",
         "x": [
          1.682856917
         ],
         "xaxis": "x",
         "y": [
          10.42487081
         ],
         "yaxis": "y"
        },
        {
         "hovertemplate": "<b>%{hovertext}</b><br><br>Species=Cordia gerascanthus L.<br>VOL_COM=%{x}<br>CARB_INDIV=%{y}<br>Sum_ID_INDV_MU=%{marker.size}<extra></extra>",
         "hovertext": [
          "Cordia gerascanthus L."
         ],
         "legendgroup": "Cordia gerascanthus L.",
         "marker": {
          "color": "#636efa",
          "size": [
           46
          ],
          "sizemode": "area",
          "sizeref": 2.712396694214876,
          "symbol": "circle"
         },
         "mode": "markers",
         "name": "Cordia gerascanthus L.",
         "orientation": "v",
         "showlegend": true,
         "type": "scatter",
         "x": [
          6.023048213
         ],
         "xaxis": "x",
         "y": [
          12.34547404
         ],
         "yaxis": "y"
        },
        {
         "hovertemplate": "<b>%{hovertext}</b><br><br>Species=Couma macrocarpa Barb. Rodr.<br>VOL_COM=%{x}<br>CARB_INDIV=%{y}<br>Sum_ID_INDV_MU=%{marker.size}<extra></extra>",
         "hovertext": [
          "Couma macrocarpa Barb. Rodr."
         ],
         "legendgroup": "Couma macrocarpa Barb. Rodr.",
         "marker": {
          "color": "#EF553B",
          "size": [
           222
          ],
          "sizemode": "area",
          "sizeref": 2.712396694214876,
          "symbol": "circle"
         },
         "mode": "markers",
         "name": "Couma macrocarpa Barb. Rodr.",
         "orientation": "v",
         "showlegend": true,
         "type": "scatter",
         "x": [
          1.4300263
         ],
         "xaxis": "x",
         "y": [
          7.020022631
         ],
         "yaxis": "y"
        },
        {
         "hovertemplate": "<b>%{hovertext}</b><br><br>Species=Couratari guianensis Aubl.<br>VOL_COM=%{x}<br>CARB_INDIV=%{y}<br>Sum_ID_INDV_MU=%{marker.size}<extra></extra>",
         "hovertext": [
          "Couratari guianensis Aubl."
         ],
         "legendgroup": "Couratari guianensis Aubl.",
         "marker": {
          "color": "#00cc96",
          "size": [
           203
          ],
          "sizemode": "area",
          "sizeref": 2.712396694214876,
          "symbol": "circle"
         },
         "mode": "markers",
         "name": "Couratari guianensis Aubl.",
         "orientation": "v",
         "showlegend": true,
         "type": "scatter",
         "x": [
          1.266393922
         ],
         "xaxis": "x",
         "y": [
          4.39498309
         ],
         "yaxis": "y"
        },
        {
         "hovertemplate": "<b>%{hovertext}</b><br><br>Species=Croton schiedeanus Schltdl.<br>VOL_COM=%{x}<br>CARB_INDIV=%{y}<br>Sum_ID_INDV_MU=%{marker.size}<extra></extra>",
         "hovertext": [
          "Croton schiedeanus Schltdl."
         ],
         "legendgroup": "Croton schiedeanus Schltdl.",
         "marker": {
          "color": "#ab63fa",
          "size": [
           46
          ],
          "sizemode": "area",
          "sizeref": 2.712396694214876,
          "symbol": "circle"
         },
         "mode": "markers",
         "name": "Croton schiedeanus Schltdl.",
         "orientation": "v",
         "showlegend": true,
         "type": "scatter",
         "x": [
          0.374939147
         ],
         "xaxis": "x",
         "y": [
          5.746593634
         ],
         "yaxis": "y"
        },
        {
         "hovertemplate": "<b>%{hovertext}</b><br><br>Species=Crudia glaberrima (Steud) J.F.Macbr.<br>VOL_COM=%{x}<br>CARB_INDIV=%{y}<br>Sum_ID_INDV_MU=%{marker.size}<extra></extra>",
         "hovertext": [
          "Crudia glaberrima (Steud) J.F.Macbr."
         ],
         "legendgroup": "Crudia glaberrima (Steud) J.F.Macbr.",
         "marker": {
          "color": "#FFA15A",
          "size": [
           77
          ],
          "sizemode": "area",
          "sizeref": 2.712396694214876,
          "symbol": "circle"
         },
         "mode": "markers",
         "name": "Crudia glaberrima (Steud) J.F.Macbr.",
         "orientation": "v",
         "showlegend": true,
         "type": "scatter",
         "x": [
          0.429271873
         ],
         "xaxis": "x",
         "y": [
          9.174398422
         ],
         "yaxis": "y"
        },
        {
         "hovertemplate": "<b>%{hovertext}</b><br><br>Species=Cupania americana L.<br>VOL_COM=%{x}<br>CARB_INDIV=%{y}<br>Sum_ID_INDV_MU=%{marker.size}<extra></extra>",
         "hovertext": [
          "Cupania americana L."
         ],
         "legendgroup": "Cupania americana L.",
         "marker": {
          "color": "#19d3f3",
          "size": [
           537
          ],
          "sizemode": "area",
          "sizeref": 2.712396694214876,
          "symbol": "circle"
         },
         "mode": "markers",
         "name": "Cupania americana L.",
         "orientation": "v",
         "showlegend": true,
         "type": "scatter",
         "x": [
          1.773215682
         ],
         "xaxis": "x",
         "y": [
          5.573117128
         ],
         "yaxis": "y"
        },
        {
         "hovertemplate": "<b>%{hovertext}</b><br><br>Species=Dendrobangia boliviana Rusby<br>VOL_COM=%{x}<br>CARB_INDIV=%{y}<br>Sum_ID_INDV_MU=%{marker.size}<extra></extra>",
         "hovertext": [
          "Dendrobangia boliviana Rusby"
         ],
         "legendgroup": "Dendrobangia boliviana Rusby",
         "marker": {
          "color": "#FF6692",
          "size": [
           106
          ],
          "sizemode": "area",
          "sizeref": 2.712396694214876,
          "symbol": "circle"
         },
         "mode": "markers",
         "name": "Dendrobangia boliviana Rusby",
         "orientation": "v",
         "showlegend": true,
         "type": "scatter",
         "x": [
          0.272655938
         ],
         "xaxis": "x",
         "y": [
          5.917092204
         ],
         "yaxis": "y"
        },
        {
         "hovertemplate": "<b>%{hovertext}</b><br><br>Species=Dendrobangia cf., boliviana Rusby<br>VOL_COM=%{x}<br>CARB_INDIV=%{y}<br>Sum_ID_INDV_MU=%{marker.size}<extra></extra>",
         "hovertext": [
          "Dendrobangia cf., boliviana Rusby"
         ],
         "legendgroup": "Dendrobangia cf., boliviana Rusby",
         "marker": {
          "color": "#B6E880",
          "size": [
           11
          ],
          "sizemode": "area",
          "sizeref": 2.712396694214876,
          "symbol": "circle"
         },
         "mode": "markers",
         "name": "Dendrobangia cf., boliviana Rusby",
         "orientation": "v",
         "showlegend": true,
         "type": "scatter",
         "x": [
          1.164708614
         ],
         "xaxis": "x",
         "y": [
          10.07278538
         ],
         "yaxis": "y"
        },
        {
         "hovertemplate": "<b>%{hovertext}</b><br><br>Species=Dendropanax caucanus (Harms) Harms<br>VOL_COM=%{x}<br>CARB_INDIV=%{y}<br>Sum_ID_INDV_MU=%{marker.size}<extra></extra>",
         "hovertext": [
          "Dendropanax caucanus (Harms) Harms"
         ],
         "legendgroup": "Dendropanax caucanus (Harms) Harms",
         "marker": {
          "color": "#FF97FF",
          "size": [
           31
          ],
          "sizemode": "area",
          "sizeref": 2.712396694214876,
          "symbol": "circle"
         },
         "mode": "markers",
         "name": "Dendropanax caucanus (Harms) Harms",
         "orientation": "v",
         "showlegend": true,
         "type": "scatter",
         "x": [
          0.068783581
         ],
         "xaxis": "x",
         "y": [
          3.224795818
         ],
         "yaxis": "y"
        },
        {
         "hovertemplate": "<b>%{hovertext}</b><br><br>Species=Discophora guianensis Miers<br>VOL_COM=%{x}<br>CARB_INDIV=%{y}<br>Sum_ID_INDV_MU=%{marker.size}<extra></extra>",
         "hovertext": [
          "Discophora guianensis Miers"
         ],
         "legendgroup": "Discophora guianensis Miers",
         "marker": {
          "color": "#FECB52",
          "size": [
           61
          ],
          "sizemode": "area",
          "sizeref": 2.712396694214876,
          "symbol": "circle"
         },
         "mode": "markers",
         "name": "Discophora guianensis Miers",
         "orientation": "v",
         "showlegend": true,
         "type": "scatter",
         "x": [
          0.647529837
         ],
         "xaxis": "x",
         "y": [
          9.688403368
         ],
         "yaxis": "y"
        },
        {
         "hovertemplate": "<b>%{hovertext}</b><br><br>Species=Elaeis guineensis Jacq.<br>VOL_COM=%{x}<br>CARB_INDIV=%{y}<br>Sum_ID_INDV_MU=%{marker.size}<extra></extra>",
         "hovertext": [
          "Elaeis guineensis Jacq."
         ],
         "legendgroup": "Elaeis guineensis Jacq.",
         "marker": {
          "color": "#636efa",
          "size": [
           57
          ],
          "sizemode": "area",
          "sizeref": 2.712396694214876,
          "symbol": "circle"
         },
         "mode": "markers",
         "name": "Elaeis guineensis Jacq.",
         "orientation": "v",
         "showlegend": true,
         "type": "scatter",
         "x": [
          0.00002
         ],
         "xaxis": "x",
         "y": [
          6.585034847
         ],
         "yaxis": "y"
        },
        {
         "hovertemplate": "<b>%{hovertext}</b><br><br>Species=Enterolobium cyclocarpum (Jacq.) Griseb.<br>VOL_COM=%{x}<br>CARB_INDIV=%{y}<br>Sum_ID_INDV_MU=%{marker.size}<extra></extra>",
         "hovertext": [
          "Enterolobium cyclocarpum (Jacq.) Griseb."
         ],
         "legendgroup": "Enterolobium cyclocarpum (Jacq.) Griseb.",
         "marker": {
          "color": "#EF553B",
          "size": [
           19
          ],
          "sizemode": "area",
          "sizeref": 2.712396694214876,
          "symbol": "circle"
         },
         "mode": "markers",
         "name": "Enterolobium cyclocarpum (Jacq.) Griseb.",
         "orientation": "v",
         "showlegend": true,
         "type": "scatter",
         "x": [
          0.042449296
         ],
         "xaxis": "x",
         "y": [
          3.374845266
         ],
         "yaxis": "y"
        },
        {
         "hovertemplate": "<b>%{hovertext}</b><br><br>Species=Enterolobium schomburgkii (Benth.) Benth.<br>VOL_COM=%{x}<br>CARB_INDIV=%{y}<br>Sum_ID_INDV_MU=%{marker.size}<extra></extra>",
         "hovertext": [
          "Enterolobium schomburgkii (Benth.) Benth."
         ],
         "legendgroup": "Enterolobium schomburgkii (Benth.) Benth.",
         "marker": {
          "color": "#00cc96",
          "size": [
           297
          ],
          "sizemode": "area",
          "sizeref": 2.712396694214876,
          "symbol": "circle"
         },
         "mode": "markers",
         "name": "Enterolobium schomburgkii (Benth.) Benth.",
         "orientation": "v",
         "showlegend": true,
         "type": "scatter",
         "x": [
          2.806780092
         ],
         "xaxis": "x",
         "y": [
          10.21493003
         ],
         "yaxis": "y"
        },
        {
         "hovertemplate": "<b>%{hovertext}</b><br><br>Species=Erythrina fusca Lour.<br>VOL_COM=%{x}<br>CARB_INDIV=%{y}<br>Sum_ID_INDV_MU=%{marker.size}<extra></extra>",
         "hovertext": [
          "Erythrina fusca Lour."
         ],
         "legendgroup": "Erythrina fusca Lour.",
         "marker": {
          "color": "#ab63fa",
          "size": [
           41
          ],
          "sizemode": "area",
          "sizeref": 2.712396694214876,
          "symbol": "circle"
         },
         "mode": "markers",
         "name": "Erythrina fusca Lour.",
         "orientation": "v",
         "showlegend": true,
         "type": "scatter",
         "x": [
          1.332716927
         ],
         "xaxis": "x",
         "y": [
          4.425655365
         ],
         "yaxis": "y"
        },
        {
         "hovertemplate": "<b>%{hovertext}</b><br><br>Species=Eschweilera coriacea (DC.) S.A.Mori<br>VOL_COM=%{x}<br>CARB_INDIV=%{y}<br>Sum_ID_INDV_MU=%{marker.size}<extra></extra>",
         "hovertext": [
          "Eschweilera coriacea (DC.) S.A.Mori"
         ],
         "legendgroup": "Eschweilera coriacea (DC.) S.A.Mori",
         "marker": {
          "color": "#FFA15A",
          "size": [
           359
          ],
          "sizemode": "area",
          "sizeref": 2.712396694214876,
          "symbol": "circle"
         },
         "mode": "markers",
         "name": "Eschweilera coriacea (DC.) S.A.Mori",
         "orientation": "v",
         "showlegend": true,
         "type": "scatter",
         "x": [
          3.238487323
         ],
         "xaxis": "x",
         "y": [
          12.64625627
         ],
         "yaxis": "y"
        },
        {
         "hovertemplate": "<b>%{hovertext}</b><br><br>Species=Eugenia victoriana Cuatrec.<br>VOL_COM=%{x}<br>CARB_INDIV=%{y}<br>Sum_ID_INDV_MU=%{marker.size}<extra></extra>",
         "hovertext": [
          "Eugenia victoriana Cuatrec."
         ],
         "legendgroup": "Eugenia victoriana Cuatrec.",
         "marker": {
          "color": "#19d3f3",
          "size": [
           41
          ],
          "sizemode": "area",
          "sizeref": 2.712396694214876,
          "symbol": "circle"
         },
         "mode": "markers",
         "name": "Eugenia victoriana Cuatrec.",
         "orientation": "v",
         "showlegend": true,
         "type": "scatter",
         "x": [
          0.066912815
         ],
         "xaxis": "x",
         "y": [
          10.45358562
         ],
         "yaxis": "y"
        },
        {
         "hovertemplate": "<b>%{hovertext}</b><br><br>Species=Faramea cf., occidentalis (L.) A. Rich.<br>VOL_COM=%{x}<br>CARB_INDIV=%{y}<br>Sum_ID_INDV_MU=%{marker.size}<extra></extra>",
         "hovertext": [
          "Faramea cf., occidentalis (L.) A. Rich."
         ],
         "legendgroup": "Faramea cf., occidentalis (L.) A. Rich.",
         "marker": {
          "color": "#FF6692",
          "size": [
           7
          ],
          "sizemode": "area",
          "sizeref": 2.712396694214876,
          "symbol": "circle"
         },
         "mode": "markers",
         "name": "Faramea cf., occidentalis (L.) A. Rich.",
         "orientation": "v",
         "showlegend": true,
         "type": "scatter",
         "x": [
          0.012964046
         ],
         "xaxis": "x",
         "y": [
          2.527337313
         ],
         "yaxis": "y"
        },
        {
         "hovertemplate": "<b>%{hovertext}</b><br><br>Species=Ficus americana Aubl.<br>VOL_COM=%{x}<br>CARB_INDIV=%{y}<br>Sum_ID_INDV_MU=%{marker.size}<extra></extra>",
         "hovertext": [
          "Ficus americana Aubl."
         ],
         "legendgroup": "Ficus americana Aubl.",
         "marker": {
          "color": "#B6E880",
          "size": [
           174
          ],
          "sizemode": "area",
          "sizeref": 2.712396694214876,
          "symbol": "circle"
         },
         "mode": "markers",
         "name": "Ficus americana Aubl.",
         "orientation": "v",
         "showlegend": true,
         "type": "scatter",
         "x": [
          2.866955416
         ],
         "xaxis": "x",
         "y": [
          4.553021701
         ],
         "yaxis": "y"
        },
        {
         "hovertemplate": "<b>%{hovertext}</b><br><br>Species=Ficus insipida Willd.<br>VOL_COM=%{x}<br>CARB_INDIV=%{y}<br>Sum_ID_INDV_MU=%{marker.size}<extra></extra>",
         "hovertext": [
          "Ficus insipida Willd."
         ],
         "legendgroup": "Ficus insipida Willd.",
         "marker": {
          "color": "#FF97FF",
          "size": [
           276
          ],
          "sizemode": "area",
          "sizeref": 2.712396694214876,
          "symbol": "circle"
         },
         "mode": "markers",
         "name": "Ficus insipida Willd.",
         "orientation": "v",
         "showlegend": true,
         "type": "scatter",
         "x": [
          6.488177123
         ],
         "xaxis": "x",
         "y": [
          5.003140211
         ],
         "yaxis": "y"
        },
        {
         "hovertemplate": "<b>%{hovertext}</b><br><br>Species=Ficus matiziana Dugand.<br>VOL_COM=%{x}<br>CARB_INDIV=%{y}<br>Sum_ID_INDV_MU=%{marker.size}<extra></extra>",
         "hovertext": [
          "Ficus matiziana Dugand."
         ],
         "legendgroup": "Ficus matiziana Dugand.",
         "marker": {
          "color": "#FECB52",
          "size": [
           20
          ],
          "sizemode": "area",
          "sizeref": 2.712396694214876,
          "symbol": "circle"
         },
         "mode": "markers",
         "name": "Ficus matiziana Dugand.",
         "orientation": "v",
         "showlegend": true,
         "type": "scatter",
         "x": [
          0.118813112
         ],
         "xaxis": "x",
         "y": [
          5.404064178
         ],
         "yaxis": "y"
        },
        {
         "hovertemplate": "<b>%{hovertext}</b><br><br>Species=Ficus nymphaeifolia Mill.<br>VOL_COM=%{x}<br>CARB_INDIV=%{y}<br>Sum_ID_INDV_MU=%{marker.size}<extra></extra>",
         "hovertext": [
          "Ficus nymphaeifolia Mill."
         ],
         "legendgroup": "Ficus nymphaeifolia Mill.",
         "marker": {
          "color": "#636efa",
          "size": [
           344
          ],
          "sizemode": "area",
          "sizeref": 2.712396694214876,
          "symbol": "circle"
         },
         "mode": "markers",
         "name": "Ficus nymphaeifolia Mill.",
         "orientation": "v",
         "showlegend": true,
         "type": "scatter",
         "x": [
          1.895000892
         ],
         "xaxis": "x",
         "y": [
          5.579905438
         ],
         "yaxis": "y"
        },
        {
         "hovertemplate": "<b>%{hovertext}</b><br><br>Species=Ficus sp.<br>VOL_COM=%{x}<br>CARB_INDIV=%{y}<br>Sum_ID_INDV_MU=%{marker.size}<extra></extra>",
         "hovertext": [
          "Ficus sp."
         ],
         "legendgroup": "Ficus sp.",
         "marker": {
          "color": "#EF553B",
          "size": [
           77
          ],
          "sizemode": "area",
          "sizeref": 2.712396694214876,
          "symbol": "circle"
         },
         "mode": "markers",
         "name": "Ficus sp.",
         "orientation": "v",
         "showlegend": true,
         "type": "scatter",
         "x": [
          0.403043166
         ],
         "xaxis": "x",
         "y": [
          5.766762853
         ],
         "yaxis": "y"
        },
        {
         "hovertemplate": "<b>%{hovertext}</b><br><br>Species=Ficus turrialbana W.C.Burger<br>VOL_COM=%{x}<br>CARB_INDIV=%{y}<br>Sum_ID_INDV_MU=%{marker.size}<extra></extra>",
         "hovertext": [
          "Ficus turrialbana W.C.Burger"
         ],
         "legendgroup": "Ficus turrialbana W.C.Burger",
         "marker": {
          "color": "#00cc96",
          "size": [
           5
          ],
          "sizemode": "area",
          "sizeref": 2.712396694214876,
          "symbol": "circle"
         },
         "mode": "markers",
         "name": "Ficus turrialbana W.C.Burger",
         "orientation": "v",
         "showlegend": true,
         "type": "scatter",
         "x": [
          0.049835511
         ],
         "xaxis": "x",
         "y": [
          2.759379387
         ],
         "yaxis": "y"
        },
        {
         "hovertemplate": "<b>%{hovertext}</b><br><br>Species=Genipa americana L.<br>VOL_COM=%{x}<br>CARB_INDIV=%{y}<br>Sum_ID_INDV_MU=%{marker.size}<extra></extra>",
         "hovertext": [
          "Genipa americana L."
         ],
         "legendgroup": "Genipa americana L.",
         "marker": {
          "color": "#ab63fa",
          "size": [
           123
          ],
          "sizemode": "area",
          "sizeref": 2.712396694214876,
          "symbol": "circle"
         },
         "mode": "markers",
         "name": "Genipa americana L.",
         "orientation": "v",
         "showlegend": true,
         "type": "scatter",
         "x": [
          0.080646856
         ],
         "xaxis": "x",
         "y": [
          5.312154293
         ],
         "yaxis": "y"
        },
        {
         "hovertemplate": "<b>%{hovertext}</b><br><br>Species=Guatteria amplifolia Triana & Planch.<br>VOL_COM=%{x}<br>CARB_INDIV=%{y}<br>Sum_ID_INDV_MU=%{marker.size}<extra></extra>",
         "hovertext": [
          "Guatteria amplifolia Triana & Planch."
         ],
         "legendgroup": "Guatteria amplifolia Triana & Planch.",
         "marker": {
          "color": "#FFA15A",
          "size": [
           19
          ],
          "sizemode": "area",
          "sizeref": 2.712396694214876,
          "symbol": "circle"
         },
         "mode": "markers",
         "name": "Guatteria amplifolia Triana & Planch.",
         "orientation": "v",
         "showlegend": true,
         "type": "scatter",
         "x": [
          0.023985796
         ],
         "xaxis": "x",
         "y": [
          5.703958988
         ],
         "yaxis": "y"
        },
        {
         "hovertemplate": "<b>%{hovertext}</b><br><br>Species=Guatteria cargadero Triana & Planch.<br>VOL_COM=%{x}<br>CARB_INDIV=%{y}<br>Sum_ID_INDV_MU=%{marker.size}<extra></extra>",
         "hovertext": [
          "Guatteria cargadero Triana & Planch."
         ],
         "legendgroup": "Guatteria cargadero Triana & Planch.",
         "marker": {
          "color": "#19d3f3",
          "size": [
           281
          ],
          "sizemode": "area",
          "sizeref": 2.712396694214876,
          "symbol": "circle"
         },
         "mode": "markers",
         "name": "Guatteria cargadero Triana & Planch.",
         "orientation": "v",
         "showlegend": true,
         "type": "scatter",
         "x": [
          1.430148925
         ],
         "xaxis": "x",
         "y": [
          4.858018068
         ],
         "yaxis": "y"
        },
        {
         "hovertemplate": "<b>%{hovertext}</b><br><br>Species=Guatteria cf. punctata (Aubl.) R.A. Howard<br>VOL_COM=%{x}<br>CARB_INDIV=%{y}<br>Sum_ID_INDV_MU=%{marker.size}<extra></extra>",
         "hovertext": [
          "Guatteria cf. punctata (Aubl.) R.A. Howard"
         ],
         "legendgroup": "Guatteria cf. punctata (Aubl.) R.A. Howard",
         "marker": {
          "color": "#FF6692",
          "size": [
           81
          ],
          "sizemode": "area",
          "sizeref": 2.712396694214876,
          "symbol": "circle"
         },
         "mode": "markers",
         "name": "Guatteria cf. punctata (Aubl.) R.A. Howard",
         "orientation": "v",
         "showlegend": true,
         "type": "scatter",
         "x": [
          0.442403279
         ],
         "xaxis": "x",
         "y": [
          8.185976664
         ],
         "yaxis": "y"
        },
        {
         "hovertemplate": "<b>%{hovertext}</b><br><br>Species=Guatteria scytophylla Diels<br>VOL_COM=%{x}<br>CARB_INDIV=%{y}<br>Sum_ID_INDV_MU=%{marker.size}<extra></extra>",
         "hovertext": [
          "Guatteria scytophylla Diels"
         ],
         "legendgroup": "Guatteria scytophylla Diels",
         "marker": {
          "color": "#B6E880",
          "size": [
           4
          ],
          "sizemode": "area",
          "sizeref": 2.712396694214876,
          "symbol": "circle"
         },
         "mode": "markers",
         "name": "Guatteria scytophylla Diels",
         "orientation": "v",
         "showlegend": true,
         "type": "scatter",
         "x": [
          0.952967465
         ],
         "xaxis": "x",
         "y": [
          17.79521942
         ],
         "yaxis": "y"
        },
        {
         "hovertemplate": "<b>%{hovertext}</b><br><br>Species=Guatteria sp.<br>VOL_COM=%{x}<br>CARB_INDIV=%{y}<br>Sum_ID_INDV_MU=%{marker.size}<extra></extra>",
         "hovertext": [
          "Guatteria sp."
         ],
         "legendgroup": "Guatteria sp.",
         "marker": {
          "color": "#FF97FF",
          "size": [
           30
          ],
          "sizemode": "area",
          "sizeref": 2.712396694214876,
          "symbol": "circle"
         },
         "mode": "markers",
         "name": "Guatteria sp.",
         "orientation": "v",
         "showlegend": true,
         "type": "scatter",
         "x": [
          0.026520783
         ],
         "xaxis": "x",
         "y": [
          4.132475376
         ],
         "yaxis": "y"
        },
        {
         "hovertemplate": "<b>%{hovertext}</b><br><br>Species=Guatteria stipitata R.E.Fr.<br>VOL_COM=%{x}<br>CARB_INDIV=%{y}<br>Sum_ID_INDV_MU=%{marker.size}<extra></extra>",
         "hovertext": [
          "Guatteria stipitata R.E.Fr."
         ],
         "legendgroup": "Guatteria stipitata R.E.Fr.",
         "marker": {
          "color": "#FECB52",
          "size": [
           138
          ],
          "sizemode": "area",
          "sizeref": 2.712396694214876,
          "symbol": "circle"
         },
         "mode": "markers",
         "name": "Guatteria stipitata R.E.Fr.",
         "orientation": "v",
         "showlegend": true,
         "type": "scatter",
         "x": [
          0.800282449
         ],
         "xaxis": "x",
         "y": [
          7.504326502
         ],
         "yaxis": "y"
        },
        {
         "hovertemplate": "<b>%{hovertext}</b><br><br>Species=Guazuma ulmifolia Lam.<br>VOL_COM=%{x}<br>CARB_INDIV=%{y}<br>Sum_ID_INDV_MU=%{marker.size}<extra></extra>",
         "hovertext": [
          "Guazuma ulmifolia Lam."
         ],
         "legendgroup": "Guazuma ulmifolia Lam.",
         "marker": {
          "color": "#636efa",
          "size": [
           263
          ],
          "sizemode": "area",
          "sizeref": 2.712396694214876,
          "symbol": "circle"
         },
         "mode": "markers",
         "name": "Guazuma ulmifolia Lam.",
         "orientation": "v",
         "showlegend": true,
         "type": "scatter",
         "x": [
          1.18796536
         ],
         "xaxis": "x",
         "y": [
          3.545134601
         ],
         "yaxis": "y"
        },
        {
         "hovertemplate": "<b>%{hovertext}</b><br><br>Species=Handroanthus chrysanthus (Jacq.) S.O.Grose<br>VOL_COM=%{x}<br>CARB_INDIV=%{y}<br>Sum_ID_INDV_MU=%{marker.size}<extra></extra>",
         "hovertext": [
          "Handroanthus chrysanthus (Jacq.) S.O.Grose"
         ],
         "legendgroup": "Handroanthus chrysanthus (Jacq.) S.O.Grose",
         "marker": {
          "color": "#EF553B",
          "size": [
           101
          ],
          "sizemode": "area",
          "sizeref": 2.712396694214876,
          "symbol": "circle"
         },
         "mode": "markers",
         "name": "Handroanthus chrysanthus (Jacq.) S.O.Grose",
         "orientation": "v",
         "showlegend": true,
         "type": "scatter",
         "x": [
          0.600945246
         ],
         "xaxis": "x",
         "y": [
          10.73888413
         ],
         "yaxis": "y"
        },
        {
         "hovertemplate": "<b>%{hovertext}</b><br><br>Species=Handroanthus guayacan (Seem.) S.O.Grose<br>VOL_COM=%{x}<br>CARB_INDIV=%{y}<br>Sum_ID_INDV_MU=%{marker.size}<extra></extra>",
         "hovertext": [
          "Handroanthus guayacan (Seem.) S.O.Grose"
         ],
         "legendgroup": "Handroanthus guayacan (Seem.) S.O.Grose",
         "marker": {
          "color": "#00cc96",
          "size": [
           25
          ],
          "sizemode": "area",
          "sizeref": 2.712396694214876,
          "symbol": "circle"
         },
         "mode": "markers",
         "name": "Handroanthus guayacan (Seem.) S.O.Grose",
         "orientation": "v",
         "showlegend": true,
         "type": "scatter",
         "x": [
          0.143196195
         ],
         "xaxis": "x",
         "y": [
          5.36573267
         ],
         "yaxis": "y"
        },
        {
         "hovertemplate": "<b>%{hovertext}</b><br><br>Species=Hieronyma alchorneoides Allemão<br>VOL_COM=%{x}<br>CARB_INDIV=%{y}<br>Sum_ID_INDV_MU=%{marker.size}<extra></extra>",
         "hovertext": [
          "Hieronyma alchorneoides Allemão"
         ],
         "legendgroup": "Hieronyma alchorneoides Allemão",
         "marker": {
          "color": "#ab63fa",
          "size": [
           70
          ],
          "sizemode": "area",
          "sizeref": 2.712396694214876,
          "symbol": "circle"
         },
         "mode": "markers",
         "name": "Hieronyma alchorneoides Allemão",
         "orientation": "v",
         "showlegend": true,
         "type": "scatter",
         "x": [
          0.668952353
         ],
         "xaxis": "x",
         "y": [
          8.979840755
         ],
         "yaxis": "y"
        },
        {
         "hovertemplate": "<b>%{hovertext}</b><br><br>Species=Himatanthus sucuuba (Müll.Arg.) Woodson<br>VOL_COM=%{x}<br>CARB_INDIV=%{y}<br>Sum_ID_INDV_MU=%{marker.size}<extra></extra>",
         "hovertext": [
          "Himatanthus sucuuba (Müll.Arg.) Woodson"
         ],
         "legendgroup": "Himatanthus sucuuba (Müll.Arg.) Woodson",
         "marker": {
          "color": "#FFA15A",
          "size": [
           47
          ],
          "sizemode": "area",
          "sizeref": 2.712396694214876,
          "symbol": "circle"
         },
         "mode": "markers",
         "name": "Himatanthus sucuuba (Müll.Arg.) Woodson",
         "orientation": "v",
         "showlegend": true,
         "type": "scatter",
         "x": [
          0.367530949
         ],
         "xaxis": "x",
         "y": [
          4.074498177
         ],
         "yaxis": "y"
        },
        {
         "hovertemplate": "<b>%{hovertext}</b><br><br>Species=Hirtella racemosa Lam.<br>VOL_COM=%{x}<br>CARB_INDIV=%{y}<br>Sum_ID_INDV_MU=%{marker.size}<extra></extra>",
         "hovertext": [
          "Hirtella racemosa Lam."
         ],
         "legendgroup": "Hirtella racemosa Lam.",
         "marker": {
          "color": "#19d3f3",
          "size": [
           7
          ],
          "sizemode": "area",
          "sizeref": 2.712396694214876,
          "symbol": "circle"
         },
         "mode": "markers",
         "name": "Hirtella racemosa Lam.",
         "orientation": "v",
         "showlegend": true,
         "type": "scatter",
         "x": [
          0.061007272
         ],
         "xaxis": "x",
         "y": [
          5.39819622
         ],
         "yaxis": "y"
        },
        {
         "hovertemplate": "<b>%{hovertext}</b><br><br>Species=Homalolepis cedron (Planch.) Devecchi & Pirani<br>VOL_COM=%{x}<br>CARB_INDIV=%{y}<br>Sum_ID_INDV_MU=%{marker.size}<extra></extra>",
         "hovertext": [
          "Homalolepis cedron (Planch.) Devecchi & Pirani"
         ],
         "legendgroup": "Homalolepis cedron (Planch.) Devecchi & Pirani",
         "marker": {
          "color": "#FF6692",
          "size": [
           32
          ],
          "sizemode": "area",
          "sizeref": 2.712396694214876,
          "symbol": "circle"
         },
         "mode": "markers",
         "name": "Homalolepis cedron (Planch.) Devecchi & Pirani",
         "orientation": "v",
         "showlegend": true,
         "type": "scatter",
         "x": [
          0.190166168
         ],
         "xaxis": "x",
         "y": [
          5.667733431
         ],
         "yaxis": "y"
        },
        {
         "hovertemplate": "<b>%{hovertext}</b><br><br>Species=Humiriastrum colombianum (Cuatrec.) Cuatrec.<br>VOL_COM=%{x}<br>CARB_INDIV=%{y}<br>Sum_ID_INDV_MU=%{marker.size}<extra></extra>",
         "hovertext": [
          "Humiriastrum colombianum (Cuatrec.) Cuatrec."
         ],
         "legendgroup": "Humiriastrum colombianum (Cuatrec.) Cuatrec.",
         "marker": {
          "color": "#B6E880",
          "size": [
           3
          ],
          "sizemode": "area",
          "sizeref": 2.712396694214876,
          "symbol": "circle"
         },
         "mode": "markers",
         "name": "Humiriastrum colombianum (Cuatrec.) Cuatrec.",
         "orientation": "v",
         "showlegend": true,
         "type": "scatter",
         "x": [
          0.128506988
         ],
         "xaxis": "x",
         "y": [
          6.495977879
         ],
         "yaxis": "y"
        },
        {
         "hovertemplate": "<b>%{hovertext}</b><br><br>Species=Hura crepitans L.<br>VOL_COM=%{x}<br>CARB_INDIV=%{y}<br>Sum_ID_INDV_MU=%{marker.size}<extra></extra>",
         "hovertext": [
          "Hura crepitans L."
         ],
         "legendgroup": "Hura crepitans L.",
         "marker": {
          "color": "#FF97FF",
          "size": [
           43
          ],
          "sizemode": "area",
          "sizeref": 2.712396694214876,
          "symbol": "circle"
         },
         "mode": "markers",
         "name": "Hura crepitans L.",
         "orientation": "v",
         "showlegend": true,
         "type": "scatter",
         "x": [
          1.445424497
         ],
         "xaxis": "x",
         "y": [
          6.516152382
         ],
         "yaxis": "y"
        },
        {
         "hovertemplate": "<b>%{hovertext}</b><br><br>Species=Hymenaea courbaril L.<br>VOL_COM=%{x}<br>CARB_INDIV=%{y}<br>Sum_ID_INDV_MU=%{marker.size}<extra></extra>",
         "hovertext": [
          "Hymenaea courbaril L."
         ],
         "legendgroup": "Hymenaea courbaril L.",
         "marker": {
          "color": "#FECB52",
          "size": [
           69
          ],
          "sizemode": "area",
          "sizeref": 2.712396694214876,
          "symbol": "circle"
         },
         "mode": "markers",
         "name": "Hymenaea courbaril L.",
         "orientation": "v",
         "showlegend": true,
         "type": "scatter",
         "x": [
          1.010079131
         ],
         "xaxis": "x",
         "y": [
          12.86113405
         ],
         "yaxis": "y"
        },
        {
         "hovertemplate": "<b>%{hovertext}</b><br><br>Species=Hymenaea oblongifolia Huber.<br>VOL_COM=%{x}<br>CARB_INDIV=%{y}<br>Sum_ID_INDV_MU=%{marker.size}<extra></extra>",
         "hovertext": [
          "Hymenaea oblongifolia Huber."
         ],
         "legendgroup": "Hymenaea oblongifolia Huber.",
         "marker": {
          "color": "#636efa",
          "size": [
           147
          ],
          "sizemode": "area",
          "sizeref": 2.712396694214876,
          "symbol": "circle"
         },
         "mode": "markers",
         "name": "Hymenaea oblongifolia Huber.",
         "orientation": "v",
         "showlegend": true,
         "type": "scatter",
         "x": [
          2.137343228
         ],
         "xaxis": "x",
         "y": [
          15.84692955
         ],
         "yaxis": "y"
        },
        {
         "hovertemplate": "<b>%{hovertext}</b><br><br>Species=Ilex guayusa Loes.<br>VOL_COM=%{x}<br>CARB_INDIV=%{y}<br>Sum_ID_INDV_MU=%{marker.size}<extra></extra>",
         "hovertext": [
          "Ilex guayusa Loes."
         ],
         "legendgroup": "Ilex guayusa Loes.",
         "marker": {
          "color": "#EF553B",
          "size": [
           8
          ],
          "sizemode": "area",
          "sizeref": 2.712396694214876,
          "symbol": "circle"
         },
         "mode": "markers",
         "name": "Ilex guayusa Loes.",
         "orientation": "v",
         "showlegend": true,
         "type": "scatter",
         "x": [
          0.308779687
         ],
         "xaxis": "x",
         "y": [
          4.437829018
         ],
         "yaxis": "y"
        },
        {
         "hovertemplate": "<b>%{hovertext}</b><br><br>Species=Inga acreana Harms<br>VOL_COM=%{x}<br>CARB_INDIV=%{y}<br>Sum_ID_INDV_MU=%{marker.size}<extra></extra>",
         "hovertext": [
          "Inga acreana Harms"
         ],
         "legendgroup": "Inga acreana Harms",
         "marker": {
          "color": "#00cc96",
          "size": [
           17
          ],
          "sizemode": "area",
          "sizeref": 2.712396694214876,
          "symbol": "circle"
         },
         "mode": "markers",
         "name": "Inga acreana Harms",
         "orientation": "v",
         "showlegend": true,
         "type": "scatter",
         "x": [
          0.33265451
         ],
         "xaxis": "x",
         "y": [
          4.712324739
         ],
         "yaxis": "y"
        },
        {
         "hovertemplate": "<b>%{hovertext}</b><br><br>Species=Inga alba (Sw.) Willd.<br>VOL_COM=%{x}<br>CARB_INDIV=%{y}<br>Sum_ID_INDV_MU=%{marker.size}<extra></extra>",
         "hovertext": [
          "Inga alba (Sw.) Willd."
         ],
         "legendgroup": "Inga alba (Sw.) Willd.",
         "marker": {
          "color": "#ab63fa",
          "size": [
           58
          ],
          "sizemode": "area",
          "sizeref": 2.712396694214876,
          "symbol": "circle"
         },
         "mode": "markers",
         "name": "Inga alba (Sw.) Willd.",
         "orientation": "v",
         "showlegend": true,
         "type": "scatter",
         "x": [
          0.271519125
         ],
         "xaxis": "x",
         "y": [
          4.028072993
         ],
         "yaxis": "y"
        },
        {
         "hovertemplate": "<b>%{hovertext}</b><br><br>Species=Inga cf., alba (Sw.) Willd.<br>VOL_COM=%{x}<br>CARB_INDIV=%{y}<br>Sum_ID_INDV_MU=%{marker.size}<extra></extra>",
         "hovertext": [
          "Inga cf., alba (Sw.) Willd."
         ],
         "legendgroup": "Inga cf., alba (Sw.) Willd.",
         "marker": {
          "color": "#FFA15A",
          "size": [
           2371
          ],
          "sizemode": "area",
          "sizeref": 2.712396694214876,
          "symbol": "circle"
         },
         "mode": "markers",
         "name": "Inga cf., alba (Sw.) Willd.",
         "orientation": "v",
         "showlegend": true,
         "type": "scatter",
         "x": [
          12.45340391
         ],
         "xaxis": "x",
         "y": [
          6.174689643
         ],
         "yaxis": "y"
        },
        {
         "hovertemplate": "<b>%{hovertext}</b><br><br>Species=Inga heterophylla Willd.<br>VOL_COM=%{x}<br>CARB_INDIV=%{y}<br>Sum_ID_INDV_MU=%{marker.size}<extra></extra>",
         "hovertext": [
          "Inga heterophylla Willd."
         ],
         "legendgroup": "Inga heterophylla Willd.",
         "marker": {
          "color": "#19d3f3",
          "size": [
           35
          ],
          "sizemode": "area",
          "sizeref": 2.712396694214876,
          "symbol": "circle"
         },
         "mode": "markers",
         "name": "Inga heterophylla Willd.",
         "orientation": "v",
         "showlegend": true,
         "type": "scatter",
         "x": [
          0.81923994
         ],
         "xaxis": "x",
         "y": [
          6.417649309
         ],
         "yaxis": "y"
        },
        {
         "hovertemplate": "<b>%{hovertext}</b><br><br>Species=Inga japurensis TD Penn.<br>VOL_COM=%{x}<br>CARB_INDIV=%{y}<br>Sum_ID_INDV_MU=%{marker.size}<extra></extra>",
         "hovertext": [
          "Inga japurensis TD Penn."
         ],
         "legendgroup": "Inga japurensis TD Penn.",
         "marker": {
          "color": "#FF6692",
          "size": [
           478
          ],
          "sizemode": "area",
          "sizeref": 2.712396694214876,
          "symbol": "circle"
         },
         "mode": "markers",
         "name": "Inga japurensis TD Penn.",
         "orientation": "v",
         "showlegend": true,
         "type": "scatter",
         "x": [
          0.794383527
         ],
         "xaxis": "x",
         "y": [
          5.643832735
         ],
         "yaxis": "y"
        },
        {
         "hovertemplate": "<b>%{hovertext}</b><br><br>Species=Inga laurina (Sw.) Willd.<br>VOL_COM=%{x}<br>CARB_INDIV=%{y}<br>Sum_ID_INDV_MU=%{marker.size}<extra></extra>",
         "hovertext": [
          "Inga laurina (Sw.) Willd."
         ],
         "legendgroup": "Inga laurina (Sw.) Willd.",
         "marker": {
          "color": "#B6E880",
          "size": [
           23
          ],
          "sizemode": "area",
          "sizeref": 2.712396694214876,
          "symbol": "circle"
         },
         "mode": "markers",
         "name": "Inga laurina (Sw.) Willd.",
         "orientation": "v",
         "showlegend": true,
         "type": "scatter",
         "x": [
          0.011280106
         ],
         "xaxis": "x",
         "y": [
          8.357428551
         ],
         "yaxis": "y"
        },
        {
         "hovertemplate": "<b>%{hovertext}</b><br><br>Species=Inga sp.<br>VOL_COM=%{x}<br>CARB_INDIV=%{y}<br>Sum_ID_INDV_MU=%{marker.size}<extra></extra>",
         "hovertext": [
          "Inga sp."
         ],
         "legendgroup": "Inga sp.",
         "marker": {
          "color": "#FF97FF",
          "size": [
           79
          ],
          "sizemode": "area",
          "sizeref": 2.712396694214876,
          "symbol": "circle"
         },
         "mode": "markers",
         "name": "Inga sp.",
         "orientation": "v",
         "showlegend": true,
         "type": "scatter",
         "x": [
          0.27920964
         ],
         "xaxis": "x",
         "y": [
          5.752972603
         ],
         "yaxis": "y"
        },
        {
         "hovertemplate": "<b>%{hovertext}</b><br><br>Species=Inga spectabilis (Vahl) Willd.<br>VOL_COM=%{x}<br>CARB_INDIV=%{y}<br>Sum_ID_INDV_MU=%{marker.size}<extra></extra>",
         "hovertext": [
          "Inga spectabilis (Vahl) Willd."
         ],
         "legendgroup": "Inga spectabilis (Vahl) Willd.",
         "marker": {
          "color": "#FECB52",
          "size": [
           129
          ],
          "sizemode": "area",
          "sizeref": 2.712396694214876,
          "symbol": "circle"
         },
         "mode": "markers",
         "name": "Inga spectabilis (Vahl) Willd.",
         "orientation": "v",
         "showlegend": true,
         "type": "scatter",
         "x": [
          0.66610707
         ],
         "xaxis": "x",
         "y": [
          5.978597085
         ],
         "yaxis": "y"
        },
        {
         "hovertemplate": "<b>%{hovertext}</b><br><br>Species=Inga vera Willd<br>VOL_COM=%{x}<br>CARB_INDIV=%{y}<br>Sum_ID_INDV_MU=%{marker.size}<extra></extra>",
         "hovertext": [
          "Inga vera Willd"
         ],
         "legendgroup": "Inga vera Willd",
         "marker": {
          "color": "#636efa",
          "size": [
           41
          ],
          "sizemode": "area",
          "sizeref": 2.712396694214876,
          "symbol": "circle"
         },
         "mode": "markers",
         "name": "Inga vera Willd",
         "orientation": "v",
         "showlegend": true,
         "type": "scatter",
         "x": [
          0.095794756
         ],
         "xaxis": "x",
         "y": [
          4.13531363
         ],
         "yaxis": "y"
        },
        {
         "hovertemplate": "<b>%{hovertext}</b><br><br>Species=Inga cylindrica (Vell.) Mart.<br>VOL_COM=%{x}<br>CARB_INDIV=%{y}<br>Sum_ID_INDV_MU=%{marker.size}<extra></extra>",
         "hovertext": [
          "Inga cylindrica (Vell.) Mart."
         ],
         "legendgroup": "Inga cylindrica (Vell.) Mart.",
         "marker": {
          "color": "#EF553B",
          "size": [
           48
          ],
          "sizemode": "area",
          "sizeref": 2.712396694214876,
          "symbol": "circle"
         },
         "mode": "markers",
         "name": "Inga cylindrica (Vell.) Mart.",
         "orientation": "v",
         "showlegend": true,
         "type": "scatter",
         "x": [
          0.032760188
         ],
         "xaxis": "x",
         "y": [
          2.486194134
         ],
         "yaxis": "y"
        },
        {
         "hovertemplate": "<b>%{hovertext}</b><br><br>Species=Inga semialata (Vell.) C.Mart.<br>VOL_COM=%{x}<br>CARB_INDIV=%{y}<br>Sum_ID_INDV_MU=%{marker.size}<extra></extra>",
         "hovertext": [
          "Inga semialata (Vell.) C.Mart."
         ],
         "legendgroup": "Inga semialata (Vell.) C.Mart.",
         "marker": {
          "color": "#00cc96",
          "size": [
           1606
          ],
          "sizemode": "area",
          "sizeref": 2.712396694214876,
          "symbol": "circle"
         },
         "mode": "markers",
         "name": "Inga semialata (Vell.) C.Mart.",
         "orientation": "v",
         "showlegend": true,
         "type": "scatter",
         "x": [
          4.647507977
         ],
         "xaxis": "x",
         "y": [
          7.464103319
         ],
         "yaxis": "y"
        },
        {
         "hovertemplate": "<b>%{hovertext}</b><br><br>Species=Iryanthera ulei Warb.<br>VOL_COM=%{x}<br>CARB_INDIV=%{y}<br>Sum_ID_INDV_MU=%{marker.size}<extra></extra>",
         "hovertext": [
          "Iryanthera ulei Warb."
         ],
         "legendgroup": "Iryanthera ulei Warb.",
         "marker": {
          "color": "#ab63fa",
          "size": [
           131
          ],
          "sizemode": "area",
          "sizeref": 2.712396694214876,
          "symbol": "circle"
         },
         "mode": "markers",
         "name": "Iryanthera ulei Warb.",
         "orientation": "v",
         "showlegend": true,
         "type": "scatter",
         "x": [
          0.356424243
         ],
         "xaxis": "x",
         "y": [
          3.810389791
         ],
         "yaxis": "y"
        },
        {
         "hovertemplate": "<b>%{hovertext}</b><br><br>Species=Jacaranda caucana Pittier<br>VOL_COM=%{x}<br>CARB_INDIV=%{y}<br>Sum_ID_INDV_MU=%{marker.size}<extra></extra>",
         "hovertext": [
          "Jacaranda caucana Pittier"
         ],
         "legendgroup": "Jacaranda caucana Pittier",
         "marker": {
          "color": "#FFA15A",
          "size": [
           998
          ],
          "sizemode": "area",
          "sizeref": 2.712396694214876,
          "symbol": "circle"
         },
         "mode": "markers",
         "name": "Jacaranda caucana Pittier",
         "orientation": "v",
         "showlegend": true,
         "type": "scatter",
         "x": [
          4.688689698
         ],
         "xaxis": "x",
         "y": [
          3.407755613
         ],
         "yaxis": "y"
        },
        {
         "hovertemplate": "<b>%{hovertext}</b><br><br>Species=Jacaranda copaia (Aubl.) D.Don<br>VOL_COM=%{x}<br>CARB_INDIV=%{y}<br>Sum_ID_INDV_MU=%{marker.size}<extra></extra>",
         "hovertext": [
          "Jacaranda copaia (Aubl.) D.Don"
         ],
         "legendgroup": "Jacaranda copaia (Aubl.) D.Don",
         "marker": {
          "color": "#19d3f3",
          "size": [
           131
          ],
          "sizemode": "area",
          "sizeref": 2.712396694214876,
          "symbol": "circle"
         },
         "mode": "markers",
         "name": "Jacaranda copaia (Aubl.) D.Don",
         "orientation": "v",
         "showlegend": true,
         "type": "scatter",
         "x": [
          3.860693067
         ],
         "xaxis": "x",
         "y": [
          4.628092319
         ],
         "yaxis": "y"
        },
        {
         "hovertemplate": "<b>%{hovertext}</b><br><br>Species=Jatropha urens L.<br>VOL_COM=%{x}<br>CARB_INDIV=%{y}<br>Sum_ID_INDV_MU=%{marker.size}<extra></extra>",
         "hovertext": [
          "Jatropha urens L."
         ],
         "legendgroup": "Jatropha urens L.",
         "marker": {
          "color": "#FF6692",
          "size": [
           4
          ],
          "sizemode": "area",
          "sizeref": 2.712396694214876,
          "symbol": "circle"
         },
         "mode": "markers",
         "name": "Jatropha urens L.",
         "orientation": "v",
         "showlegend": true,
         "type": "scatter",
         "x": [
          0.017326912
         ],
         "xaxis": "x",
         "y": [
          0.656051576
         ],
         "yaxis": "y"
        },
        {
         "hovertemplate": "<b>%{hovertext}</b><br><br>Species=Lacmellea edulis H. Karst.<br>VOL_COM=%{x}<br>CARB_INDIV=%{y}<br>Sum_ID_INDV_MU=%{marker.size}<extra></extra>",
         "hovertext": [
          "Lacmellea edulis H. Karst."
         ],
         "legendgroup": "Lacmellea edulis H. Karst.",
         "marker": {
          "color": "#B6E880",
          "size": [
           476
          ],
          "sizemode": "area",
          "sizeref": 2.712396694214876,
          "symbol": "circle"
         },
         "mode": "markers",
         "name": "Lacmellea edulis H. Karst.",
         "orientation": "v",
         "showlegend": true,
         "type": "scatter",
         "x": [
          2.383285521
         ],
         "xaxis": "x",
         "y": [
          4.753421138
         ],
         "yaxis": "y"
        },
        {
         "hovertemplate": "<b>%{hovertext}</b><br><br>Species=Ladenbergia oblongifolia (Humb. ex Mutis) L.Ander*<br>VOL_COM=%{x}<br>CARB_INDIV=%{y}<br>Sum_ID_INDV_MU=%{marker.size}<extra></extra>",
         "hovertext": [
          "Ladenbergia oblongifolia (Humb. ex Mutis) L.Ander*"
         ],
         "legendgroup": "Ladenbergia oblongifolia (Humb. ex Mutis) L.Ander*",
         "marker": {
          "color": "#FF97FF",
          "size": [
           14
          ],
          "sizemode": "area",
          "sizeref": 2.712396694214876,
          "symbol": "circle"
         },
         "mode": "markers",
         "name": "Ladenbergia oblongifolia (Humb. ex Mutis) L.Ander*",
         "orientation": "v",
         "showlegend": true,
         "type": "scatter",
         "x": [
          0.225816429
         ],
         "xaxis": "x",
         "y": [
          8.985099792
         ],
         "yaxis": "y"
        },
        {
         "hovertemplate": "<b>%{hovertext}</b><br><br>Species=Lecythis mesophylla S.A. Mori<br>VOL_COM=%{x}<br>CARB_INDIV=%{y}<br>Sum_ID_INDV_MU=%{marker.size}<extra></extra>",
         "hovertext": [
          "Lecythis mesophylla S.A. Mori"
         ],
         "legendgroup": "Lecythis mesophylla S.A. Mori",
         "marker": {
          "color": "#FECB52",
          "size": [
           76
          ],
          "sizemode": "area",
          "sizeref": 2.712396694214876,
          "symbol": "circle"
         },
         "mode": "markers",
         "name": "Lecythis mesophylla S.A. Mori",
         "orientation": "v",
         "showlegend": true,
         "type": "scatter",
         "x": [
          0.476443354
         ],
         "xaxis": "x",
         "y": [
          10.49693894
         ],
         "yaxis": "y"
        },
        {
         "hovertemplate": "<b>%{hovertext}</b><br><br>Species=Lecythis tuyrana Pittier<br>VOL_COM=%{x}<br>CARB_INDIV=%{y}<br>Sum_ID_INDV_MU=%{marker.size}<extra></extra>",
         "hovertext": [
          "Lecythis tuyrana Pittier"
         ],
         "legendgroup": "Lecythis tuyrana Pittier",
         "marker": {
          "color": "#636efa",
          "size": [
           11
          ],
          "sizemode": "area",
          "sizeref": 2.712396694214876,
          "symbol": "circle"
         },
         "mode": "markers",
         "name": "Lecythis tuyrana Pittier",
         "orientation": "v",
         "showlegend": true,
         "type": "scatter",
         "x": [
          0.410707295
         ],
         "xaxis": "x",
         "y": [
          7.807797909
         ],
         "yaxis": "y"
        },
        {
         "hovertemplate": "<b>%{hovertext}</b><br><br>Species=Lecythis minor Jacq.<br>VOL_COM=%{x}<br>CARB_INDIV=%{y}<br>Sum_ID_INDV_MU=%{marker.size}<extra></extra>",
         "hovertext": [
          "Lecythis minor Jacq."
         ],
         "legendgroup": "Lecythis minor Jacq.",
         "marker": {
          "color": "#EF553B",
          "size": [
           411
          ],
          "sizemode": "area",
          "sizeref": 2.712396694214876,
          "symbol": "circle"
         },
         "mode": "markers",
         "name": "Lecythis minor Jacq.",
         "orientation": "v",
         "showlegend": true,
         "type": "scatter",
         "x": [
          3.611006564
         ],
         "xaxis": "x",
         "y": [
          8.573413283
         ],
         "yaxis": "y"
        },
        {
         "hovertemplate": "<b>%{hovertext}</b><br><br>Species=Leonia triandra Cuatrec. ex L.B. Sm. & A. Fernánde<br>VOL_COM=%{x}<br>CARB_INDIV=%{y}<br>Sum_ID_INDV_MU=%{marker.size}<extra></extra>",
         "hovertext": [
          "Leonia triandra Cuatrec. ex L.B. Sm. & A. Fernánde"
         ],
         "legendgroup": "Leonia triandra Cuatrec. ex L.B. Sm. & A. Fernánde",
         "marker": {
          "color": "#00cc96",
          "size": [
           214
          ],
          "sizemode": "area",
          "sizeref": 2.712396694214876,
          "symbol": "circle"
         },
         "mode": "markers",
         "name": "Leonia triandra Cuatrec. ex L.B. Sm. & A. Fernánde",
         "orientation": "v",
         "showlegend": true,
         "type": "scatter",
         "x": [
          0.231428121
         ],
         "xaxis": "x",
         "y": [
          4.867640802
         ],
         "yaxis": "y"
        },
        {
         "hovertemplate": "<b>%{hovertext}</b><br><br>Species=Licania cf., hypoleuca Benth.<br>VOL_COM=%{x}<br>CARB_INDIV=%{y}<br>Sum_ID_INDV_MU=%{marker.size}<extra></extra>",
         "hovertext": [
          "Licania cf., hypoleuca Benth."
         ],
         "legendgroup": "Licania cf., hypoleuca Benth.",
         "marker": {
          "color": "#ab63fa",
          "size": [
           108
          ],
          "sizemode": "area",
          "sizeref": 2.712396694214876,
          "symbol": "circle"
         },
         "mode": "markers",
         "name": "Licania cf., hypoleuca Benth.",
         "orientation": "v",
         "showlegend": true,
         "type": "scatter",
         "x": [
          0.156196973
         ],
         "xaxis": "x",
         "y": [
          7.689226945
         ],
         "yaxis": "y"
        },
        {
         "hovertemplate": "<b>%{hovertext}</b><br><br>Species=Licania hypoleuca Benth.<br>VOL_COM=%{x}<br>CARB_INDIV=%{y}<br>Sum_ID_INDV_MU=%{marker.size}<extra></extra>",
         "hovertext": [
          "Licania hypoleuca Benth."
         ],
         "legendgroup": "Licania hypoleuca Benth.",
         "marker": {
          "color": "#FFA15A",
          "size": [
           17
          ],
          "sizemode": "area",
          "sizeref": 2.712396694214876,
          "symbol": "circle"
         },
         "mode": "markers",
         "name": "Licania hypoleuca Benth.",
         "orientation": "v",
         "showlegend": true,
         "type": "scatter",
         "x": [
          0.703867085
         ],
         "xaxis": "x",
         "y": [
          12.92735767
         ],
         "yaxis": "y"
        },
        {
         "hovertemplate": "<b>%{hovertext}</b><br><br>Species=Luehea seemannii Triana & Planch<br>VOL_COM=%{x}<br>CARB_INDIV=%{y}<br>Sum_ID_INDV_MU=%{marker.size}<extra></extra>",
         "hovertext": [
          "Luehea seemannii Triana & Planch"
         ],
         "legendgroup": "Luehea seemannii Triana & Planch",
         "marker": {
          "color": "#19d3f3",
          "size": [
           138
          ],
          "sizemode": "area",
          "sizeref": 2.712396694214876,
          "symbol": "circle"
         },
         "mode": "markers",
         "name": "Luehea seemannii Triana & Planch",
         "orientation": "v",
         "showlegend": true,
         "type": "scatter",
         "x": [
          9.285382448
         ],
         "xaxis": "x",
         "y": [
          6.478641987
         ],
         "yaxis": "y"
        },
        {
         "hovertemplate": "<b>%{hovertext}</b><br><br>Species=Mabea montana Müll.Arg.<br>VOL_COM=%{x}<br>CARB_INDIV=%{y}<br>Sum_ID_INDV_MU=%{marker.size}<extra></extra>",
         "hovertext": [
          "Mabea montana Müll.Arg."
         ],
         "legendgroup": "Mabea montana Müll.Arg.",
         "marker": {
          "color": "#FF6692",
          "size": [
           221
          ],
          "sizemode": "area",
          "sizeref": 2.712396694214876,
          "symbol": "circle"
         },
         "mode": "markers",
         "name": "Mabea montana Müll.Arg.",
         "orientation": "v",
         "showlegend": true,
         "type": "scatter",
         "x": [
          0.590903601
         ],
         "xaxis": "x",
         "y": [
          5.672476411
         ],
         "yaxis": "y"
        },
        {
         "hovertemplate": "<b>%{hovertext}</b><br><br>Species=Mabea trianae Pax.<br>VOL_COM=%{x}<br>CARB_INDIV=%{y}<br>Sum_ID_INDV_MU=%{marker.size}<extra></extra>",
         "hovertext": [
          "Mabea trianae Pax."
         ],
         "legendgroup": "Mabea trianae Pax.",
         "marker": {
          "color": "#B6E880",
          "size": [
           102
          ],
          "sizemode": "area",
          "sizeref": 2.712396694214876,
          "symbol": "circle"
         },
         "mode": "markers",
         "name": "Mabea trianae Pax.",
         "orientation": "v",
         "showlegend": true,
         "type": "scatter",
         "x": [
          0.45826323
         ],
         "xaxis": "x",
         "y": [
          7.142154813
         ],
         "yaxis": "y"
        },
        {
         "hovertemplate": "<b>%{hovertext}</b><br><br>Species=Machaerium capote Triana ex Dugand<br>VOL_COM=%{x}<br>CARB_INDIV=%{y}<br>Sum_ID_INDV_MU=%{marker.size}<extra></extra>",
         "hovertext": [
          "Machaerium capote Triana ex Dugand"
         ],
         "legendgroup": "Machaerium capote Triana ex Dugand",
         "marker": {
          "color": "#FF97FF",
          "size": [
           112
          ],
          "sizemode": "area",
          "sizeref": 2.712396694214876,
          "symbol": "circle"
         },
         "mode": "markers",
         "name": "Machaerium capote Triana ex Dugand",
         "orientation": "v",
         "showlegend": true,
         "type": "scatter",
         "x": [
          1.296691236
         ],
         "xaxis": "x",
         "y": [
          7.598480781
         ],
         "yaxis": "y"
        },
        {
         "hovertemplate": "<b>%{hovertext}</b><br><br>Species=Maclura tinctoria (L.) D.Don ex Steud<br>VOL_COM=%{x}<br>CARB_INDIV=%{y}<br>Sum_ID_INDV_MU=%{marker.size}<extra></extra>",
         "hovertext": [
          "Maclura tinctoria (L.) D.Don ex Steud"
         ],
         "legendgroup": "Maclura tinctoria (L.) D.Don ex Steud",
         "marker": {
          "color": "#FECB52",
          "size": [
           42
          ],
          "sizemode": "area",
          "sizeref": 2.712396694214876,
          "symbol": "circle"
         },
         "mode": "markers",
         "name": "Maclura tinctoria (L.) D.Don ex Steud",
         "orientation": "v",
         "showlegend": true,
         "type": "scatter",
         "x": [
          1.098990193
         ],
         "xaxis": "x",
         "y": [
          7.944988304
         ],
         "yaxis": "y"
        },
        {
         "hovertemplate": "<b>%{hovertext}</b><br><br>Species=Manilkara bidentata (A.DC.) A.Chev.<br>VOL_COM=%{x}<br>CARB_INDIV=%{y}<br>Sum_ID_INDV_MU=%{marker.size}<extra></extra>",
         "hovertext": [
          "Manilkara bidentata (A.DC.) A.Chev."
         ],
         "legendgroup": "Manilkara bidentata (A.DC.) A.Chev.",
         "marker": {
          "color": "#636efa",
          "size": [
           55
          ],
          "sizemode": "area",
          "sizeref": 2.712396694214876,
          "symbol": "circle"
         },
         "mode": "markers",
         "name": "Manilkara bidentata (A.DC.) A.Chev.",
         "orientation": "v",
         "showlegend": true,
         "type": "scatter",
         "x": [
          0.794270478
         ],
         "xaxis": "x",
         "y": [
          10.34017579
         ],
         "yaxis": "y"
        },
        {
         "hovertemplate": "<b>%{hovertext}</b><br><br>Species=Matayba adenanthera Radlk<br>VOL_COM=%{x}<br>CARB_INDIV=%{y}<br>Sum_ID_INDV_MU=%{marker.size}<extra></extra>",
         "hovertext": [
          "Matayba adenanthera Radlk"
         ],
         "legendgroup": "Matayba adenanthera Radlk",
         "marker": {
          "color": "#EF553B",
          "size": [
           342
          ],
          "sizemode": "area",
          "sizeref": 2.712396694214876,
          "symbol": "circle"
         },
         "mode": "markers",
         "name": "Matayba adenanthera Radlk",
         "orientation": "v",
         "showlegend": true,
         "type": "scatter",
         "x": [
          0.777987736
         ],
         "xaxis": "x",
         "y": [
          7.384203566
         ],
         "yaxis": "y"
        },
        {
         "hovertemplate": "<b>%{hovertext}</b><br><br>Species=Matayba guianensis Aubl.<br>VOL_COM=%{x}<br>CARB_INDIV=%{y}<br>Sum_ID_INDV_MU=%{marker.size}<extra></extra>",
         "hovertext": [
          "Matayba guianensis Aubl."
         ],
         "legendgroup": "Matayba guianensis Aubl.",
         "marker": {
          "color": "#00cc96",
          "size": [
           161
          ],
          "sizemode": "area",
          "sizeref": 2.712396694214876,
          "symbol": "circle"
         },
         "mode": "markers",
         "name": "Matayba guianensis Aubl.",
         "orientation": "v",
         "showlegend": true,
         "type": "scatter",
         "x": [
          0.897091463
         ],
         "xaxis": "x",
         "y": [
          7.406294505
         ],
         "yaxis": "y"
        },
        {
         "hovertemplate": "<b>%{hovertext}</b><br><br>Species=Matayba scrobiculata Radlk.<br>VOL_COM=%{x}<br>CARB_INDIV=%{y}<br>Sum_ID_INDV_MU=%{marker.size}<extra></extra>",
         "hovertext": [
          "Matayba scrobiculata Radlk."
         ],
         "legendgroup": "Matayba scrobiculata Radlk.",
         "marker": {
          "color": "#ab63fa",
          "size": [
           766
          ],
          "sizemode": "area",
          "sizeref": 2.712396694214876,
          "symbol": "circle"
         },
         "mode": "markers",
         "name": "Matayba scrobiculata Radlk.",
         "orientation": "v",
         "showlegend": true,
         "type": "scatter",
         "x": [
          4.451122666
         ],
         "xaxis": "x",
         "y": [
          10.3255947
         ],
         "yaxis": "y"
        },
        {
         "hovertemplate": "<b>%{hovertext}</b><br><br>Species=Melicoccus bijugatus Jacq.<br>VOL_COM=%{x}<br>CARB_INDIV=%{y}<br>Sum_ID_INDV_MU=%{marker.size}<extra></extra>",
         "hovertext": [
          "Melicoccus bijugatus Jacq."
         ],
         "legendgroup": "Melicoccus bijugatus Jacq.",
         "marker": {
          "color": "#FFA15A",
          "size": [
           32
          ],
          "sizemode": "area",
          "sizeref": 2.712396694214876,
          "symbol": "circle"
         },
         "mode": "markers",
         "name": "Melicoccus bijugatus Jacq.",
         "orientation": "v",
         "showlegend": true,
         "type": "scatter",
         "x": [
          0.111690104
         ],
         "xaxis": "x",
         "y": [
          11.72747421
         ],
         "yaxis": "y"
        },
        {
         "hovertemplate": "<b>%{hovertext}</b><br><br>Species=Miconia impetiolaris (Sw.) DC.<br>VOL_COM=%{x}<br>CARB_INDIV=%{y}<br>Sum_ID_INDV_MU=%{marker.size}<extra></extra>",
         "hovertext": [
          "Miconia impetiolaris (Sw.) DC."
         ],
         "legendgroup": "Miconia impetiolaris (Sw.) DC.",
         "marker": {
          "color": "#19d3f3",
          "size": [
           36
          ],
          "sizemode": "area",
          "sizeref": 2.712396694214876,
          "symbol": "circle"
         },
         "mode": "markers",
         "name": "Miconia impetiolaris (Sw.) DC.",
         "orientation": "v",
         "showlegend": true,
         "type": "scatter",
         "x": [
          0.17567721
         ],
         "xaxis": "x",
         "y": [
          7.846524715
         ],
         "yaxis": "y"
        },
        {
         "hovertemplate": "<b>%{hovertext}</b><br><br>Species=Miconia micropetala Cogn.<br>VOL_COM=%{x}<br>CARB_INDIV=%{y}<br>Sum_ID_INDV_MU=%{marker.size}<extra></extra>",
         "hovertext": [
          "Miconia micropetala Cogn."
         ],
         "legendgroup": "Miconia micropetala Cogn.",
         "marker": {
          "color": "#FF6692",
          "size": [
           72
          ],
          "sizemode": "area",
          "sizeref": 2.712396694214876,
          "symbol": "circle"
         },
         "mode": "markers",
         "name": "Miconia micropetala Cogn.",
         "orientation": "v",
         "showlegend": true,
         "type": "scatter",
         "x": [
          0.276877619
         ],
         "xaxis": "x",
         "y": [
          6.54930687
         ],
         "yaxis": "y"
        },
        {
         "hovertemplate": "<b>%{hovertext}</b><br><br>Species=Micropholis cf., egensis (A.DC.) Pierre<br>VOL_COM=%{x}<br>CARB_INDIV=%{y}<br>Sum_ID_INDV_MU=%{marker.size}<extra></extra>",
         "hovertext": [
          "Micropholis cf., egensis (A.DC.) Pierre"
         ],
         "legendgroup": "Micropholis cf., egensis (A.DC.) Pierre",
         "marker": {
          "color": "#B6E880",
          "size": [
           35
          ],
          "sizemode": "area",
          "sizeref": 2.712396694214876,
          "symbol": "circle"
         },
         "mode": "markers",
         "name": "Micropholis cf., egensis (A.DC.) Pierre",
         "orientation": "v",
         "showlegend": true,
         "type": "scatter",
         "x": [
          0.060349517
         ],
         "xaxis": "x",
         "y": [
          7.34499836
         ],
         "yaxis": "y"
        },
        {
         "hovertemplate": "<b>%{hovertext}</b><br><br>Species=Micropholis egensis (A.DC.) Pierre<br>VOL_COM=%{x}<br>CARB_INDIV=%{y}<br>Sum_ID_INDV_MU=%{marker.size}<extra></extra>",
         "hovertext": [
          "Micropholis egensis (A.DC.) Pierre"
         ],
         "legendgroup": "Micropholis egensis (A.DC.) Pierre",
         "marker": {
          "color": "#FF97FF",
          "size": [
           27
          ],
          "sizemode": "area",
          "sizeref": 2.712396694214876,
          "symbol": "circle"
         },
         "mode": "markers",
         "name": "Micropholis egensis (A.DC.) Pierre",
         "orientation": "v",
         "showlegend": true,
         "type": "scatter",
         "x": [
          0.079553105
         ],
         "xaxis": "x",
         "y": [
          8.188537598
         ],
         "yaxis": "y"
        },
        {
         "hovertemplate": "<b>%{hovertext}</b><br><br>Species=Myrcia cf., paivae O. Berg.<br>VOL_COM=%{x}<br>CARB_INDIV=%{y}<br>Sum_ID_INDV_MU=%{marker.size}<extra></extra>",
         "hovertext": [
          "Myrcia cf., paivae O. Berg."
         ],
         "legendgroup": "Myrcia cf., paivae O. Berg.",
         "marker": {
          "color": "#FECB52",
          "size": [
           60
          ],
          "sizemode": "area",
          "sizeref": 2.712396694214876,
          "symbol": "circle"
         },
         "mode": "markers",
         "name": "Myrcia cf., paivae O. Berg.",
         "orientation": "v",
         "showlegend": true,
         "type": "scatter",
         "x": [
          0.087055798
         ],
         "xaxis": "x",
         "y": [
          7.116692424
         ],
         "yaxis": "y"
        },
        {
         "hovertemplate": "<b>%{hovertext}</b><br><br>Species=Myrcia fallax (Rich.) DC.<br>VOL_COM=%{x}<br>CARB_INDIV=%{y}<br>Sum_ID_INDV_MU=%{marker.size}<extra></extra>",
         "hovertext": [
          "Myrcia fallax (Rich.) DC."
         ],
         "legendgroup": "Myrcia fallax (Rich.) DC.",
         "marker": {
          "color": "#636efa",
          "size": [
           51
          ],
          "sizemode": "area",
          "sizeref": 2.712396694214876,
          "symbol": "circle"
         },
         "mode": "markers",
         "name": "Myrcia fallax (Rich.) DC.",
         "orientation": "v",
         "showlegend": true,
         "type": "scatter",
         "x": [
          0.12100619
         ],
         "xaxis": "x",
         "y": [
          6.142118613
         ],
         "yaxis": "y"
        },
        {
         "hovertemplate": "<b>%{hovertext}</b><br><br>Species=Myrcia paivae O.Berg<br>VOL_COM=%{x}<br>CARB_INDIV=%{y}<br>Sum_ID_INDV_MU=%{marker.size}<extra></extra>",
         "hovertext": [
          "Myrcia paivae O.Berg"
         ],
         "legendgroup": "Myrcia paivae O.Berg",
         "marker": {
          "color": "#EF553B",
          "size": [
           179
          ],
          "sizemode": "area",
          "sizeref": 2.712396694214876,
          "symbol": "circle"
         },
         "mode": "markers",
         "name": "Myrcia paivae O.Berg",
         "orientation": "v",
         "showlegend": true,
         "type": "scatter",
         "x": [
          0.552607445
         ],
         "xaxis": "x",
         "y": [
          6.07484138
         ],
         "yaxis": "y"
        },
        {
         "hovertemplate": "<b>%{hovertext}</b><br><br>Species=Myrcia splendens (Sw.) DC.<br>VOL_COM=%{x}<br>CARB_INDIV=%{y}<br>Sum_ID_INDV_MU=%{marker.size}<extra></extra>",
         "hovertext": [
          "Myrcia splendens (Sw.) DC."
         ],
         "legendgroup": "Myrcia splendens (Sw.) DC.",
         "marker": {
          "color": "#00cc96",
          "size": [
           164
          ],
          "sizemode": "area",
          "sizeref": 2.712396694214876,
          "symbol": "circle"
         },
         "mode": "markers",
         "name": "Myrcia splendens (Sw.) DC.",
         "orientation": "v",
         "showlegend": true,
         "type": "scatter",
         "x": [
          0.822830085
         ],
         "xaxis": "x",
         "y": [
          9.532468183
         ],
         "yaxis": "y"
        },
        {
         "hovertemplate": "<b>%{hovertext}</b><br><br>Species=Naucleopsis glabra Spruce ex Pittier<br>VOL_COM=%{x}<br>CARB_INDIV=%{y}<br>Sum_ID_INDV_MU=%{marker.size}<extra></extra>",
         "hovertext": [
          "Naucleopsis glabra Spruce ex Pittier"
         ],
         "legendgroup": "Naucleopsis glabra Spruce ex Pittier",
         "marker": {
          "color": "#ab63fa",
          "size": [
           23
          ],
          "sizemode": "area",
          "sizeref": 2.712396694214876,
          "symbol": "circle"
         },
         "mode": "markers",
         "name": "Naucleopsis glabra Spruce ex Pittier",
         "orientation": "v",
         "showlegend": true,
         "type": "scatter",
         "x": [
          0.091343351
         ],
         "xaxis": "x",
         "y": [
          5.895391941
         ],
         "yaxis": "y"
        },
        {
         "hovertemplate": "<b>%{hovertext}</b><br><br>Species=Nectandra cuspidata Nees & Mart.<br>VOL_COM=%{x}<br>CARB_INDIV=%{y}<br>Sum_ID_INDV_MU=%{marker.size}<extra></extra>",
         "hovertext": [
          "Nectandra cuspidata Nees & Mart."
         ],
         "legendgroup": "Nectandra cuspidata Nees & Mart.",
         "marker": {
          "color": "#FFA15A",
          "size": [
           3318
          ],
          "sizemode": "area",
          "sizeref": 2.712396694214876,
          "symbol": "circle"
         },
         "mode": "markers",
         "name": "Nectandra cuspidata Nees & Mart.",
         "orientation": "v",
         "showlegend": true,
         "type": "scatter",
         "x": [
          16.63372415
         ],
         "xaxis": "x",
         "y": [
          7.657020403
         ],
         "yaxis": "y"
        },
        {
         "hovertemplate": "<b>%{hovertext}</b><br><br>Species=Nectandra membranacea (Sw.) Griseb.<br>VOL_COM=%{x}<br>CARB_INDIV=%{y}<br>Sum_ID_INDV_MU=%{marker.size}<extra></extra>",
         "hovertext": [
          "Nectandra membranacea (Sw.) Griseb."
         ],
         "legendgroup": "Nectandra membranacea (Sw.) Griseb.",
         "marker": {
          "color": "#19d3f3",
          "size": [
           912
          ],
          "sizemode": "area",
          "sizeref": 2.712396694214876,
          "symbol": "circle"
         },
         "mode": "markers",
         "name": "Nectandra membranacea (Sw.) Griseb.",
         "orientation": "v",
         "showlegend": true,
         "type": "scatter",
         "x": [
          4.204211719
         ],
         "xaxis": "x",
         "y": [
          8.085161117
         ],
         "yaxis": "y"
        },
        {
         "hovertemplate": "<b>%{hovertext}</b><br><br>Species=NN<br>VOL_COM=%{x}<br>CARB_INDIV=%{y}<br>Sum_ID_INDV_MU=%{marker.size}<extra></extra>",
         "hovertext": [
          "NN"
         ],
         "legendgroup": "NN",
         "marker": {
          "color": "#FF6692",
          "size": [
           59
          ],
          "sizemode": "area",
          "sizeref": 2.712396694214876,
          "symbol": "circle"
         },
         "mode": "markers",
         "name": "NN",
         "orientation": "v",
         "showlegend": true,
         "type": "scatter",
         "x": [
          0.797960147
         ],
         "xaxis": "x",
         "y": [
          0.000005
         ],
         "yaxis": "y"
        },
        {
         "hovertemplate": "<b>%{hovertext}</b><br><br>Species=Ochroma pyramidale (Cav. ex Lam.) Urb.<br>VOL_COM=%{x}<br>CARB_INDIV=%{y}<br>Sum_ID_INDV_MU=%{marker.size}<extra></extra>",
         "hovertext": [
          "Ochroma pyramidale (Cav. ex Lam.) Urb."
         ],
         "legendgroup": "Ochroma pyramidale (Cav. ex Lam.) Urb.",
         "marker": {
          "color": "#B6E880",
          "size": [
           268
          ],
          "sizemode": "area",
          "sizeref": 2.712396694214876,
          "symbol": "circle"
         },
         "mode": "markers",
         "name": "Ochroma pyramidale (Cav. ex Lam.) Urb.",
         "orientation": "v",
         "showlegend": true,
         "type": "scatter",
         "x": [
          2.495378409
         ],
         "xaxis": "x",
         "y": [
          1.344617829
         ],
         "yaxis": "y"
        },
        {
         "hovertemplate": "<b>%{hovertext}</b><br><br>Species=Ocotea bofo Kunth<br>VOL_COM=%{x}<br>CARB_INDIV=%{y}<br>Sum_ID_INDV_MU=%{marker.size}<extra></extra>",
         "hovertext": [
          "Ocotea bofo Kunth"
         ],
         "legendgroup": "Ocotea bofo Kunth",
         "marker": {
          "color": "#FF97FF",
          "size": [
           45
          ],
          "sizemode": "area",
          "sizeref": 2.712396694214876,
          "symbol": "circle"
         },
         "mode": "markers",
         "name": "Ocotea bofo Kunth",
         "orientation": "v",
         "showlegend": true,
         "type": "scatter",
         "x": [
          0.151773244
         ],
         "xaxis": "x",
         "y": [
          7.073034286
         ],
         "yaxis": "y"
        },
        {
         "hovertemplate": "<b>%{hovertext}</b><br><br>Species=Ocotea cf., aciphylla (Nees) Mez<br>VOL_COM=%{x}<br>CARB_INDIV=%{y}<br>Sum_ID_INDV_MU=%{marker.size}<extra></extra>",
         "hovertext": [
          "Ocotea cf., aciphylla (Nees) Mez"
         ],
         "legendgroup": "Ocotea cf., aciphylla (Nees) Mez",
         "marker": {
          "color": "#FECB52",
          "size": [
           215
          ],
          "sizemode": "area",
          "sizeref": 2.712396694214876,
          "symbol": "circle"
         },
         "mode": "markers",
         "name": "Ocotea cf., aciphylla (Nees) Mez",
         "orientation": "v",
         "showlegend": true,
         "type": "scatter",
         "x": [
          1.928023331
         ],
         "xaxis": "x",
         "y": [
          6.634926558
         ],
         "yaxis": "y"
        },
        {
         "hovertemplate": "<b>%{hovertext}</b><br><br>Species=Ocotea cf., oblonga (Meisn.) Mez<br>VOL_COM=%{x}<br>CARB_INDIV=%{y}<br>Sum_ID_INDV_MU=%{marker.size}<extra></extra>",
         "hovertext": [
          "Ocotea cf., oblonga (Meisn.) Mez"
         ],
         "legendgroup": "Ocotea cf., oblonga (Meisn.) Mez",
         "marker": {
          "color": "#636efa",
          "size": [
           67
          ],
          "sizemode": "area",
          "sizeref": 2.712396694214876,
          "symbol": "circle"
         },
         "mode": "markers",
         "name": "Ocotea cf., oblonga (Meisn.) Mez",
         "orientation": "v",
         "showlegend": true,
         "type": "scatter",
         "x": [
          0.901532866
         ],
         "xaxis": "x",
         "y": [
          6.381453832
         ],
         "yaxis": "y"
        },
        {
         "hovertemplate": "<b>%{hovertext}</b><br><br>Species=Ocotea guianensis Aubl.<br>VOL_COM=%{x}<br>CARB_INDIV=%{y}<br>Sum_ID_INDV_MU=%{marker.size}<extra></extra>",
         "hovertext": [
          "Ocotea guianensis Aubl."
         ],
         "legendgroup": "Ocotea guianensis Aubl.",
         "marker": {
          "color": "#EF553B",
          "size": [
           346
          ],
          "sizemode": "area",
          "sizeref": 2.712396694214876,
          "symbol": "circle"
         },
         "mode": "markers",
         "name": "Ocotea guianensis Aubl.",
         "orientation": "v",
         "showlegend": true,
         "type": "scatter",
         "x": [
          1.056481836
         ],
         "xaxis": "x",
         "y": [
          6.433198734
         ],
         "yaxis": "y"
        },
        {
         "hovertemplate": "<b>%{hovertext}</b><br><br>Species=Ocotea longifolia Kunth<br>VOL_COM=%{x}<br>CARB_INDIV=%{y}<br>Sum_ID_INDV_MU=%{marker.size}<extra></extra>",
         "hovertext": [
          "Ocotea longifolia Kunth"
         ],
         "legendgroup": "Ocotea longifolia Kunth",
         "marker": {
          "color": "#00cc96",
          "size": [
           91
          ],
          "sizemode": "area",
          "sizeref": 2.712396694214876,
          "symbol": "circle"
         },
         "mode": "markers",
         "name": "Ocotea longifolia Kunth",
         "orientation": "v",
         "showlegend": true,
         "type": "scatter",
         "x": [
          1.25926584
         ],
         "xaxis": "x",
         "y": [
          8.606274247
         ],
         "yaxis": "y"
        },
        {
         "hovertemplate": "<b>%{hovertext}</b><br><br>Species=Ocotea sp.<br>VOL_COM=%{x}<br>CARB_INDIV=%{y}<br>Sum_ID_INDV_MU=%{marker.size}<extra></extra>",
         "hovertext": [
          "Ocotea sp."
         ],
         "legendgroup": "Ocotea sp.",
         "marker": {
          "color": "#ab63fa",
          "size": [
           123
          ],
          "sizemode": "area",
          "sizeref": 2.712396694214876,
          "symbol": "circle"
         },
         "mode": "markers",
         "name": "Ocotea sp.",
         "orientation": "v",
         "showlegend": true,
         "type": "scatter",
         "x": [
          0.183233216
         ],
         "xaxis": "x",
         "y": [
          3.356226385
         ],
         "yaxis": "y"
        },
        {
         "hovertemplate": "<b>%{hovertext}</b><br><br>Species=Oenocarpus bataua Mart.<br>VOL_COM=%{x}<br>CARB_INDIV=%{y}<br>Sum_ID_INDV_MU=%{marker.size}<extra></extra>",
         "hovertext": [
          "Oenocarpus bataua Mart."
         ],
         "legendgroup": "Oenocarpus bataua Mart.",
         "marker": {
          "color": "#FFA15A",
          "size": [
           197
          ],
          "sizemode": "area",
          "sizeref": 2.712396694214876,
          "symbol": "circle"
         },
         "mode": "markers",
         "name": "Oenocarpus bataua Mart.",
         "orientation": "v",
         "showlegend": true,
         "type": "scatter",
         "x": [
          0.184354745
         ],
         "xaxis": "x",
         "y": [
          5.128236103
         ],
         "yaxis": "y"
        },
        {
         "hovertemplate": "<b>%{hovertext}</b><br><br>Species=Oenocarpus minor Mart.<br>VOL_COM=%{x}<br>CARB_INDIV=%{y}<br>Sum_ID_INDV_MU=%{marker.size}<extra></extra>",
         "hovertext": [
          "Oenocarpus minor Mart."
         ],
         "legendgroup": "Oenocarpus minor Mart.",
         "marker": {
          "color": "#19d3f3",
          "size": [
           33
          ],
          "sizemode": "area",
          "sizeref": 2.712396694214876,
          "symbol": "circle"
         },
         "mode": "markers",
         "name": "Oenocarpus minor Mart.",
         "orientation": "v",
         "showlegend": true,
         "type": "scatter",
         "x": [
          0.00002
         ],
         "xaxis": "x",
         "y": [
          7.849946022
         ],
         "yaxis": "y"
        },
        {
         "hovertemplate": "<b>%{hovertext}</b><br><br>Species=Ormosia cf., colombiana Rudd<br>VOL_COM=%{x}<br>CARB_INDIV=%{y}<br>Sum_ID_INDV_MU=%{marker.size}<extra></extra>",
         "hovertext": [
          "Ormosia cf., colombiana Rudd"
         ],
         "legendgroup": "Ormosia cf., colombiana Rudd",
         "marker": {
          "color": "#FF6692",
          "size": [
           143
          ],
          "sizemode": "area",
          "sizeref": 2.712396694214876,
          "symbol": "circle"
         },
         "mode": "markers",
         "name": "Ormosia cf., colombiana Rudd",
         "orientation": "v",
         "showlegend": true,
         "type": "scatter",
         "x": [
          6.87334609
         ],
         "xaxis": "x",
         "y": [
          14.4027946
         ],
         "yaxis": "y"
        },
        {
         "hovertemplate": "<b>%{hovertext}</b><br><br>Species=Ouratea ferruginea Engl.<br>VOL_COM=%{x}<br>CARB_INDIV=%{y}<br>Sum_ID_INDV_MU=%{marker.size}<extra></extra>",
         "hovertext": [
          "Ouratea ferruginea Engl."
         ],
         "legendgroup": "Ouratea ferruginea Engl.",
         "marker": {
          "color": "#B6E880",
          "size": [
           8
          ],
          "sizemode": "area",
          "sizeref": 2.712396694214876,
          "symbol": "circle"
         },
         "mode": "markers",
         "name": "Ouratea ferruginea Engl.",
         "orientation": "v",
         "showlegend": true,
         "type": "scatter",
         "x": [
          0.022816453
         ],
         "xaxis": "x",
         "y": [
          5.927144527
         ],
         "yaxis": "y"
        },
        {
         "hovertemplate": "<b>%{hovertext}</b><br><br>Species=Pachira quinata (Jacq.) W.S. Alverson<br>VOL_COM=%{x}<br>CARB_INDIV=%{y}<br>Sum_ID_INDV_MU=%{marker.size}<extra></extra>",
         "hovertext": [
          "Pachira quinata (Jacq.) W.S. Alverson"
         ],
         "legendgroup": "Pachira quinata (Jacq.) W.S. Alverson",
         "marker": {
          "color": "#FF97FF",
          "size": [
           13
          ],
          "sizemode": "area",
          "sizeref": 2.712396694214876,
          "symbol": "circle"
         },
         "mode": "markers",
         "name": "Pachira quinata (Jacq.) W.S. Alverson",
         "orientation": "v",
         "showlegend": true,
         "type": "scatter",
         "x": [
          0.554816365
         ],
         "xaxis": "x",
         "y": [
          10.75300503
         ],
         "yaxis": "y"
        },
        {
         "hovertemplate": "<b>%{hovertext}</b><br><br>Species=Palicourea angustifolia Kunth.<br>VOL_COM=%{x}<br>CARB_INDIV=%{y}<br>Sum_ID_INDV_MU=%{marker.size}<extra></extra>",
         "hovertext": [
          "Palicourea angustifolia Kunth."
         ],
         "legendgroup": "Palicourea angustifolia Kunth.",
         "marker": {
          "color": "#FECB52",
          "size": [
           112
          ],
          "sizemode": "area",
          "sizeref": 2.712396694214876,
          "symbol": "circle"
         },
         "mode": "markers",
         "name": "Palicourea angustifolia Kunth.",
         "orientation": "v",
         "showlegend": true,
         "type": "scatter",
         "x": [
          0.744676214
         ],
         "xaxis": "x",
         "y": [
          9.009197617
         ],
         "yaxis": "y"
        },
        {
         "hovertemplate": "<b>%{hovertext}</b><br><br>Species=Peltogyne paniculata Benth.<br>VOL_COM=%{x}<br>CARB_INDIV=%{y}<br>Sum_ID_INDV_MU=%{marker.size}<extra></extra>",
         "hovertext": [
          "Peltogyne paniculata Benth."
         ],
         "legendgroup": "Peltogyne paniculata Benth.",
         "marker": {
          "color": "#636efa",
          "size": [
           60
          ],
          "sizemode": "area",
          "sizeref": 2.712396694214876,
          "symbol": "circle"
         },
         "mode": "markers",
         "name": "Peltogyne paniculata Benth.",
         "orientation": "v",
         "showlegend": true,
         "type": "scatter",
         "x": [
          0.9052132
         ],
         "xaxis": "x",
         "y": [
          15.45962969
         ],
         "yaxis": "y"
        },
        {
         "hovertemplate": "<b>%{hovertext}</b><br><br>Species=Persea americana Mill.<br>VOL_COM=%{x}<br>CARB_INDIV=%{y}<br>Sum_ID_INDV_MU=%{marker.size}<extra></extra>",
         "hovertext": [
          "Persea americana Mill."
         ],
         "legendgroup": "Persea americana Mill.",
         "marker": {
          "color": "#EF553B",
          "size": [
           76
          ],
          "sizemode": "area",
          "sizeref": 2.712396694214876,
          "symbol": "circle"
         },
         "mode": "markers",
         "name": "Persea americana Mill.",
         "orientation": "v",
         "showlegend": true,
         "type": "scatter",
         "x": [
          0.086135454
         ],
         "xaxis": "x",
         "y": [
          6.729365826
         ],
         "yaxis": "y"
        },
        {
         "hovertemplate": "<b>%{hovertext}</b><br><br>Species=Phyllanthus acuminatus Vahl<br>VOL_COM=%{x}<br>CARB_INDIV=%{y}<br>Sum_ID_INDV_MU=%{marker.size}<extra></extra>",
         "hovertext": [
          "Phyllanthus acuminatus Vahl"
         ],
         "legendgroup": "Phyllanthus acuminatus Vahl",
         "marker": {
          "color": "#00cc96",
          "size": [
           38
          ],
          "sizemode": "area",
          "sizeref": 2.712396694214876,
          "symbol": "circle"
         },
         "mode": "markers",
         "name": "Phyllanthus acuminatus Vahl",
         "orientation": "v",
         "showlegend": true,
         "type": "scatter",
         "x": [
          0.240559392
         ],
         "xaxis": "x",
         "y": [
          4.227686453
         ],
         "yaxis": "y"
        },
        {
         "hovertemplate": "<b>%{hovertext}</b><br><br>Species=Phyllanthus elsiae Urb.<br>VOL_COM=%{x}<br>CARB_INDIV=%{y}<br>Sum_ID_INDV_MU=%{marker.size}<extra></extra>",
         "hovertext": [
          "Phyllanthus elsiae Urb."
         ],
         "legendgroup": "Phyllanthus elsiae Urb.",
         "marker": {
          "color": "#ab63fa",
          "size": [
           21
          ],
          "sizemode": "area",
          "sizeref": 2.712396694214876,
          "symbol": "circle"
         },
         "mode": "markers",
         "name": "Phyllanthus elsiae Urb.",
         "orientation": "v",
         "showlegend": true,
         "type": "scatter",
         "x": [
          0.065918155
         ],
         "xaxis": "x",
         "y": [
          5.754644871
         ],
         "yaxis": "y"
        },
        {
         "hovertemplate": "<b>%{hovertext}</b><br><br>Species=Phyllanthus attenuatus Miq.<br>VOL_COM=%{x}<br>CARB_INDIV=%{y}<br>Sum_ID_INDV_MU=%{marker.size}<extra></extra>",
         "hovertext": [
          "Phyllanthus attenuatus Miq."
         ],
         "legendgroup": "Phyllanthus attenuatus Miq.",
         "marker": {
          "color": "#FFA15A",
          "size": [
           111
          ],
          "sizemode": "area",
          "sizeref": 2.712396694214876,
          "symbol": "circle"
         },
         "mode": "markers",
         "name": "Phyllanthus attenuatus Miq.",
         "orientation": "v",
         "showlegend": true,
         "type": "scatter",
         "x": [
          0.440770637
         ],
         "xaxis": "x",
         "y": [
          5.317252994
         ],
         "yaxis": "y"
        },
        {
         "hovertemplate": "<b>%{hovertext}</b><br><br>Species=Piptocoma discolor (Kunth.) Pruski.<br>VOL_COM=%{x}<br>CARB_INDIV=%{y}<br>Sum_ID_INDV_MU=%{marker.size}<extra></extra>",
         "hovertext": [
          "Piptocoma discolor (Kunth.) Pruski."
         ],
         "legendgroup": "Piptocoma discolor (Kunth.) Pruski.",
         "marker": {
          "color": "#19d3f3",
          "size": [
           32
          ],
          "sizemode": "area",
          "sizeref": 2.712396694214876,
          "symbol": "circle"
         },
         "mode": "markers",
         "name": "Piptocoma discolor (Kunth.) Pruski.",
         "orientation": "v",
         "showlegend": true,
         "type": "scatter",
         "x": [
          0.189440727
         ],
         "xaxis": "x",
         "y": [
          7.090899944
         ],
         "yaxis": "y"
        },
        {
         "hovertemplate": "<b>%{hovertext}</b><br><br>Species=Pithecellobium dulce (Roxb.) Benth.<br>VOL_COM=%{x}<br>CARB_INDIV=%{y}<br>Sum_ID_INDV_MU=%{marker.size}<extra></extra>",
         "hovertext": [
          "Pithecellobium dulce (Roxb.) Benth."
         ],
         "legendgroup": "Pithecellobium dulce (Roxb.) Benth.",
         "marker": {
          "color": "#FF6692",
          "size": [
           30
          ],
          "sizemode": "area",
          "sizeref": 2.712396694214876,
          "symbol": "circle"
         },
         "mode": "markers",
         "name": "Pithecellobium dulce (Roxb.) Benth.",
         "orientation": "v",
         "showlegend": true,
         "type": "scatter",
         "x": [
          0.116437493
         ],
         "xaxis": "x",
         "y": [
          4.98918883
         ],
         "yaxis": "y"
        },
        {
         "hovertemplate": "<b>%{hovertext}</b><br><br>Species=Pithecellobium longifolium (Humb. & Bonpl. ex W.)<br>VOL_COM=%{x}<br>CARB_INDIV=%{y}<br>Sum_ID_INDV_MU=%{marker.size}<extra></extra>",
         "hovertext": [
          "Pithecellobium longifolium (Humb. & Bonpl. ex W.)"
         ],
         "legendgroup": "Pithecellobium longifolium (Humb. & Bonpl. ex W.)",
         "marker": {
          "color": "#B6E880",
          "size": [
           11
          ],
          "sizemode": "area",
          "sizeref": 2.712396694214876,
          "symbol": "circle"
         },
         "mode": "markers",
         "name": "Pithecellobium longifolium (Humb. & Bonpl. ex W.)",
         "orientation": "v",
         "showlegend": true,
         "type": "scatter",
         "x": [
          0.044494756
         ],
         "xaxis": "x",
         "y": [
          2.506183624
         ],
         "yaxis": "y"
        },
        {
         "hovertemplate": "<b>%{hovertext}</b><br><br>Species=Poeppigia procera C. Presl<br>VOL_COM=%{x}<br>CARB_INDIV=%{y}<br>Sum_ID_INDV_MU=%{marker.size}<extra></extra>",
         "hovertext": [
          "Poeppigia procera C. Presl"
         ],
         "legendgroup": "Poeppigia procera C. Presl",
         "marker": {
          "color": "#FF97FF",
          "size": [
           19
          ],
          "sizemode": "area",
          "sizeref": 2.712396694214876,
          "symbol": "circle"
         },
         "mode": "markers",
         "name": "Poeppigia procera C. Presl",
         "orientation": "v",
         "showlegend": true,
         "type": "scatter",
         "x": [
          0.047000445
         ],
         "xaxis": "x",
         "y": [
          4.728571415
         ],
         "yaxis": "y"
        },
        {
         "hovertemplate": "<b>%{hovertext}</b><br><br>Species=Pourouma bicolor Mart.<br>VOL_COM=%{x}<br>CARB_INDIV=%{y}<br>Sum_ID_INDV_MU=%{marker.size}<extra></extra>",
         "hovertext": [
          "Pourouma bicolor Mart."
         ],
         "legendgroup": "Pourouma bicolor Mart.",
         "marker": {
          "color": "#FECB52",
          "size": [
           1517
          ],
          "sizemode": "area",
          "sizeref": 2.712396694214876,
          "symbol": "circle"
         },
         "mode": "markers",
         "name": "Pourouma bicolor Mart.",
         "orientation": "v",
         "showlegend": true,
         "type": "scatter",
         "x": [
          5.643092357
         ],
         "xaxis": "x",
         "y": [
          3.352920207
         ],
         "yaxis": "y"
        },
        {
         "hovertemplate": "<b>%{hovertext}</b><br><br>Species=Pouteria cuspidata (A.DC.) Baehni<br>VOL_COM=%{x}<br>CARB_INDIV=%{y}<br>Sum_ID_INDV_MU=%{marker.size}<extra></extra>",
         "hovertext": [
          "Pouteria cuspidata (A.DC.) Baehni"
         ],
         "legendgroup": "Pouteria cuspidata (A.DC.) Baehni",
         "marker": {
          "color": "#636efa",
          "size": [
           10
          ],
          "sizemode": "area",
          "sizeref": 2.712396694214876,
          "symbol": "circle"
         },
         "mode": "markers",
         "name": "Pouteria cuspidata (A.DC.) Baehni",
         "orientation": "v",
         "showlegend": true,
         "type": "scatter",
         "x": [
          2.139933586
         ],
         "xaxis": "x",
         "y": [
          17.47811317
         ],
         "yaxis": "y"
        },
        {
         "hovertemplate": "<b>%{hovertext}</b><br><br>Species=Pouteria multiflora (A.DC.) Eyma<br>VOL_COM=%{x}<br>CARB_INDIV=%{y}<br>Sum_ID_INDV_MU=%{marker.size}<extra></extra>",
         "hovertext": [
          "Pouteria multiflora (A.DC.) Eyma"
         ],
         "legendgroup": "Pouteria multiflora (A.DC.) Eyma",
         "marker": {
          "color": "#EF553B",
          "size": [
           416
          ],
          "sizemode": "area",
          "sizeref": 2.712396694214876,
          "symbol": "circle"
         },
         "mode": "markers",
         "name": "Pouteria multiflora (A.DC.) Eyma",
         "orientation": "v",
         "showlegend": true,
         "type": "scatter",
         "x": [
          2.42684846
         ],
         "xaxis": "x",
         "y": [
          8.410404864
         ],
         "yaxis": "y"
        },
        {
         "hovertemplate": "<b>%{hovertext}</b><br><br>Species=Pouteria sp.<br>VOL_COM=%{x}<br>CARB_INDIV=%{y}<br>Sum_ID_INDV_MU=%{marker.size}<extra></extra>",
         "hovertext": [
          "Pouteria sp."
         ],
         "legendgroup": "Pouteria sp.",
         "marker": {
          "color": "#00cc96",
          "size": [
           15
          ],
          "sizemode": "area",
          "sizeref": 2.712396694214876,
          "symbol": "circle"
         },
         "mode": "markers",
         "name": "Pouteria sp.",
         "orientation": "v",
         "showlegend": true,
         "type": "scatter",
         "x": [
          0.339680195
         ],
         "xaxis": "x",
         "y": [
          5.824415048
         ],
         "yaxis": "y"
        },
        {
         "hovertemplate": "<b>%{hovertext}</b><br><br>Species=Protium heptaphyllum (Aubl.) Marchand.<br>VOL_COM=%{x}<br>CARB_INDIV=%{y}<br>Sum_ID_INDV_MU=%{marker.size}<extra></extra>",
         "hovertext": [
          "Protium heptaphyllum (Aubl.) Marchand."
         ],
         "legendgroup": "Protium heptaphyllum (Aubl.) Marchand.",
         "marker": {
          "color": "#ab63fa",
          "size": [
           111
          ],
          "sizemode": "area",
          "sizeref": 2.712396694214876,
          "symbol": "circle"
         },
         "mode": "markers",
         "name": "Protium heptaphyllum (Aubl.) Marchand.",
         "orientation": "v",
         "showlegend": true,
         "type": "scatter",
         "x": [
          0.561793987
         ],
         "xaxis": "x",
         "y": [
          5.853726745
         ],
         "yaxis": "y"
        },
        {
         "hovertemplate": "<b>%{hovertext}</b><br><br>Species=Protium tovarense Pittier<br>VOL_COM=%{x}<br>CARB_INDIV=%{y}<br>Sum_ID_INDV_MU=%{marker.size}<extra></extra>",
         "hovertext": [
          "Protium tovarense Pittier"
         ],
         "legendgroup": "Protium tovarense Pittier",
         "marker": {
          "color": "#FFA15A",
          "size": [
           127
          ],
          "sizemode": "area",
          "sizeref": 2.712396694214876,
          "symbol": "circle"
         },
         "mode": "markers",
         "name": "Protium tovarense Pittier",
         "orientation": "v",
         "showlegend": true,
         "type": "scatter",
         "x": [
          0.860156208
         ],
         "xaxis": "x",
         "y": [
          6.324140072
         ],
         "yaxis": "y"
        },
        {
         "hovertemplate": "<b>%{hovertext}</b><br><br>Species=Pseudobombax septenatum (Jacq.) Dugand.<br>VOL_COM=%{x}<br>CARB_INDIV=%{y}<br>Sum_ID_INDV_MU=%{marker.size}<extra></extra>",
         "hovertext": [
          "Pseudobombax septenatum (Jacq.) Dugand."
         ],
         "legendgroup": "Pseudobombax septenatum (Jacq.) Dugand.",
         "marker": {
          "color": "#19d3f3",
          "size": [
           42
          ],
          "sizemode": "area",
          "sizeref": 2.712396694214876,
          "symbol": "circle"
         },
         "mode": "markers",
         "name": "Pseudobombax septenatum (Jacq.) Dugand.",
         "orientation": "v",
         "showlegend": true,
         "type": "scatter",
         "x": [
          0.101964144
         ],
         "xaxis": "x",
         "y": [
          2.839327753
         ],
         "yaxis": "y"
        },
        {
         "hovertemplate": "<b>%{hovertext}</b><br><br>Species=Pseudolmedia cf., rigida (Klotzsch & H.Karst.) C.<br>VOL_COM=%{x}<br>CARB_INDIV=%{y}<br>Sum_ID_INDV_MU=%{marker.size}<extra></extra>",
         "hovertext": [
          "Pseudolmedia cf., rigida (Klotzsch & H.Karst.) C."
         ],
         "legendgroup": "Pseudolmedia cf., rigida (Klotzsch & H.Karst.) C.",
         "marker": {
          "color": "#FF6692",
          "size": [
           171
          ],
          "sizemode": "area",
          "sizeref": 2.712396694214876,
          "symbol": "circle"
         },
         "mode": "markers",
         "name": "Pseudolmedia cf., rigida (Klotzsch & H.Karst.) C.",
         "orientation": "v",
         "showlegend": true,
         "type": "scatter",
         "x": [
          0.645045944
         ],
         "xaxis": "x",
         "y": [
          4.837242623
         ],
         "yaxis": "y"
        },
        {
         "hovertemplate": "<b>%{hovertext}</b><br><br>Species=Pseudolmedia laevigata Trécul<br>VOL_COM=%{x}<br>CARB_INDIV=%{y}<br>Sum_ID_INDV_MU=%{marker.size}<extra></extra>",
         "hovertext": [
          "Pseudolmedia laevigata Trécul"
         ],
         "legendgroup": "Pseudolmedia laevigata Trécul",
         "marker": {
          "color": "#B6E880",
          "size": [
           77
          ],
          "sizemode": "area",
          "sizeref": 2.712396694214876,
          "symbol": "circle"
         },
         "mode": "markers",
         "name": "Pseudolmedia laevigata Trécul",
         "orientation": "v",
         "showlegend": true,
         "type": "scatter",
         "x": [
          0.209077585
         ],
         "xaxis": "x",
         "y": [
          8.693502665
         ],
         "yaxis": "y"
        },
        {
         "hovertemplate": "<b>%{hovertext}</b><br><br>Species=Pseudolmedia rigida (Klotzsch & H.Karst.) Cuatrec.<br>VOL_COM=%{x}<br>CARB_INDIV=%{y}<br>Sum_ID_INDV_MU=%{marker.size}<extra></extra>",
         "hovertext": [
          "Pseudolmedia rigida (Klotzsch & H.Karst.) Cuatrec."
         ],
         "legendgroup": "Pseudolmedia rigida (Klotzsch & H.Karst.) Cuatrec.",
         "marker": {
          "color": "#FF97FF",
          "size": [
           254
          ],
          "sizemode": "area",
          "sizeref": 2.712396694214876,
          "symbol": "circle"
         },
         "mode": "markers",
         "name": "Pseudolmedia rigida (Klotzsch & H.Karst.) Cuatrec.",
         "orientation": "v",
         "showlegend": true,
         "type": "scatter",
         "x": [
          1.461228738
         ],
         "xaxis": "x",
         "y": [
          8.212317258
         ],
         "yaxis": "y"
        },
        {
         "hovertemplate": "<b>%{hovertext}</b><br><br>Species=Psychotria brachiata Sw.<br>VOL_COM=%{x}<br>CARB_INDIV=%{y}<br>Sum_ID_INDV_MU=%{marker.size}<extra></extra>",
         "hovertext": [
          "Psychotria brachiata Sw."
         ],
         "legendgroup": "Psychotria brachiata Sw.",
         "marker": {
          "color": "#FECB52",
          "size": [
           33
          ],
          "sizemode": "area",
          "sizeref": 2.712396694214876,
          "symbol": "circle"
         },
         "mode": "markers",
         "name": "Psychotria brachiata Sw.",
         "orientation": "v",
         "showlegend": true,
         "type": "scatter",
         "x": [
          0.382695887
         ],
         "xaxis": "x",
         "y": [
          6.451790214
         ],
         "yaxis": "y"
        },
        {
         "hovertemplate": "<b>%{hovertext}</b><br><br>Species=Psychotria cf., deflexa DC.<br>VOL_COM=%{x}<br>CARB_INDIV=%{y}<br>Sum_ID_INDV_MU=%{marker.size}<extra></extra>",
         "hovertext": [
          "Psychotria cf., deflexa DC."
         ],
         "legendgroup": "Psychotria cf., deflexa DC.",
         "marker": {
          "color": "#636efa",
          "size": [
           156
          ],
          "sizemode": "area",
          "sizeref": 2.712396694214876,
          "symbol": "circle"
         },
         "mode": "markers",
         "name": "Psychotria cf., deflexa DC.",
         "orientation": "v",
         "showlegend": true,
         "type": "scatter",
         "x": [
          1.454485454
         ],
         "xaxis": "x",
         "y": [
          5.615385294
         ],
         "yaxis": "y"
        },
        {
         "hovertemplate": "<b>%{hovertext}</b><br><br>Species=Psychotria deflexa DC.<br>VOL_COM=%{x}<br>CARB_INDIV=%{y}<br>Sum_ID_INDV_MU=%{marker.size}<extra></extra>",
         "hovertext": [
          "Psychotria deflexa DC."
         ],
         "legendgroup": "Psychotria deflexa DC.",
         "marker": {
          "color": "#EF553B",
          "size": [
           69
          ],
          "sizemode": "area",
          "sizeref": 2.712396694214876,
          "symbol": "circle"
         },
         "mode": "markers",
         "name": "Psychotria deflexa DC.",
         "orientation": "v",
         "showlegend": true,
         "type": "scatter",
         "x": [
          0.232270155
         ],
         "xaxis": "x",
         "y": [
          5.896423459
         ],
         "yaxis": "y"
        },
        {
         "hovertemplate": "<b>%{hovertext}</b><br><br>Species=Pterocarpus rohrii Vahl<br>VOL_COM=%{x}<br>CARB_INDIV=%{y}<br>Sum_ID_INDV_MU=%{marker.size}<extra></extra>",
         "hovertext": [
          "Pterocarpus rohrii Vahl"
         ],
         "legendgroup": "Pterocarpus rohrii Vahl",
         "marker": {
          "color": "#00cc96",
          "size": [
           48
          ],
          "sizemode": "area",
          "sizeref": 2.712396694214876,
          "symbol": "circle"
         },
         "mode": "markers",
         "name": "Pterocarpus rohrii Vahl",
         "orientation": "v",
         "showlegend": true,
         "type": "scatter",
         "x": [
          1.932223797
         ],
         "xaxis": "x",
         "y": [
          9.530408859
         ],
         "yaxis": "y"
        },
        {
         "hovertemplate": "<b>%{hovertext}</b><br><br>Species=Roupala pachypoda Cuatrec.<br>VOL_COM=%{x}<br>CARB_INDIV=%{y}<br>Sum_ID_INDV_MU=%{marker.size}<extra></extra>",
         "hovertext": [
          "Roupala pachypoda Cuatrec."
         ],
         "legendgroup": "Roupala pachypoda Cuatrec.",
         "marker": {
          "color": "#ab63fa",
          "size": [
           51
          ],
          "sizemode": "area",
          "sizeref": 2.712396694214876,
          "symbol": "circle"
         },
         "mode": "markers",
         "name": "Roupala pachypoda Cuatrec.",
         "orientation": "v",
         "showlegend": true,
         "type": "scatter",
         "x": [
          0.161658742
         ],
         "xaxis": "x",
         "y": [
          9.907164574
         ],
         "yaxis": "y"
        },
        {
         "hovertemplate": "<b>%{hovertext}</b><br><br>Species=Sabal mauritiiformis (H. Karst.) Griseb & H. Wendl<br>VOL_COM=%{x}<br>CARB_INDIV=%{y}<br>Sum_ID_INDV_MU=%{marker.size}<extra></extra>",
         "hovertext": [
          "Sabal mauritiiformis (H. Karst.) Griseb & H. Wendl"
         ],
         "legendgroup": "Sabal mauritiiformis (H. Karst.) Griseb & H. Wendl",
         "marker": {
          "color": "#FFA15A",
          "size": [
           72
          ],
          "sizemode": "area",
          "sizeref": 2.712396694214876,
          "symbol": "circle"
         },
         "mode": "markers",
         "name": "Sabal mauritiiformis (H. Karst.) Griseb & H. Wendl",
         "orientation": "v",
         "showlegend": true,
         "type": "scatter",
         "x": [
          0.00002
         ],
         "xaxis": "x",
         "y": [
          5.402638912
         ],
         "yaxis": "y"
        },
        {
         "hovertemplate": "<b>%{hovertext}</b><br><br>Species=Samanea saman (Jacq.) Merr.<br>VOL_COM=%{x}<br>CARB_INDIV=%{y}<br>Sum_ID_INDV_MU=%{marker.size}<extra></extra>",
         "hovertext": [
          "Samanea saman (Jacq.) Merr."
         ],
         "legendgroup": "Samanea saman (Jacq.) Merr.",
         "marker": {
          "color": "#19d3f3",
          "size": [
           400
          ],
          "sizemode": "area",
          "sizeref": 2.712396694214876,
          "symbol": "circle"
         },
         "mode": "markers",
         "name": "Samanea saman (Jacq.) Merr.",
         "orientation": "v",
         "showlegend": true,
         "type": "scatter",
         "x": [
          31.40409242
         ],
         "xaxis": "x",
         "y": [
          8.759420494
         ],
         "yaxis": "y"
        },
        {
         "hovertemplate": "<b>%{hovertext}</b><br><br>Species=Sapium glandulosum (L.) Morong<br>VOL_COM=%{x}<br>CARB_INDIV=%{y}<br>Sum_ID_INDV_MU=%{marker.size}<extra></extra>",
         "hovertext": [
          "Sapium glandulosum (L.) Morong"
         ],
         "legendgroup": "Sapium glandulosum (L.) Morong",
         "marker": {
          "color": "#FF6692",
          "size": [
           257
          ],
          "sizemode": "area",
          "sizeref": 2.712396694214876,
          "symbol": "circle"
         },
         "mode": "markers",
         "name": "Sapium glandulosum (L.) Morong",
         "orientation": "v",
         "showlegend": true,
         "type": "scatter",
         "x": [
          1.115917172
         ],
         "xaxis": "x",
         "y": [
          5.944394384
         ],
         "yaxis": "y"
        },
        {
         "hovertemplate": "<b>%{hovertext}</b><br><br>Species=Sapium laurifolium (A. Rich.) Griseb.<br>VOL_COM=%{x}<br>CARB_INDIV=%{y}<br>Sum_ID_INDV_MU=%{marker.size}<extra></extra>",
         "hovertext": [
          "Sapium laurifolium (A. Rich.) Griseb."
         ],
         "legendgroup": "Sapium laurifolium (A. Rich.) Griseb.",
         "marker": {
          "color": "#B6E880",
          "size": [
           99
          ],
          "sizemode": "area",
          "sizeref": 2.712396694214876,
          "symbol": "circle"
         },
         "mode": "markers",
         "name": "Sapium laurifolium (A. Rich.) Griseb.",
         "orientation": "v",
         "showlegend": true,
         "type": "scatter",
         "x": [
          0.487177847
         ],
         "xaxis": "x",
         "y": [
          3.466481423
         ],
         "yaxis": "y"
        },
        {
         "hovertemplate": "<b>%{hovertext}</b><br><br>Species=Schefflera morototoni (Aubl.) Maguire, S. & F.<br>VOL_COM=%{x}<br>CARB_INDIV=%{y}<br>Sum_ID_INDV_MU=%{marker.size}<extra></extra>",
         "hovertext": [
          "Schefflera morototoni (Aubl.) Maguire, S. & F."
         ],
         "legendgroup": "Schefflera morototoni (Aubl.) Maguire, S. & F.",
         "marker": {
          "color": "#FF97FF",
          "size": [
           919
          ],
          "sizemode": "area",
          "sizeref": 2.712396694214876,
          "symbol": "circle"
         },
         "mode": "markers",
         "name": "Schefflera morototoni (Aubl.) Maguire, S. & F.",
         "orientation": "v",
         "showlegend": true,
         "type": "scatter",
         "x": [
          16.62550107
         ],
         "xaxis": "x",
         "y": [
          7.175771923
         ],
         "yaxis": "y"
        },
        {
         "hovertemplate": "<b>%{hovertext}</b><br><br>Species=Schizolobium parahyba (Vell.) S.F.Blake<br>VOL_COM=%{x}<br>CARB_INDIV=%{y}<br>Sum_ID_INDV_MU=%{marker.size}<extra></extra>",
         "hovertext": [
          "Schizolobium parahyba (Vell.) S.F.Blake"
         ],
         "legendgroup": "Schizolobium parahyba (Vell.) S.F.Blake",
         "marker": {
          "color": "#FECB52",
          "size": [
           212
          ],
          "sizemode": "area",
          "sizeref": 2.712396694214876,
          "symbol": "circle"
         },
         "mode": "markers",
         "name": "Schizolobium parahyba (Vell.) S.F.Blake",
         "orientation": "v",
         "showlegend": true,
         "type": "scatter",
         "x": [
          1.170731528
         ],
         "xaxis": "x",
         "y": [
          5.739889765
         ],
         "yaxis": "y"
        },
        {
         "hovertemplate": "<b>%{hovertext}</b><br><br>Species=Senna alata (L.) Roxb.<br>VOL_COM=%{x}<br>CARB_INDIV=%{y}<br>Sum_ID_INDV_MU=%{marker.size}<extra></extra>",
         "hovertext": [
          "Senna alata (L.) Roxb."
         ],
         "legendgroup": "Senna alata (L.) Roxb.",
         "marker": {
          "color": "#636efa",
          "size": [
           6
          ],
          "sizemode": "area",
          "sizeref": 2.712396694214876,
          "symbol": "circle"
         },
         "mode": "markers",
         "name": "Senna alata (L.) Roxb.",
         "orientation": "v",
         "showlegend": true,
         "type": "scatter",
         "x": [
          0.025941906
         ],
         "xaxis": "x",
         "y": [
          2.516255856
         ],
         "yaxis": "y"
        },
        {
         "hovertemplate": "<b>%{hovertext}</b><br><br>Species=Senna sp.<br>VOL_COM=%{x}<br>CARB_INDIV=%{y}<br>Sum_ID_INDV_MU=%{marker.size}<extra></extra>",
         "hovertext": [
          "Senna sp."
         ],
         "legendgroup": "Senna sp.",
         "marker": {
          "color": "#EF553B",
          "size": [
           21
          ],
          "sizemode": "area",
          "sizeref": 2.712396694214876,
          "symbol": "circle"
         },
         "mode": "markers",
         "name": "Senna sp.",
         "orientation": "v",
         "showlegend": true,
         "type": "scatter",
         "x": [
          0.067966148
         ],
         "xaxis": "x",
         "y": [
          3.36732626
         ],
         "yaxis": "y"
        },
        {
         "hovertemplate": "<b>%{hovertext}</b><br><br>Species=Simarouba amara Aubl.<br>VOL_COM=%{x}<br>CARB_INDIV=%{y}<br>Sum_ID_INDV_MU=%{marker.size}<extra></extra>",
         "hovertext": [
          "Simarouba amara Aubl."
         ],
         "legendgroup": "Simarouba amara Aubl.",
         "marker": {
          "color": "#00cc96",
          "size": [
           460
          ],
          "sizemode": "area",
          "sizeref": 2.712396694214876,
          "symbol": "circle"
         },
         "mode": "markers",
         "name": "Simarouba amara Aubl.",
         "orientation": "v",
         "showlegend": true,
         "type": "scatter",
         "x": [
          1.866391705
         ],
         "xaxis": "x",
         "y": [
          3.195692247
         ],
         "yaxis": "y"
        },
        {
         "hovertemplate": "<b>%{hovertext}</b><br><br>Species=Sloanea guianensis (Aubl.) Benth.<br>VOL_COM=%{x}<br>CARB_INDIV=%{y}<br>Sum_ID_INDV_MU=%{marker.size}<extra></extra>",
         "hovertext": [
          "Sloanea guianensis (Aubl.) Benth."
         ],
         "legendgroup": "Sloanea guianensis (Aubl.) Benth.",
         "marker": {
          "color": "#ab63fa",
          "size": [
           92
          ],
          "sizemode": "area",
          "sizeref": 2.712396694214876,
          "symbol": "circle"
         },
         "mode": "markers",
         "name": "Sloanea guianensis (Aubl.) Benth.",
         "orientation": "v",
         "showlegend": true,
         "type": "scatter",
         "x": [
          0.12528082
         ],
         "xaxis": "x",
         "y": [
          6.941815615
         ],
         "yaxis": "y"
        },
        {
         "hovertemplate": "<b>%{hovertext}</b><br><br>Species=Socratea exorrhiza (Mart.) H.Wendl.<br>VOL_COM=%{x}<br>CARB_INDIV=%{y}<br>Sum_ID_INDV_MU=%{marker.size}<extra></extra>",
         "hovertext": [
          "Socratea exorrhiza (Mart.) H.Wendl."
         ],
         "legendgroup": "Socratea exorrhiza (Mart.) H.Wendl.",
         "marker": {
          "color": "#FFA15A",
          "size": [
           119
          ],
          "sizemode": "area",
          "sizeref": 2.712396694214876,
          "symbol": "circle"
         },
         "mode": "markers",
         "name": "Socratea exorrhiza (Mart.) H.Wendl.",
         "orientation": "v",
         "showlegend": true,
         "type": "scatter",
         "x": [
          0.00002
         ],
         "xaxis": "x",
         "y": [
          2.36166811
         ],
         "yaxis": "y"
        },
        {
         "hovertemplate": "<b>%{hovertext}</b><br><br>Species=Sorocea pubivena Hemsl<br>VOL_COM=%{x}<br>CARB_INDIV=%{y}<br>Sum_ID_INDV_MU=%{marker.size}<extra></extra>",
         "hovertext": [
          "Sorocea pubivena Hemsl"
         ],
         "legendgroup": "Sorocea pubivena Hemsl",
         "marker": {
          "color": "#19d3f3",
          "size": [
           115
          ],
          "sizemode": "area",
          "sizeref": 2.712396694214876,
          "symbol": "circle"
         },
         "mode": "markers",
         "name": "Sorocea pubivena Hemsl",
         "orientation": "v",
         "showlegend": true,
         "type": "scatter",
         "x": [
          0.666473927
         ],
         "xaxis": "x",
         "y": [
          4.344420036
         ],
         "yaxis": "y"
        },
        {
         "hovertemplate": "<b>%{hovertext}</b><br><br>Species=Spondias mombin L.<br>VOL_COM=%{x}<br>CARB_INDIV=%{y}<br>Sum_ID_INDV_MU=%{marker.size}<extra></extra>",
         "hovertext": [
          "Spondias mombin L."
         ],
         "legendgroup": "Spondias mombin L.",
         "marker": {
          "color": "#FF6692",
          "size": [
           159
          ],
          "sizemode": "area",
          "sizeref": 2.712396694214876,
          "symbol": "circle"
         },
         "mode": "markers",
         "name": "Spondias mombin L.",
         "orientation": "v",
         "showlegend": true,
         "type": "scatter",
         "x": [
          3.209290832
         ],
         "xaxis": "x",
         "y": [
          5.426451233
         ],
         "yaxis": "y"
        },
        {
         "hovertemplate": "<b>%{hovertext}</b><br><br>Species=Swartzia amplifolia Harms<br>VOL_COM=%{x}<br>CARB_INDIV=%{y}<br>Sum_ID_INDV_MU=%{marker.size}<extra></extra>",
         "hovertext": [
          "Swartzia amplifolia Harms"
         ],
         "legendgroup": "Swartzia amplifolia Harms",
         "marker": {
          "color": "#B6E880",
          "size": [
           146
          ],
          "sizemode": "area",
          "sizeref": 2.712396694214876,
          "symbol": "circle"
         },
         "mode": "markers",
         "name": "Swartzia amplifolia Harms",
         "orientation": "v",
         "showlegend": true,
         "type": "scatter",
         "x": [
          1.878692864
         ],
         "xaxis": "x",
         "y": [
          6.989705536
         ],
         "yaxis": "y"
        },
        {
         "hovertemplate": "<b>%{hovertext}</b><br><br>Species=Tabernaemontana sananho Ruiz & Pav.<br>VOL_COM=%{x}<br>CARB_INDIV=%{y}<br>Sum_ID_INDV_MU=%{marker.size}<extra></extra>",
         "hovertext": [
          "Tabernaemontana sananho Ruiz & Pav."
         ],
         "legendgroup": "Tabernaemontana sananho Ruiz & Pav.",
         "marker": {
          "color": "#FF97FF",
          "size": [
           161
          ],
          "sizemode": "area",
          "sizeref": 2.712396694214876,
          "symbol": "circle"
         },
         "mode": "markers",
         "name": "Tabernaemontana sananho Ruiz & Pav.",
         "orientation": "v",
         "showlegend": true,
         "type": "scatter",
         "x": [
          0.430012865
         ],
         "xaxis": "x",
         "y": [
          7.100223255
         ],
         "yaxis": "y"
        },
        {
         "hovertemplate": "<b>%{hovertext}</b><br><br>Species=Tapirira guianensis Aubl.<br>VOL_COM=%{x}<br>CARB_INDIV=%{y}<br>Sum_ID_INDV_MU=%{marker.size}<extra></extra>",
         "hovertext": [
          "Tapirira guianensis Aubl."
         ],
         "legendgroup": "Tapirira guianensis Aubl.",
         "marker": {
          "color": "#FECB52",
          "size": [
           8205
          ],
          "sizemode": "area",
          "sizeref": 2.712396694214876,
          "symbol": "circle"
         },
         "mode": "markers",
         "name": "Tapirira guianensis Aubl.",
         "orientation": "v",
         "showlegend": true,
         "type": "scatter",
         "x": [
          59.51669198
         ],
         "xaxis": "x",
         "y": [
          5.585760347
         ],
         "yaxis": "y"
        },
        {
         "hovertemplate": "<b>%{hovertext}</b><br><br>Species=Terminalia amazonia (J.F.Gmel.) Exell<br>VOL_COM=%{x}<br>CARB_INDIV=%{y}<br>Sum_ID_INDV_MU=%{marker.size}<extra></extra>",
         "hovertext": [
          "Terminalia amazonia (J.F.Gmel.) Exell"
         ],
         "legendgroup": "Terminalia amazonia (J.F.Gmel.) Exell",
         "marker": {
          "color": "#636efa",
          "size": [
           114
          ],
          "sizemode": "area",
          "sizeref": 2.712396694214876,
          "symbol": "circle"
         },
         "mode": "markers",
         "name": "Terminalia amazonia (J.F.Gmel.) Exell",
         "orientation": "v",
         "showlegend": true,
         "type": "scatter",
         "x": [
          1.374024883
         ],
         "xaxis": "x",
         "y": [
          9.203553677
         ],
         "yaxis": "y"
        },
        {
         "hovertemplate": "<b>%{hovertext}</b><br><br>Species=Terminalia catappa L.<br>VOL_COM=%{x}<br>CARB_INDIV=%{y}<br>Sum_ID_INDV_MU=%{marker.size}<extra></extra>",
         "hovertext": [
          "Terminalia catappa L."
         ],
         "legendgroup": "Terminalia catappa L.",
         "marker": {
          "color": "#EF553B",
          "size": [
           7
          ],
          "sizemode": "area",
          "sizeref": 2.712396694214876,
          "symbol": "circle"
         },
         "mode": "markers",
         "name": "Terminalia catappa L.",
         "orientation": "v",
         "showlegend": true,
         "type": "scatter",
         "x": [
          0.029874847
         ],
         "xaxis": "x",
         "y": [
          5.455969334
         ],
         "yaxis": "y"
        },
        {
         "hovertemplate": "<b>%{hovertext}</b><br><br>Species=Tetrorchidium rubrivenium Poepp.<br>VOL_COM=%{x}<br>CARB_INDIV=%{y}<br>Sum_ID_INDV_MU=%{marker.size}<extra></extra>",
         "hovertext": [
          "Tetrorchidium rubrivenium Poepp."
         ],
         "legendgroup": "Tetrorchidium rubrivenium Poepp.",
         "marker": {
          "color": "#00cc96",
          "size": [
           133
          ],
          "sizemode": "area",
          "sizeref": 2.712396694214876,
          "symbol": "circle"
         },
         "mode": "markers",
         "name": "Tetrorchidium rubrivenium Poepp.",
         "orientation": "v",
         "showlegend": true,
         "type": "scatter",
         "x": [
          0.658400044
         ],
         "xaxis": "x",
         "y": [
          5.840371227
         ],
         "yaxis": "y"
        },
        {
         "hovertemplate": "<b>%{hovertext}</b><br><br>Species=Thevetia ahouai (L.) A.DC.<br>VOL_COM=%{x}<br>CARB_INDIV=%{y}<br>Sum_ID_INDV_MU=%{marker.size}<extra></extra>",
         "hovertext": [
          "Thevetia ahouai (L.) A.DC."
         ],
         "legendgroup": "Thevetia ahouai (L.) A.DC.",
         "marker": {
          "color": "#ab63fa",
          "size": [
           66
          ],
          "sizemode": "area",
          "sizeref": 2.712396694214876,
          "symbol": "circle"
         },
         "mode": "markers",
         "name": "Thevetia ahouai (L.) A.DC.",
         "orientation": "v",
         "showlegend": true,
         "type": "scatter",
         "x": [
          0.127008906
         ],
         "xaxis": "x",
         "y": [
          4.380718629
         ],
         "yaxis": "y"
        },
        {
         "hovertemplate": "<b>%{hovertext}</b><br><br>Species=Trattinnickia aspera (Standl.) Swart<br>VOL_COM=%{x}<br>CARB_INDIV=%{y}<br>Sum_ID_INDV_MU=%{marker.size}<extra></extra>",
         "hovertext": [
          "Trattinnickia aspera (Standl.) Swart"
         ],
         "legendgroup": "Trattinnickia aspera (Standl.) Swart",
         "marker": {
          "color": "#FFA15A",
          "size": [
           365
          ],
          "sizemode": "area",
          "sizeref": 2.712396694214876,
          "symbol": "circle"
         },
         "mode": "markers",
         "name": "Trattinnickia aspera (Standl.) Swart",
         "orientation": "v",
         "showlegend": true,
         "type": "scatter",
         "x": [
          2.217617168
         ],
         "xaxis": "x",
         "y": [
          5.742308719
         ],
         "yaxis": "y"
        },
        {
         "hovertemplate": "<b>%{hovertext}</b><br><br>Species=Trattinnickia cf. aspera (Standl.) Swart<br>VOL_COM=%{x}<br>CARB_INDIV=%{y}<br>Sum_ID_INDV_MU=%{marker.size}<extra></extra>",
         "hovertext": [
          "Trattinnickia cf. aspera (Standl.) Swart"
         ],
         "legendgroup": "Trattinnickia cf. aspera (Standl.) Swart",
         "marker": {
          "color": "#19d3f3",
          "size": [
           462
          ],
          "sizemode": "area",
          "sizeref": 2.712396694214876,
          "symbol": "circle"
         },
         "mode": "markers",
         "name": "Trattinnickia cf. aspera (Standl.) Swart",
         "orientation": "v",
         "showlegend": true,
         "type": "scatter",
         "x": [
          4.214484356
         ],
         "xaxis": "x",
         "y": [
          6.058656582
         ],
         "yaxis": "y"
        },
        {
         "hovertemplate": "<b>%{hovertext}</b><br><br>Species=Triplaris americana L.<br>VOL_COM=%{x}<br>CARB_INDIV=%{y}<br>Sum_ID_INDV_MU=%{marker.size}<extra></extra>",
         "hovertext": [
          "Triplaris americana L."
         ],
         "legendgroup": "Triplaris americana L.",
         "marker": {
          "color": "#FF6692",
          "size": [
           1046
          ],
          "sizemode": "area",
          "sizeref": 2.712396694214876,
          "symbol": "circle"
         },
         "mode": "markers",
         "name": "Triplaris americana L.",
         "orientation": "v",
         "showlegend": true,
         "type": "scatter",
         "x": [
          3.367176996
         ],
         "xaxis": "x",
         "y": [
          5.073558964
         ],
         "yaxis": "y"
        },
        {
         "hovertemplate": "<b>%{hovertext}</b><br><br>Species=Trophis racemosa (L.) Urb.<br>VOL_COM=%{x}<br>CARB_INDIV=%{y}<br>Sum_ID_INDV_MU=%{marker.size}<extra></extra>",
         "hovertext": [
          "Trophis racemosa (L.) Urb."
         ],
         "legendgroup": "Trophis racemosa (L.) Urb.",
         "marker": {
          "color": "#B6E880",
          "size": [
           123
          ],
          "sizemode": "area",
          "sizeref": 2.712396694214876,
          "symbol": "circle"
         },
         "mode": "markers",
         "name": "Trophis racemosa (L.) Urb.",
         "orientation": "v",
         "showlegend": true,
         "type": "scatter",
         "x": [
          0.102180748
         ],
         "xaxis": "x",
         "y": [
          4.603317618
         ],
         "yaxis": "y"
        },
        {
         "hovertemplate": "<b>%{hovertext}</b><br><br>Species=Virola sebifera Aubl.<br>VOL_COM=%{x}<br>CARB_INDIV=%{y}<br>Sum_ID_INDV_MU=%{marker.size}<extra></extra>",
         "hovertext": [
          "Virola sebifera Aubl."
         ],
         "legendgroup": "Virola sebifera Aubl.",
         "marker": {
          "color": "#FF97FF",
          "size": [
           1392
          ],
          "sizemode": "area",
          "sizeref": 2.712396694214876,
          "symbol": "circle"
         },
         "mode": "markers",
         "name": "Virola sebifera Aubl.",
         "orientation": "v",
         "showlegend": true,
         "type": "scatter",
         "x": [
          19.68506613
         ],
         "xaxis": "x",
         "y": [
          7.356227255
         ],
         "yaxis": "y"
        },
        {
         "hovertemplate": "<b>%{hovertext}</b><br><br>Species=Vismia guianensis (Aubl.) Pers.<br>VOL_COM=%{x}<br>CARB_INDIV=%{y}<br>Sum_ID_INDV_MU=%{marker.size}<extra></extra>",
         "hovertext": [
          "Vismia guianensis (Aubl.) Pers."
         ],
         "legendgroup": "Vismia guianensis (Aubl.) Pers.",
         "marker": {
          "color": "#FECB52",
          "size": [
           543
          ],
          "sizemode": "area",
          "sizeref": 2.712396694214876,
          "symbol": "circle"
         },
         "mode": "markers",
         "name": "Vismia guianensis (Aubl.) Pers.",
         "orientation": "v",
         "showlegend": true,
         "type": "scatter",
         "x": [
          0.998486807
         ],
         "xaxis": "x",
         "y": [
          4.187691198
         ],
         "yaxis": "y"
        },
        {
         "hovertemplate": "<b>%{hovertext}</b><br><br>Species=Vochysia ferruginea Mart.<br>VOL_COM=%{x}<br>CARB_INDIV=%{y}<br>Sum_ID_INDV_MU=%{marker.size}<extra></extra>",
         "hovertext": [
          "Vochysia ferruginea Mart."
         ],
         "legendgroup": "Vochysia ferruginea Mart.",
         "marker": {
          "color": "#636efa",
          "size": [
           272
          ],
          "sizemode": "area",
          "sizeref": 2.712396694214876,
          "symbol": "circle"
         },
         "mode": "markers",
         "name": "Vochysia ferruginea Mart.",
         "orientation": "v",
         "showlegend": true,
         "type": "scatter",
         "x": [
          0.617470639
         ],
         "xaxis": "x",
         "y": [
          3.377767151
         ],
         "yaxis": "y"
        },
        {
         "hovertemplate": "<b>%{hovertext}</b><br><br>Species=Vochysia lehmannii Hieron.<br>VOL_COM=%{x}<br>CARB_INDIV=%{y}<br>Sum_ID_INDV_MU=%{marker.size}<extra></extra>",
         "hovertext": [
          "Vochysia lehmannii Hieron."
         ],
         "legendgroup": "Vochysia lehmannii Hieron.",
         "marker": {
          "color": "#EF553B",
          "size": [
           475
          ],
          "sizemode": "area",
          "sizeref": 2.712396694214876,
          "symbol": "circle"
         },
         "mode": "markers",
         "name": "Vochysia lehmannii Hieron.",
         "orientation": "v",
         "showlegend": true,
         "type": "scatter",
         "x": [
          3.662576705
         ],
         "xaxis": "x",
         "y": [
          6.71650006
         ],
         "yaxis": "y"
        },
        {
         "hovertemplate": "<b>%{hovertext}</b><br><br>Species=Wittmackanthus stanleyanus (M.R.Schomb.) Kunt.<br>VOL_COM=%{x}<br>CARB_INDIV=%{y}<br>Sum_ID_INDV_MU=%{marker.size}<extra></extra>",
         "hovertext": [
          "Wittmackanthus stanleyanus (M.R.Schomb.) Kunt."
         ],
         "legendgroup": "Wittmackanthus stanleyanus (M.R.Schomb.) Kunt.",
         "marker": {
          "color": "#00cc96",
          "size": [
           10
          ],
          "sizemode": "area",
          "sizeref": 2.712396694214876,
          "symbol": "circle"
         },
         "mode": "markers",
         "name": "Wittmackanthus stanleyanus (M.R.Schomb.) Kunt.",
         "orientation": "v",
         "showlegend": true,
         "type": "scatter",
         "x": [
          0.405308992
         ],
         "xaxis": "x",
         "y": [
          10.36524677
         ],
         "yaxis": "y"
        },
        {
         "hovertemplate": "<b>%{hovertext}</b><br><br>Species=Xylopia aromatica (Lam.) Mart.<br>VOL_COM=%{x}<br>CARB_INDIV=%{y}<br>Sum_ID_INDV_MU=%{marker.size}<extra></extra>",
         "hovertext": [
          "Xylopia aromatica (Lam.) Mart."
         ],
         "legendgroup": "Xylopia aromatica (Lam.) Mart.",
         "marker": {
          "color": "#ab63fa",
          "size": [
           4375
          ],
          "sizemode": "area",
          "sizeref": 2.712396694214876,
          "symbol": "circle"
         },
         "mode": "markers",
         "name": "Xylopia aromatica (Lam.) Mart.",
         "orientation": "v",
         "showlegend": true,
         "type": "scatter",
         "x": [
          30.75574406
         ],
         "xaxis": "x",
         "y": [
          7.062029742
         ],
         "yaxis": "y"
        },
        {
         "hovertemplate": "<b>%{hovertext}</b><br><br>Species=Xylopia discreta (L.f.) Sprague & Hutch.<br>VOL_COM=%{x}<br>CARB_INDIV=%{y}<br>Sum_ID_INDV_MU=%{marker.size}<extra></extra>",
         "hovertext": [
          "Xylopia discreta (L.f.) Sprague & Hutch."
         ],
         "legendgroup": "Xylopia discreta (L.f.) Sprague & Hutch.",
         "marker": {
          "color": "#FFA15A",
          "size": [
           353
          ],
          "sizemode": "area",
          "sizeref": 2.712396694214876,
          "symbol": "circle"
         },
         "mode": "markers",
         "name": "Xylopia discreta (L.f.) Sprague & Hutch.",
         "orientation": "v",
         "showlegend": true,
         "type": "scatter",
         "x": [
          2.52534008
         ],
         "xaxis": "x",
         "y": [
          5.315089811
         ],
         "yaxis": "y"
        },
        {
         "hovertemplate": "<b>%{hovertext}</b><br><br>Species=Xylopia emarginata Mart.<br>VOL_COM=%{x}<br>CARB_INDIV=%{y}<br>Sum_ID_INDV_MU=%{marker.size}<extra></extra>",
         "hovertext": [
          "Xylopia emarginata Mart."
         ],
         "legendgroup": "Xylopia emarginata Mart.",
         "marker": {
          "color": "#19d3f3",
          "size": [
           2186
          ],
          "sizemode": "area",
          "sizeref": 2.712396694214876,
          "symbol": "circle"
         },
         "mode": "markers",
         "name": "Xylopia emarginata Mart.",
         "orientation": "v",
         "showlegend": true,
         "type": "scatter",
         "x": [
          9.854749884
         ],
         "xaxis": "x",
         "y": [
          6.044770788
         ],
         "yaxis": "y"
        },
        {
         "hovertemplate": "<b>%{hovertext}</b><br><br>Species=Xylopia polyantha R.E.Fr.<br>VOL_COM=%{x}<br>CARB_INDIV=%{y}<br>Sum_ID_INDV_MU=%{marker.size}<extra></extra>",
         "hovertext": [
          "Xylopia polyantha R.E.Fr."
         ],
         "legendgroup": "Xylopia polyantha R.E.Fr.",
         "marker": {
          "color": "#FF6692",
          "size": [
           97
          ],
          "sizemode": "area",
          "sizeref": 2.712396694214876,
          "symbol": "circle"
         },
         "mode": "markers",
         "name": "Xylopia polyantha R.E.Fr.",
         "orientation": "v",
         "showlegend": true,
         "type": "scatter",
         "x": [
          0.132480426
         ],
         "xaxis": "x",
         "y": [
          6.887993972
         ],
         "yaxis": "y"
        },
        {
         "hovertemplate": "<b>%{hovertext}</b><br><br>Species=Zygia inaequalis (Willd.) Pittier<br>VOL_COM=%{x}<br>CARB_INDIV=%{y}<br>Sum_ID_INDV_MU=%{marker.size}<extra></extra>",
         "hovertext": [
          "Zygia inaequalis (Willd.) Pittier"
         ],
         "legendgroup": "Zygia inaequalis (Willd.) Pittier",
         "marker": {
          "color": "#B6E880",
          "size": [
           238
          ],
          "sizemode": "area",
          "sizeref": 2.712396694214876,
          "symbol": "circle"
         },
         "mode": "markers",
         "name": "Zygia inaequalis (Willd.) Pittier",
         "orientation": "v",
         "showlegend": true,
         "type": "scatter",
         "x": [
          1.774676049
         ],
         "xaxis": "x",
         "y": [
          5.676523632
         ],
         "yaxis": "y"
        },
        {
         "hovertemplate": "<b>%{hovertext}</b><br><br>Species=Zygia ocumarensis (Pittier) Barneby & J.W.Grimes<br>VOL_COM=%{x}<br>CARB_INDIV=%{y}<br>Sum_ID_INDV_MU=%{marker.size}<extra></extra>",
         "hovertext": [
          "Zygia ocumarensis (Pittier) Barneby & J.W.Grimes"
         ],
         "legendgroup": "Zygia ocumarensis (Pittier) Barneby & J.W.Grimes",
         "marker": {
          "color": "#FF97FF",
          "size": [
           317
          ],
          "sizemode": "area",
          "sizeref": 2.712396694214876,
          "symbol": "circle"
         },
         "mode": "markers",
         "name": "Zygia ocumarensis (Pittier) Barneby & J.W.Grimes",
         "orientation": "v",
         "showlegend": true,
         "type": "scatter",
         "x": [
          0.848801327
         ],
         "xaxis": "x",
         "y": [
          5.300107638
         ],
         "yaxis": "y"
        }
       ],
       "layout": {
        "legend": {
         "itemsizing": "constant",
         "title": {
          "text": "Species"
         },
         "tracegroupgap": 0
        },
        "margin": {
         "t": 60
        },
        "template": {
         "data": {
          "bar": [
           {
            "error_x": {
             "color": "#2a3f5f"
            },
            "error_y": {
             "color": "#2a3f5f"
            },
            "marker": {
             "line": {
              "color": "#E5ECF6",
              "width": 0.5
             },
             "pattern": {
              "fillmode": "overlay",
              "size": 10,
              "solidity": 0.2
             }
            },
            "type": "bar"
           }
          ],
          "barpolar": [
           {
            "marker": {
             "line": {
              "color": "#E5ECF6",
              "width": 0.5
             },
             "pattern": {
              "fillmode": "overlay",
              "size": 10,
              "solidity": 0.2
             }
            },
            "type": "barpolar"
           }
          ],
          "carpet": [
           {
            "aaxis": {
             "endlinecolor": "#2a3f5f",
             "gridcolor": "white",
             "linecolor": "white",
             "minorgridcolor": "white",
             "startlinecolor": "#2a3f5f"
            },
            "baxis": {
             "endlinecolor": "#2a3f5f",
             "gridcolor": "white",
             "linecolor": "white",
             "minorgridcolor": "white",
             "startlinecolor": "#2a3f5f"
            },
            "type": "carpet"
           }
          ],
          "choropleth": [
           {
            "colorbar": {
             "outlinewidth": 0,
             "ticks": ""
            },
            "type": "choropleth"
           }
          ],
          "contour": [
           {
            "colorbar": {
             "outlinewidth": 0,
             "ticks": ""
            },
            "colorscale": [
             [
              0,
              "#0d0887"
             ],
             [
              0.1111111111111111,
              "#46039f"
             ],
             [
              0.2222222222222222,
              "#7201a8"
             ],
             [
              0.3333333333333333,
              "#9c179e"
             ],
             [
              0.4444444444444444,
              "#bd3786"
             ],
             [
              0.5555555555555556,
              "#d8576b"
             ],
             [
              0.6666666666666666,
              "#ed7953"
             ],
             [
              0.7777777777777778,
              "#fb9f3a"
             ],
             [
              0.8888888888888888,
              "#fdca26"
             ],
             [
              1,
              "#f0f921"
             ]
            ],
            "type": "contour"
           }
          ],
          "contourcarpet": [
           {
            "colorbar": {
             "outlinewidth": 0,
             "ticks": ""
            },
            "type": "contourcarpet"
           }
          ],
          "heatmap": [
           {
            "colorbar": {
             "outlinewidth": 0,
             "ticks": ""
            },
            "colorscale": [
             [
              0,
              "#0d0887"
             ],
             [
              0.1111111111111111,
              "#46039f"
             ],
             [
              0.2222222222222222,
              "#7201a8"
             ],
             [
              0.3333333333333333,
              "#9c179e"
             ],
             [
              0.4444444444444444,
              "#bd3786"
             ],
             [
              0.5555555555555556,
              "#d8576b"
             ],
             [
              0.6666666666666666,
              "#ed7953"
             ],
             [
              0.7777777777777778,
              "#fb9f3a"
             ],
             [
              0.8888888888888888,
              "#fdca26"
             ],
             [
              1,
              "#f0f921"
             ]
            ],
            "type": "heatmap"
           }
          ],
          "heatmapgl": [
           {
            "colorbar": {
             "outlinewidth": 0,
             "ticks": ""
            },
            "colorscale": [
             [
              0,
              "#0d0887"
             ],
             [
              0.1111111111111111,
              "#46039f"
             ],
             [
              0.2222222222222222,
              "#7201a8"
             ],
             [
              0.3333333333333333,
              "#9c179e"
             ],
             [
              0.4444444444444444,
              "#bd3786"
             ],
             [
              0.5555555555555556,
              "#d8576b"
             ],
             [
              0.6666666666666666,
              "#ed7953"
             ],
             [
              0.7777777777777778,
              "#fb9f3a"
             ],
             [
              0.8888888888888888,
              "#fdca26"
             ],
             [
              1,
              "#f0f921"
             ]
            ],
            "type": "heatmapgl"
           }
          ],
          "histogram": [
           {
            "marker": {
             "pattern": {
              "fillmode": "overlay",
              "size": 10,
              "solidity": 0.2
             }
            },
            "type": "histogram"
           }
          ],
          "histogram2d": [
           {
            "colorbar": {
             "outlinewidth": 0,
             "ticks": ""
            },
            "colorscale": [
             [
              0,
              "#0d0887"
             ],
             [
              0.1111111111111111,
              "#46039f"
             ],
             [
              0.2222222222222222,
              "#7201a8"
             ],
             [
              0.3333333333333333,
              "#9c179e"
             ],
             [
              0.4444444444444444,
              "#bd3786"
             ],
             [
              0.5555555555555556,
              "#d8576b"
             ],
             [
              0.6666666666666666,
              "#ed7953"
             ],
             [
              0.7777777777777778,
              "#fb9f3a"
             ],
             [
              0.8888888888888888,
              "#fdca26"
             ],
             [
              1,
              "#f0f921"
             ]
            ],
            "type": "histogram2d"
           }
          ],
          "histogram2dcontour": [
           {
            "colorbar": {
             "outlinewidth": 0,
             "ticks": ""
            },
            "colorscale": [
             [
              0,
              "#0d0887"
             ],
             [
              0.1111111111111111,
              "#46039f"
             ],
             [
              0.2222222222222222,
              "#7201a8"
             ],
             [
              0.3333333333333333,
              "#9c179e"
             ],
             [
              0.4444444444444444,
              "#bd3786"
             ],
             [
              0.5555555555555556,
              "#d8576b"
             ],
             [
              0.6666666666666666,
              "#ed7953"
             ],
             [
              0.7777777777777778,
              "#fb9f3a"
             ],
             [
              0.8888888888888888,
              "#fdca26"
             ],
             [
              1,
              "#f0f921"
             ]
            ],
            "type": "histogram2dcontour"
           }
          ],
          "mesh3d": [
           {
            "colorbar": {
             "outlinewidth": 0,
             "ticks": ""
            },
            "type": "mesh3d"
           }
          ],
          "parcoords": [
           {
            "line": {
             "colorbar": {
              "outlinewidth": 0,
              "ticks": ""
             }
            },
            "type": "parcoords"
           }
          ],
          "pie": [
           {
            "automargin": true,
            "type": "pie"
           }
          ],
          "scatter": [
           {
            "marker": {
             "colorbar": {
              "outlinewidth": 0,
              "ticks": ""
             }
            },
            "type": "scatter"
           }
          ],
          "scatter3d": [
           {
            "line": {
             "colorbar": {
              "outlinewidth": 0,
              "ticks": ""
             }
            },
            "marker": {
             "colorbar": {
              "outlinewidth": 0,
              "ticks": ""
             }
            },
            "type": "scatter3d"
           }
          ],
          "scattercarpet": [
           {
            "marker": {
             "colorbar": {
              "outlinewidth": 0,
              "ticks": ""
             }
            },
            "type": "scattercarpet"
           }
          ],
          "scattergeo": [
           {
            "marker": {
             "colorbar": {
              "outlinewidth": 0,
              "ticks": ""
             }
            },
            "type": "scattergeo"
           }
          ],
          "scattergl": [
           {
            "marker": {
             "colorbar": {
              "outlinewidth": 0,
              "ticks": ""
             }
            },
            "type": "scattergl"
           }
          ],
          "scattermapbox": [
           {
            "marker": {
             "colorbar": {
              "outlinewidth": 0,
              "ticks": ""
             }
            },
            "type": "scattermapbox"
           }
          ],
          "scatterpolar": [
           {
            "marker": {
             "colorbar": {
              "outlinewidth": 0,
              "ticks": ""
             }
            },
            "type": "scatterpolar"
           }
          ],
          "scatterpolargl": [
           {
            "marker": {
             "colorbar": {
              "outlinewidth": 0,
              "ticks": ""
             }
            },
            "type": "scatterpolargl"
           }
          ],
          "scatterternary": [
           {
            "marker": {
             "colorbar": {
              "outlinewidth": 0,
              "ticks": ""
             }
            },
            "type": "scatterternary"
           }
          ],
          "surface": [
           {
            "colorbar": {
             "outlinewidth": 0,
             "ticks": ""
            },
            "colorscale": [
             [
              0,
              "#0d0887"
             ],
             [
              0.1111111111111111,
              "#46039f"
             ],
             [
              0.2222222222222222,
              "#7201a8"
             ],
             [
              0.3333333333333333,
              "#9c179e"
             ],
             [
              0.4444444444444444,
              "#bd3786"
             ],
             [
              0.5555555555555556,
              "#d8576b"
             ],
             [
              0.6666666666666666,
              "#ed7953"
             ],
             [
              0.7777777777777778,
              "#fb9f3a"
             ],
             [
              0.8888888888888888,
              "#fdca26"
             ],
             [
              1,
              "#f0f921"
             ]
            ],
            "type": "surface"
           }
          ],
          "table": [
           {
            "cells": {
             "fill": {
              "color": "#EBF0F8"
             },
             "line": {
              "color": "white"
             }
            },
            "header": {
             "fill": {
              "color": "#C8D4E3"
             },
             "line": {
              "color": "white"
             }
            },
            "type": "table"
           }
          ]
         },
         "layout": {
          "annotationdefaults": {
           "arrowcolor": "#2a3f5f",
           "arrowhead": 0,
           "arrowwidth": 1
          },
          "autotypenumbers": "strict",
          "coloraxis": {
           "colorbar": {
            "outlinewidth": 0,
            "ticks": ""
           }
          },
          "colorscale": {
           "diverging": [
            [
             0,
             "#8e0152"
            ],
            [
             0.1,
             "#c51b7d"
            ],
            [
             0.2,
             "#de77ae"
            ],
            [
             0.3,
             "#f1b6da"
            ],
            [
             0.4,
             "#fde0ef"
            ],
            [
             0.5,
             "#f7f7f7"
            ],
            [
             0.6,
             "#e6f5d0"
            ],
            [
             0.7,
             "#b8e186"
            ],
            [
             0.8,
             "#7fbc41"
            ],
            [
             0.9,
             "#4d9221"
            ],
            [
             1,
             "#276419"
            ]
           ],
           "sequential": [
            [
             0,
             "#0d0887"
            ],
            [
             0.1111111111111111,
             "#46039f"
            ],
            [
             0.2222222222222222,
             "#7201a8"
            ],
            [
             0.3333333333333333,
             "#9c179e"
            ],
            [
             0.4444444444444444,
             "#bd3786"
            ],
            [
             0.5555555555555556,
             "#d8576b"
            ],
            [
             0.6666666666666666,
             "#ed7953"
            ],
            [
             0.7777777777777778,
             "#fb9f3a"
            ],
            [
             0.8888888888888888,
             "#fdca26"
            ],
            [
             1,
             "#f0f921"
            ]
           ],
           "sequentialminus": [
            [
             0,
             "#0d0887"
            ],
            [
             0.1111111111111111,
             "#46039f"
            ],
            [
             0.2222222222222222,
             "#7201a8"
            ],
            [
             0.3333333333333333,
             "#9c179e"
            ],
            [
             0.4444444444444444,
             "#bd3786"
            ],
            [
             0.5555555555555556,
             "#d8576b"
            ],
            [
             0.6666666666666666,
             "#ed7953"
            ],
            [
             0.7777777777777778,
             "#fb9f3a"
            ],
            [
             0.8888888888888888,
             "#fdca26"
            ],
            [
             1,
             "#f0f921"
            ]
           ]
          },
          "colorway": [
           "#636efa",
           "#EF553B",
           "#00cc96",
           "#ab63fa",
           "#FFA15A",
           "#19d3f3",
           "#FF6692",
           "#B6E880",
           "#FF97FF",
           "#FECB52"
          ],
          "font": {
           "color": "#2a3f5f"
          },
          "geo": {
           "bgcolor": "white",
           "lakecolor": "white",
           "landcolor": "#E5ECF6",
           "showlakes": true,
           "showland": true,
           "subunitcolor": "white"
          },
          "hoverlabel": {
           "align": "left"
          },
          "hovermode": "closest",
          "mapbox": {
           "style": "light"
          },
          "paper_bgcolor": "white",
          "plot_bgcolor": "#E5ECF6",
          "polar": {
           "angularaxis": {
            "gridcolor": "white",
            "linecolor": "white",
            "ticks": ""
           },
           "bgcolor": "#E5ECF6",
           "radialaxis": {
            "gridcolor": "white",
            "linecolor": "white",
            "ticks": ""
           }
          },
          "scene": {
           "xaxis": {
            "backgroundcolor": "#E5ECF6",
            "gridcolor": "white",
            "gridwidth": 2,
            "linecolor": "white",
            "showbackground": true,
            "ticks": "",
            "zerolinecolor": "white"
           },
           "yaxis": {
            "backgroundcolor": "#E5ECF6",
            "gridcolor": "white",
            "gridwidth": 2,
            "linecolor": "white",
            "showbackground": true,
            "ticks": "",
            "zerolinecolor": "white"
           },
           "zaxis": {
            "backgroundcolor": "#E5ECF6",
            "gridcolor": "white",
            "gridwidth": 2,
            "linecolor": "white",
            "showbackground": true,
            "ticks": "",
            "zerolinecolor": "white"
           }
          },
          "shapedefaults": {
           "line": {
            "color": "#2a3f5f"
           }
          },
          "ternary": {
           "aaxis": {
            "gridcolor": "white",
            "linecolor": "white",
            "ticks": ""
           },
           "baxis": {
            "gridcolor": "white",
            "linecolor": "white",
            "ticks": ""
           },
           "bgcolor": "#E5ECF6",
           "caxis": {
            "gridcolor": "white",
            "linecolor": "white",
            "ticks": ""
           }
          },
          "title": {
           "x": 0.05
          },
          "xaxis": {
           "automargin": true,
           "gridcolor": "white",
           "linecolor": "white",
           "ticks": "",
           "title": {
            "standoff": 15
           },
           "zerolinecolor": "white",
           "zerolinewidth": 2
          },
          "yaxis": {
           "automargin": true,
           "gridcolor": "white",
           "linecolor": "white",
           "ticks": "",
           "title": {
            "standoff": 15
           },
           "zerolinecolor": "white",
           "zerolinewidth": 2
          }
         }
        },
        "transition": {
         "duration": 500
        },
        "xaxis": {
         "anchor": "y",
         "domain": [
          0,
          1
         ],
         "title": {
          "text": "VOL_COM"
         }
        },
        "yaxis": {
         "anchor": "x",
         "domain": [
          0,
          1
         ],
         "title": {
          "text": "CARB_INDIV"
         }
        }
       }
      }
     },
     "metadata": {},
     "output_type": "display_data"
    }
   ],
   "source": [
    "figsc_v = graf_scatt(dv)\n",
    "figsc_v.show()\n",
    "#plt(figsc_v)"
   ]
  },
  {
   "cell_type": "code",
   "execution_count": 34,
   "metadata": {},
   "outputs": [],
   "source": [
    "def graf_heat(DataFrame):\n",
    "    fig = go.Figure()\n",
    "    fig = px.density_heatmap(DataFrame, x=\"Key1\", y=\"Key1\",z=\"CARB_INDIV\")\n",
    "    fig.update_layout(transition_duration=500)\n",
    "    return fig"
   ]
  },
  {
   "cell_type": "code",
   "execution_count": null,
   "metadata": {},
   "outputs": [],
   "source": []
  }
 ],
 "metadata": {
  "kernelspec": {
   "display_name": "Python 3.9.12 ('base')",
   "language": "python",
   "name": "python3"
  },
  "language_info": {
   "codemirror_mode": {
    "name": "ipython",
    "version": 3
   },
   "file_extension": ".py",
   "mimetype": "text/x-python",
   "name": "python",
   "nbconvert_exporter": "python",
   "pygments_lexer": "ipython3",
   "version": "3.9.12"
  },
  "orig_nbformat": 4,
  "vscode": {
   "interpreter": {
    "hash": "82a221401b88aaf6e5f57ee7bedcbd75c4114103ebfad44d5c146cffcdea6559"
   }
  }
 },
 "nbformat": 4,
 "nbformat_minor": 2
}
